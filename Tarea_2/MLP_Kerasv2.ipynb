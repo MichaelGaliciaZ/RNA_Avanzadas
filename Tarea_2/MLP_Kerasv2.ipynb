{
  "cells": [
    {
      "cell_type": "markdown",
      "id": "1e215834",
      "metadata": {
        "id": "1e215834"
      },
      "source": [
        "# Tarea 2: Red Neuronal Perceptrón Multicapa con Keras"
      ]
    },
    {
      "cell_type": "markdown",
      "id": "63bc1cb0",
      "metadata": {
        "id": "63bc1cb0"
      },
      "source": [
        "## Cargamos las librerias"
      ]
    },
    {
      "cell_type": "code",
      "execution_count": null,
      "id": "5265182e",
      "metadata": {
        "id": "5265182e",
        "colab": {
          "base_uri": "https://localhost:8080/"
        },
        "outputId": "4bf90f7b-1a4a-4cc7-d689-ecff2103400c"
      },
      "outputs": [
        {
          "output_type": "stream",
          "name": "stdout",
          "text": [
            "['Solarize_Light2', '_classic_test_patch', 'bmh', 'classic', 'dark_background', 'fast', 'fivethirtyeight', 'ggplot', 'grayscale', 'seaborn', 'seaborn-bright', 'seaborn-colorblind', 'seaborn-dark', 'seaborn-dark-palette', 'seaborn-darkgrid', 'seaborn-deep', 'seaborn-muted', 'seaborn-notebook', 'seaborn-paper', 'seaborn-pastel', 'seaborn-poster', 'seaborn-talk', 'seaborn-ticks', 'seaborn-white', 'seaborn-whitegrid', 'tableau-colorblind10']\n"
          ]
        }
      ],
      "source": [
        "import tensorflow as tf\n",
        "import numpy as np\n",
        "import matplotlib.pyplot as plt\n",
        "from keras import models\n",
        "from keras.layers import Dense\n",
        "from keras.layers import Dropout\n",
        "from sklearn.preprocessing import LabelEncoder\n",
        "from sklearn.preprocessing import OneHotEncoder\n",
        "from sklearn.model_selection import train_test_split\n",
        "\n",
        "from google.colab import files\n",
        "print(plt.style.available)\n",
        "%matplotlib inline\n"
      ]
    },
    {
      "cell_type": "code",
      "source": [
        "plt.style.use('seaborn-paper')"
      ],
      "metadata": {
        "id": "yiFiOQQUThUe"
      },
      "id": "yiFiOQQUThUe",
      "execution_count": null,
      "outputs": []
    },
    {
      "cell_type": "code",
      "source": [
        "!nvidia-smi"
      ],
      "metadata": {
        "colab": {
          "base_uri": "https://localhost:8080/"
        },
        "id": "0frGcq3XBlOa",
        "outputId": "0657bf90-8464-48a9-a9d0-badec9be9171"
      },
      "id": "0frGcq3XBlOa",
      "execution_count": null,
      "outputs": [
        {
          "output_type": "stream",
          "name": "stdout",
          "text": [
            "Tue Sep 27 18:35:09 2022       \n",
            "+-----------------------------------------------------------------------------+\n",
            "| NVIDIA-SMI 460.32.03    Driver Version: 460.32.03    CUDA Version: 11.2     |\n",
            "|-------------------------------+----------------------+----------------------+\n",
            "| GPU  Name        Persistence-M| Bus-Id        Disp.A | Volatile Uncorr. ECC |\n",
            "| Fan  Temp  Perf  Pwr:Usage/Cap|         Memory-Usage | GPU-Util  Compute M. |\n",
            "|                               |                      |               MIG M. |\n",
            "|===============================+======================+======================|\n",
            "|   0  Tesla T4            Off  | 00000000:00:04.0 Off |                    0 |\n",
            "| N/A   71C    P0    32W /  70W |   1486MiB / 15109MiB |      0%      Default |\n",
            "|                               |                      |                  N/A |\n",
            "+-------------------------------+----------------------+----------------------+\n",
            "                                                                               \n",
            "+-----------------------------------------------------------------------------+\n",
            "| Processes:                                                                  |\n",
            "|  GPU   GI   CI        PID   Type   Process name                  GPU Memory |\n",
            "|        ID   ID                                                   Usage      |\n",
            "|=============================================================================|\n",
            "+-----------------------------------------------------------------------------+\n"
          ]
        }
      ]
    },
    {
      "cell_type": "code",
      "execution_count": null,
      "id": "967b2a79",
      "metadata": {
        "id": "967b2a79"
      },
      "outputs": [],
      "source": [
        "from tensorflow.keras.datasets.fashion_mnist import load_data\n",
        "fashion_mnist = load_data()\n"
      ]
    },
    {
      "cell_type": "markdown",
      "id": "3055152f",
      "metadata": {
        "id": "3055152f"
      },
      "source": [
        "## Extraemos los datos"
      ]
    },
    {
      "cell_type": "code",
      "execution_count": null,
      "id": "4403262b",
      "metadata": {
        "id": "4403262b"
      },
      "outputs": [],
      "source": [
        "(x_train, y_train), (x_test, y_test) = fashion_mnist\n"
      ]
    },
    {
      "cell_type": "markdown",
      "id": "69bc1741",
      "metadata": {
        "id": "69bc1741"
      },
      "source": [
        "## Union de Datos\n",
        "\n",
        "El dataset Fashion_Mnist cuenta con 60,000 imagenes de entrenamiento y 10,000 imagenes de prueba; Para los fines de esta tarea, se hara una división del dataset con una relación 30-70, es decir, %30 del dataset será destinado a test y %70 a entrenamiento."
      ]
    },
    {
      "cell_type": "code",
      "execution_count": null,
      "id": "af0e5507",
      "metadata": {
        "id": "af0e5507"
      },
      "outputs": [],
      "source": [
        "X = np.concatenate((x_train, x_test))\n",
        "Y = np.concatenate((y_train, y_test))\n"
      ]
    },
    {
      "cell_type": "code",
      "execution_count": null,
      "id": "b596941e",
      "metadata": {
        "id": "b596941e"
      },
      "outputs": [],
      "source": [
        "X = X.reshape(len(X), 28*28).astype('float32')\n",
        "X=X/255.0\n"
      ]
    },
    {
      "cell_type": "markdown",
      "id": "51f0cd93",
      "metadata": {
        "id": "51f0cd93"
      },
      "source": [
        "## Codificación One Hot Encoding \n",
        "\n",
        "Las clases se representan con etiquetas numericas en el rango de $0,\\cdots,9$:\n",
        "\n",
        "<div align=\"center\">\n",
        "\n",
        "| Identificador \t| Clase \t|\n",
        "|---\t|---\t|\n",
        "| 0 \t| T-shirt/top \t|\n",
        "| 1 \t| Trouser \t|\n",
        "| 2 \t| Pullover \t|\n",
        "| 3 \t| Dress \t|\n",
        "| 4 \t| Coat \t|\n",
        "| 5 \t| Sandal \t|\n",
        "| 6 \t| Shirt \t|\n",
        "| 7 \t| Sneaker \t|\n",
        "| 8 \t| Bag \t|\n",
        "| 9 \t| Ankle Boot \t|\n",
        "\n",
        "</div>\n",
        "\n",
        "Debido al identificador puede (o no) realizarse una codificación del tipo One Hot. Esta codificación permite que el modelo neuronal interprete la distancia entre identificadores de la misma forma, es decir, en un mal aprendizaje puede asociar la clase \"Trouser\" con la clase \"Pullover\" por que los identificadores son cercanos entre si, de forma comtraria es posible que interprete una relación (erronea) entre los identificadores mas separadas, lo cual no es relevante.\n",
        "\n",
        "A fin de observar el efecto de la codificación se realizaran dos modelos: uno con codificación ONE HOT y otro sin ella.\n"
      ]
    },
    {
      "cell_type": "code",
      "execution_count": null,
      "id": "df244be9",
      "metadata": {
        "id": "df244be9"
      },
      "outputs": [],
      "source": [
        "ONE_HOT_ENC = OneHotEncoder(sparse=False)\n",
        "Y_OHE = Y.reshape(len(Y), 1)\n",
        "Y_OHE = ONE_HOT_ENC.fit_transform(Y_OHE)\n"
      ]
    },
    {
      "cell_type": "code",
      "execution_count": null,
      "id": "6ef40689",
      "metadata": {
        "colab": {
          "base_uri": "https://localhost:8080/"
        },
        "id": "6ef40689",
        "outputId": "a58fc5cf-782e-488e-c691-f72fdae9d260"
      },
      "outputs": [
        {
          "output_type": "stream",
          "name": "stdout",
          "text": [
            "Las dimensiones del vector de etiquetas son (70000,)\n",
            "Los primeros 10 elementos son: \n",
            " [9 0 0 3 0 2 7 2 5 5]\n"
          ]
        }
      ],
      "source": [
        "print(\"Las dimensiones del vector de etiquetas son {}\".format(Y.shape))\n",
        "print(\"Los primeros 10 elementos son: \\n {}\".format(Y[0:10]))\n"
      ]
    },
    {
      "cell_type": "code",
      "execution_count": null,
      "id": "affde012",
      "metadata": {
        "colab": {
          "base_uri": "https://localhost:8080/"
        },
        "id": "affde012",
        "outputId": "9dc56391-a467-4dae-93fa-d05b59857623"
      },
      "outputs": [
        {
          "output_type": "stream",
          "name": "stdout",
          "text": [
            "Los primeros 10 elementos codificados son: \n",
            " [[0. 0. 0. 0. 0. 0. 0. 0. 0. 1.]\n",
            " [1. 0. 0. 0. 0. 0. 0. 0. 0. 0.]\n",
            " [1. 0. 0. 0. 0. 0. 0. 0. 0. 0.]\n",
            " [0. 0. 0. 1. 0. 0. 0. 0. 0. 0.]\n",
            " [1. 0. 0. 0. 0. 0. 0. 0. 0. 0.]\n",
            " [0. 0. 1. 0. 0. 0. 0. 0. 0. 0.]\n",
            " [0. 0. 0. 0. 0. 0. 0. 1. 0. 0.]\n",
            " [0. 0. 1. 0. 0. 0. 0. 0. 0. 0.]\n",
            " [0. 0. 0. 0. 0. 1. 0. 0. 0. 0.]\n",
            " [0. 0. 0. 0. 0. 1. 0. 0. 0. 0.]]\n"
          ]
        }
      ],
      "source": [
        "print(\"Los primeros 10 elementos codificados son: \\n {}\".format(Y_OHE[0:10]))\n"
      ]
    },
    {
      "cell_type": "code",
      "source": [
        "x_train, x_test, y_train, y_test = train_test_split(X, Y_OHE, train_size=0.9, random_state=222)\n",
        "x_train,x_val,y_train,y_val=train_test_split(x_train, y_train, train_size=0.7, random_state=333)\n",
        "\n",
        "print(\"Tamaño del set de entrenamiento: {} elementos\".format(len(x_train)))\n",
        "print(\"Tamaño del set de validación: {} elementos\".format(len(x_val)))\n",
        "print(\"Tamaño del set de prueba: {} elementos\".format(len(x_test)))"
      ],
      "metadata": {
        "colab": {
          "base_uri": "https://localhost:8080/"
        },
        "id": "-Aw0NU8tonN0",
        "outputId": "a4d5f399-c049-44f9-a972-54751ad47dee"
      },
      "id": "-Aw0NU8tonN0",
      "execution_count": null,
      "outputs": [
        {
          "output_type": "stream",
          "name": "stdout",
          "text": [
            "Tamaño del set de entrenamiento: 44100 elementos\n",
            "Tamaño del set de validación: 18900 elementos\n",
            "Tamaño del set de prueba: 7000 elementos\n"
          ]
        }
      ]
    },
    {
      "cell_type": "markdown",
      "id": "b556b83e",
      "metadata": {
        "id": "b556b83e"
      },
      "source": [
        "## Arquitectura de el modelo\n",
        "\n"
      ]
    },
    {
      "cell_type": "code",
      "execution_count": null,
      "metadata": {
        "id": "d1afbe56",
        "colab": {
          "base_uri": "https://localhost:8080/"
        },
        "outputId": "5389cd28-e695-45ec-8a99-c4b205401f2a"
      },
      "outputs": [
        {
          "output_type": "stream",
          "name": "stdout",
          "text": [
            "Model: \"sequential_7\"\n",
            "_________________________________________________________________\n",
            " Layer (type)                Output Shape              Param #   \n",
            "=================================================================\n",
            " dense_30 (Dense)            (None, 784)               615440    \n",
            "                                                                 \n",
            " dense_31 (Dense)            (None, 650)               510250    \n",
            "                                                                 \n",
            " dense_32 (Dense)            (None, 500)               325500    \n",
            "                                                                 \n",
            " dense_33 (Dense)            (None, 10)                5010      \n",
            "                                                                 \n",
            "=================================================================\n",
            "Total params: 1,456,200\n",
            "Trainable params: 1,456,200\n",
            "Non-trainable params: 0\n",
            "_________________________________________________________________\n"
          ]
        }
      ],
      "source": [
        "MLP_1 = tf.keras.Sequential()\n",
        "\n",
        "MLP_1.add(Dense(784, activation='relu', input_shape=(28*28,)))\n",
        "#MLP_1.add(Dropout(0.15))\n",
        "MLP_1.add(Dense(650, activation='relu'))\n",
        "MLP_1.add(Dense(500, activation='relu'))\n",
        "MLP_1.add(Dense(10,activation='softmax'))\n",
        "\n",
        "MLP_1.summary()\n"
      ],
      "id": "d1afbe56"
    },
    {
      "cell_type": "markdown",
      "source": [
        "### Optimizador"
      ],
      "metadata": {
        "id": "U_JQf2cAoMsX"
      },
      "id": "U_JQf2cAoMsX"
    },
    {
      "cell_type": "code",
      "source": [
        "optimizer=tf.keras.optimizers.SGD(lr=0.001,decay=1e-6, momentum=0.9, nesterov=False)\n",
        "MLP_1.compile(optimizer=optimizer,\n",
        "            loss='categorical_crossentropy',\n",
        "            metrics=['accuracy'])"
      ],
      "metadata": {
        "colab": {
          "base_uri": "https://localhost:8080/"
        },
        "id": "9ZpUNNxSoMbt",
        "outputId": "be244d64-df0a-4dea-8281-2b7696ee86a5"
      },
      "id": "9ZpUNNxSoMbt",
      "execution_count": null,
      "outputs": [
        {
          "output_type": "stream",
          "name": "stderr",
          "text": [
            "/usr/local/lib/python3.7/dist-packages/keras/optimizer_v2/gradient_descent.py:102: UserWarning: The `lr` argument is deprecated, use `learning_rate` instead.\n",
            "  super(SGD, self).__init__(name, **kwargs)\n"
          ]
        }
      ]
    },
    {
      "cell_type": "code",
      "source": [
        "checkpoint_filepath = 'tmp/checkpoint'\n",
        "model_checkpoint_callback = tf.keras.callbacks.ModelCheckpoint(\n",
        "    filepath=checkpoint_filepath,\n",
        "    save_weights_only=True,\n",
        "    monitor='val_accuracy',\n",
        "    mode='max',\n",
        "    save_best_only=True,\n",
        "    initial_value_threshold=0.85)"
      ],
      "metadata": {
        "id": "E5PTJ9U_rv3V"
      },
      "id": "E5PTJ9U_rv3V",
      "execution_count": null,
      "outputs": []
    },
    {
      "cell_type": "markdown",
      "source": [
        "## Entrenamiento"
      ],
      "metadata": {
        "id": "_OIlvXDNaFNf"
      },
      "id": "_OIlvXDNaFNf"
    },
    {
      "cell_type": "code",
      "source": [
        "HIST = MLP_1.fit(x_train, y_train,\n",
        "                batch_size=360,\n",
        "                epochs=70,\n",
        "                verbose=1,\n",
        "                validation_data=(x_val, y_val),\n",
        "                callbacks=[model_checkpoint_callback])\n"
      ],
      "metadata": {
        "colab": {
          "base_uri": "https://localhost:8080/"
        },
        "id": "obgn3WURoYRm",
        "outputId": "c22daae3-1272-40df-d362-6cdee2dc71c2"
      },
      "id": "obgn3WURoYRm",
      "execution_count": null,
      "outputs": [
        {
          "output_type": "stream",
          "name": "stdout",
          "text": [
            "Epoch 1/70\n",
            "123/123 [==============================] - 1s 9ms/step - loss: 1.6855 - accuracy: 0.5410 - val_loss: 1.1502 - val_accuracy: 0.6629\n",
            "Epoch 2/70\n",
            "123/123 [==============================] - 1s 6ms/step - loss: 0.9451 - accuracy: 0.7027 - val_loss: 0.8319 - val_accuracy: 0.7203\n",
            "Epoch 3/70\n",
            "123/123 [==============================] - 1s 5ms/step - loss: 0.7582 - accuracy: 0.7500 - val_loss: 0.7214 - val_accuracy: 0.7604\n",
            "Epoch 4/70\n",
            "123/123 [==============================] - 1s 5ms/step - loss: 0.6739 - accuracy: 0.7784 - val_loss: 0.6565 - val_accuracy: 0.7866\n",
            "Epoch 5/70\n",
            "123/123 [==============================] - 1s 5ms/step - loss: 0.6191 - accuracy: 0.7968 - val_loss: 0.6133 - val_accuracy: 0.7968\n",
            "Epoch 6/70\n",
            "123/123 [==============================] - 1s 7ms/step - loss: 0.5797 - accuracy: 0.8092 - val_loss: 0.5819 - val_accuracy: 0.8056\n",
            "Epoch 7/70\n",
            "123/123 [==============================] - 1s 6ms/step - loss: 0.5507 - accuracy: 0.8171 - val_loss: 0.5582 - val_accuracy: 0.8119\n",
            "Epoch 8/70\n",
            "123/123 [==============================] - 1s 5ms/step - loss: 0.5284 - accuracy: 0.8231 - val_loss: 0.5386 - val_accuracy: 0.8196\n",
            "Epoch 9/70\n",
            "123/123 [==============================] - 1s 5ms/step - loss: 0.5111 - accuracy: 0.8279 - val_loss: 0.5263 - val_accuracy: 0.8234\n",
            "Epoch 10/70\n",
            "123/123 [==============================] - 1s 5ms/step - loss: 0.4965 - accuracy: 0.8320 - val_loss: 0.5103 - val_accuracy: 0.8269\n",
            "Epoch 11/70\n",
            "123/123 [==============================] - 1s 5ms/step - loss: 0.4859 - accuracy: 0.8335 - val_loss: 0.5007 - val_accuracy: 0.8315\n",
            "Epoch 12/70\n",
            "123/123 [==============================] - 1s 5ms/step - loss: 0.4752 - accuracy: 0.8371 - val_loss: 0.4898 - val_accuracy: 0.8350\n",
            "Epoch 13/70\n",
            "123/123 [==============================] - 1s 5ms/step - loss: 0.4668 - accuracy: 0.8390 - val_loss: 0.4838 - val_accuracy: 0.8353\n",
            "Epoch 14/70\n",
            "123/123 [==============================] - 1s 5ms/step - loss: 0.4606 - accuracy: 0.8417 - val_loss: 0.4826 - val_accuracy: 0.8339\n",
            "Epoch 15/70\n",
            "123/123 [==============================] - 1s 5ms/step - loss: 0.4524 - accuracy: 0.8445 - val_loss: 0.4701 - val_accuracy: 0.8375\n",
            "Epoch 16/70\n",
            "123/123 [==============================] - 1s 5ms/step - loss: 0.4456 - accuracy: 0.8456 - val_loss: 0.4678 - val_accuracy: 0.8377\n",
            "Epoch 17/70\n",
            "123/123 [==============================] - 1s 7ms/step - loss: 0.4409 - accuracy: 0.8473 - val_loss: 0.4611 - val_accuracy: 0.8407\n",
            "Epoch 18/70\n",
            "123/123 [==============================] - 1s 5ms/step - loss: 0.4369 - accuracy: 0.8488 - val_loss: 0.4535 - val_accuracy: 0.8451\n",
            "Epoch 19/70\n",
            "123/123 [==============================] - 1s 7ms/step - loss: 0.4310 - accuracy: 0.8499 - val_loss: 0.4505 - val_accuracy: 0.8439\n",
            "Epoch 20/70\n",
            "123/123 [==============================] - 1s 5ms/step - loss: 0.4255 - accuracy: 0.8520 - val_loss: 0.4468 - val_accuracy: 0.8466\n",
            "Epoch 21/70\n",
            "123/123 [==============================] - 1s 5ms/step - loss: 0.4229 - accuracy: 0.8528 - val_loss: 0.4437 - val_accuracy: 0.8468\n",
            "Epoch 22/70\n",
            "123/123 [==============================] - 1s 5ms/step - loss: 0.4173 - accuracy: 0.8543 - val_loss: 0.4398 - val_accuracy: 0.8472\n",
            "Epoch 23/70\n",
            "123/123 [==============================] - 1s 6ms/step - loss: 0.4141 - accuracy: 0.8560 - val_loss: 0.4354 - val_accuracy: 0.8503\n",
            "Epoch 24/70\n",
            "123/123 [==============================] - 1s 6ms/step - loss: 0.4095 - accuracy: 0.8578 - val_loss: 0.4315 - val_accuracy: 0.8517\n",
            "Epoch 25/70\n",
            "123/123 [==============================] - 1s 6ms/step - loss: 0.4059 - accuracy: 0.8595 - val_loss: 0.4296 - val_accuracy: 0.8517\n",
            "Epoch 26/70\n",
            "123/123 [==============================] - 1s 6ms/step - loss: 0.4027 - accuracy: 0.8601 - val_loss: 0.4264 - val_accuracy: 0.8541\n",
            "Epoch 27/70\n",
            "123/123 [==============================] - 1s 6ms/step - loss: 0.3992 - accuracy: 0.8620 - val_loss: 0.4234 - val_accuracy: 0.8543\n",
            "Epoch 28/70\n",
            "123/123 [==============================] - 1s 6ms/step - loss: 0.3975 - accuracy: 0.8622 - val_loss: 0.4322 - val_accuracy: 0.8498\n",
            "Epoch 29/70\n",
            "123/123 [==============================] - 1s 8ms/step - loss: 0.3948 - accuracy: 0.8632 - val_loss: 0.4234 - val_accuracy: 0.8532\n",
            "Epoch 30/70\n",
            "123/123 [==============================] - 1s 7ms/step - loss: 0.3926 - accuracy: 0.8638 - val_loss: 0.4208 - val_accuracy: 0.8525\n",
            "Epoch 31/70\n",
            "123/123 [==============================] - 1s 6ms/step - loss: 0.3916 - accuracy: 0.8633 - val_loss: 0.4314 - val_accuracy: 0.8511\n",
            "Epoch 32/70\n",
            "123/123 [==============================] - 1s 6ms/step - loss: 0.3869 - accuracy: 0.8641 - val_loss: 0.4179 - val_accuracy: 0.8561\n",
            "Epoch 33/70\n",
            "123/123 [==============================] - 1s 6ms/step - loss: 0.3838 - accuracy: 0.8668 - val_loss: 0.4101 - val_accuracy: 0.8603\n",
            "Epoch 34/70\n",
            "123/123 [==============================] - 1s 5ms/step - loss: 0.3806 - accuracy: 0.8663 - val_loss: 0.4081 - val_accuracy: 0.8584\n",
            "Epoch 35/70\n",
            "123/123 [==============================] - 1s 6ms/step - loss: 0.3791 - accuracy: 0.8672 - val_loss: 0.4074 - val_accuracy: 0.8608\n",
            "Epoch 36/70\n",
            "123/123 [==============================] - 1s 6ms/step - loss: 0.3768 - accuracy: 0.8675 - val_loss: 0.4036 - val_accuracy: 0.8614\n",
            "Epoch 37/70\n",
            "123/123 [==============================] - 1s 5ms/step - loss: 0.3749 - accuracy: 0.8700 - val_loss: 0.4054 - val_accuracy: 0.8584\n",
            "Epoch 38/70\n",
            "123/123 [==============================] - 1s 5ms/step - loss: 0.3721 - accuracy: 0.8699 - val_loss: 0.4058 - val_accuracy: 0.8600\n",
            "Epoch 39/70\n",
            "123/123 [==============================] - 1s 6ms/step - loss: 0.3699 - accuracy: 0.8711 - val_loss: 0.4018 - val_accuracy: 0.8616\n",
            "Epoch 40/70\n",
            "123/123 [==============================] - 1s 6ms/step - loss: 0.3682 - accuracy: 0.8715 - val_loss: 0.3974 - val_accuracy: 0.8626\n",
            "Epoch 41/70\n",
            "123/123 [==============================] - 1s 5ms/step - loss: 0.3685 - accuracy: 0.8718 - val_loss: 0.4004 - val_accuracy: 0.8623\n",
            "Epoch 42/70\n",
            "123/123 [==============================] - 1s 6ms/step - loss: 0.3655 - accuracy: 0.8718 - val_loss: 0.3943 - val_accuracy: 0.8639\n",
            "Epoch 43/70\n",
            "123/123 [==============================] - 1s 6ms/step - loss: 0.3620 - accuracy: 0.8733 - val_loss: 0.3917 - val_accuracy: 0.8660\n",
            "Epoch 44/70\n",
            "123/123 [==============================] - 1s 5ms/step - loss: 0.3593 - accuracy: 0.8751 - val_loss: 0.3911 - val_accuracy: 0.8650\n",
            "Epoch 45/70\n",
            "123/123 [==============================] - 1s 6ms/step - loss: 0.3583 - accuracy: 0.8743 - val_loss: 0.3893 - val_accuracy: 0.8668\n",
            "Epoch 46/70\n",
            "123/123 [==============================] - 1s 7ms/step - loss: 0.3566 - accuracy: 0.8766 - val_loss: 0.3874 - val_accuracy: 0.8667\n",
            "Epoch 47/70\n",
            "123/123 [==============================] - 1s 5ms/step - loss: 0.3563 - accuracy: 0.8765 - val_loss: 0.3881 - val_accuracy: 0.8661\n",
            "Epoch 48/70\n",
            "123/123 [==============================] - 1s 5ms/step - loss: 0.3542 - accuracy: 0.8761 - val_loss: 0.3871 - val_accuracy: 0.8665\n",
            "Epoch 49/70\n",
            "123/123 [==============================] - 1s 7ms/step - loss: 0.3510 - accuracy: 0.8779 - val_loss: 0.3844 - val_accuracy: 0.8671\n",
            "Epoch 50/70\n",
            "123/123 [==============================] - 1s 6ms/step - loss: 0.3490 - accuracy: 0.8791 - val_loss: 0.3828 - val_accuracy: 0.8679\n",
            "Epoch 51/70\n",
            "123/123 [==============================] - 1s 5ms/step - loss: 0.3485 - accuracy: 0.8781 - val_loss: 0.3876 - val_accuracy: 0.8663\n",
            "Epoch 52/70\n",
            "123/123 [==============================] - 1s 5ms/step - loss: 0.3458 - accuracy: 0.8789 - val_loss: 0.3858 - val_accuracy: 0.8663\n",
            "Epoch 53/70\n",
            "123/123 [==============================] - 1s 6ms/step - loss: 0.3463 - accuracy: 0.8786 - val_loss: 0.3784 - val_accuracy: 0.8707\n",
            "Epoch 54/70\n",
            "123/123 [==============================] - 1s 7ms/step - loss: 0.3425 - accuracy: 0.8806 - val_loss: 0.3819 - val_accuracy: 0.8688\n",
            "Epoch 55/70\n",
            "123/123 [==============================] - 1s 5ms/step - loss: 0.3427 - accuracy: 0.8815 - val_loss: 0.3779 - val_accuracy: 0.8681\n",
            "Epoch 56/70\n",
            "123/123 [==============================] - 1s 6ms/step - loss: 0.3399 - accuracy: 0.8817 - val_loss: 0.3742 - val_accuracy: 0.8721\n",
            "Epoch 57/70\n",
            "123/123 [==============================] - 1s 5ms/step - loss: 0.3370 - accuracy: 0.8822 - val_loss: 0.3762 - val_accuracy: 0.8699\n",
            "Epoch 58/70\n",
            "123/123 [==============================] - 1s 5ms/step - loss: 0.3376 - accuracy: 0.8824 - val_loss: 0.3741 - val_accuracy: 0.8711\n",
            "Epoch 59/70\n",
            "123/123 [==============================] - 1s 7ms/step - loss: 0.3362 - accuracy: 0.8829 - val_loss: 0.3750 - val_accuracy: 0.8704\n",
            "Epoch 60/70\n",
            "123/123 [==============================] - 1s 5ms/step - loss: 0.3331 - accuracy: 0.8837 - val_loss: 0.3727 - val_accuracy: 0.8704\n",
            "Epoch 61/70\n",
            "123/123 [==============================] - 1s 5ms/step - loss: 0.3315 - accuracy: 0.8838 - val_loss: 0.3733 - val_accuracy: 0.8700\n",
            "Epoch 62/70\n",
            "123/123 [==============================] - 1s 5ms/step - loss: 0.3325 - accuracy: 0.8845 - val_loss: 0.3870 - val_accuracy: 0.8652\n",
            "Epoch 63/70\n",
            "123/123 [==============================] - 1s 6ms/step - loss: 0.3291 - accuracy: 0.8856 - val_loss: 0.3681 - val_accuracy: 0.8738\n",
            "Epoch 64/70\n",
            "123/123 [==============================] - 1s 5ms/step - loss: 0.3260 - accuracy: 0.8864 - val_loss: 0.3790 - val_accuracy: 0.8681\n",
            "Epoch 65/70\n",
            "123/123 [==============================] - 1s 5ms/step - loss: 0.3263 - accuracy: 0.8861 - val_loss: 0.3652 - val_accuracy: 0.8737\n",
            "Epoch 66/70\n",
            "123/123 [==============================] - 1s 5ms/step - loss: 0.3251 - accuracy: 0.8873 - val_loss: 0.3699 - val_accuracy: 0.8713\n",
            "Epoch 67/70\n",
            "123/123 [==============================] - 1s 6ms/step - loss: 0.3231 - accuracy: 0.8871 - val_loss: 0.3658 - val_accuracy: 0.8735\n",
            "Epoch 68/70\n",
            "123/123 [==============================] - 1s 6ms/step - loss: 0.3220 - accuracy: 0.8883 - val_loss: 0.3645 - val_accuracy: 0.8738\n",
            "Epoch 69/70\n",
            "123/123 [==============================] - 1s 5ms/step - loss: 0.3211 - accuracy: 0.8886 - val_loss: 0.3760 - val_accuracy: 0.8702\n",
            "Epoch 70/70\n",
            "123/123 [==============================] - 1s 5ms/step - loss: 0.3188 - accuracy: 0.8890 - val_loss: 0.3658 - val_accuracy: 0.8725\n"
          ]
        }
      ]
    },
    {
      "cell_type": "markdown",
      "source": [
        "### Curvas de aprendizaje"
      ],
      "metadata": {
        "id": "EtwStLhDaJ75"
      },
      "id": "EtwStLhDaJ75"
    },
    {
      "cell_type": "code",
      "source": [
        "plt.figure(figsize=(10,8))\n",
        "plt.plot(HIST.history['accuracy'])\n",
        "plt.plot(HIST.history['val_accuracy'])\n",
        "plt.title(\"Accuracy\")\n",
        "plt.xlabel(\"Epochs\")\n",
        "plt.legend([\"Train Acc\", \"Val Acc\"])\n",
        "plt.xticks(np.arange(0,75,10))\n",
        "plt.grid()\n",
        "plt.savefig(\"Accuracy_Plot.png\",dpi=300,bbox_inches='tight')\n",
        "plt.show()"
      ],
      "metadata": {
        "colab": {
          "base_uri": "https://localhost:8080/",
          "height": 511
        },
        "id": "0Juz-38SwZvJ",
        "outputId": "1471cbca-3ae8-4842-943c-694a4edf760a"
      },
      "id": "0Juz-38SwZvJ",
      "execution_count": null,
      "outputs": [
        {
          "output_type": "display_data",
          "data": {
            "text/plain": [
              "<Figure size 720x576 with 1 Axes>"
            ],
            "image/png": "[encoded data removed]"
          },
          "metadata": {
            "needs_background": "light"
          }
        }
      ]
    },
    {
      "cell_type": "code",
      "source": [
        "plt.figure(figsize=(10,8))\n",
        "plt.plot(HIST.history['loss'])\n",
        "plt.plot(HIST.history['val_loss'])\n",
        "plt.title(\"Loss\")\n",
        "plt.xlabel(\"Epochs\")\n",
        "plt.legend([\"Train Loss\", \"Val Loss\"])\n",
        "\n",
        "plt.xticks(np.arange(0,75,10))\n",
        "plt.grid()\n",
        "plt.savefig(\"Loss_Plot.png\",dpi=300,bbox_inches='tight')\n",
        "plt.show()"
      ],
      "metadata": {
        "colab": {
          "base_uri": "https://localhost:8080/",
          "height": 511
        },
        "id": "4RuuuB7gwlz6",
        "outputId": "cb14e0f8-a15d-4411-e274-80d67382ab48"
      },
      "id": "4RuuuB7gwlz6",
      "execution_count": null,
      "outputs": [
        {
          "output_type": "display_data",
          "data": {
            "text/plain": [
              "<Figure size 720x576 with 1 Axes>"
            ],
            "image/png": "[encoded data removed]"
          },
          "metadata": {
            "needs_background": "light"
          }
        }
      ]
    },
    {
      "cell_type": "markdown",
      "source": [
        "## Medidas de Desempeño\n",
        "\n",
        "A partir del conjunto de datos de prueba medimos la exactitud del modelo obtenido."
      ],
      "metadata": {
        "id": "dGkWqVCGpvGb"
      },
      "id": "dGkWqVCGpvGb"
    },
    {
      "cell_type": "code",
      "source": [
        "score = MLP_1.evaluate(x_test, y_test, verbose=1)\n",
        "print('Test loss:', score[0])\n",
        "print('Test accuracy:', score[1])"
      ],
      "metadata": {
        "colab": {
          "base_uri": "https://localhost:8080/"
        },
        "id": "l6mXf7ZkuA2g",
        "outputId": "ecc1659e-0eaa-4b40-d915-24d33fa7eb4d"
      },
      "id": "l6mXf7ZkuA2g",
      "execution_count": null,
      "outputs": [
        {
          "output_type": "stream",
          "name": "stdout",
          "text": [
            "219/219 [==============================] - 1s 3ms/step - loss: 0.3366 - accuracy: 0.8769\n",
            "Test loss: 0.3365764915943146\n",
            "Test accuracy: 0.8768571615219116\n"
          ]
        }
      ]
    },
    {
      "cell_type": "code",
      "source": [
        "y_pred = MLP_1.predict(x_test)\n",
        "\n",
        "class_preds = np.argmax(y_pred, axis=-1)\n",
        "\n",
        "OutPut=class_preds.reshape(len(y_pred), 1)\n",
        "OutPut=ONE_HOT_ENC.fit_transform(OutPut)\n",
        "\n"
      ],
      "metadata": {
        "id": "cS0ndc7vxEKE"
      },
      "id": "cS0ndc7vxEKE",
      "execution_count": null,
      "outputs": []
    },
    {
      "cell_type": "code",
      "source": [
        "from sklearn.metrics import accuracy_score,confusion_matrix\n",
        "\n",
        "score=accuracy_score(y_test,OutPut)\n",
        "\n",
        "print(\"Exactitud de:{}\".format(score))"
      ],
      "metadata": {
        "colab": {
          "base_uri": "https://localhost:8080/"
        },
        "id": "5uvfZyfPzVjA",
        "outputId": "048e8170-e9ea-4aee-8117-72cb537c3aa3"
      },
      "id": "5uvfZyfPzVjA",
      "execution_count": null,
      "outputs": [
        {
          "output_type": "stream",
          "name": "stdout",
          "text": [
            "Exactitud de:0.8768571428571429\n"
          ]
        }
      ]
    },
    {
      "cell_type": "code",
      "source": [
        "from sklearn.metrics import ConfusionMatrixDisplay\n",
        "figure,ax=plt.subplots(figsize=(10,10))\n",
        "ConfusionMatrixDisplay.from_predictions(np.argmax(y_test,axis=1), \n",
        "                                        np.argmax(OutPut,axis=1),\n",
        "                                        display_labels=[\"T-Shirt\",\"Trouser\",\n",
        "                                                \"Pullover\",\"Dress\",\n",
        "                                                \"Coat\",\"Sandal\",\n",
        "                                                \"Shirt\",\"Senaker\",\n",
        "                                                \"Bag\",\"Ankle Boot\"],\n",
        "                                        xticks_rotation='vertical',\n",
        "                                        ax=ax)\n",
        "plt.savefig(\"CFMatrix_Plot.png\",dpi=300,bbox_inches='tight')\n",
        "plt.show()"
      ],
      "metadata": {
        "colab": {
          "base_uri": "https://localhost:8080/",
          "height": 592
        },
        "id": "522UXeaDzaHL",
        "outputId": "54fbbebd-0a04-44e5-e0f1-8fff248d4b82"
      },
      "id": "522UXeaDzaHL",
      "execution_count": null,
      "outputs": [
        {
          "output_type": "display_data",
          "data": {
            "text/plain": [
              "<Figure size 720x720 with 2 Axes>"
            ],
            "image/png": "[encoded data removed]"
          },
          "metadata": {
            "needs_background": "light"
          }
        }
      ]
    }
  ],
  "metadata": {
    "kernelspec": {
      "display_name": "Python 3.9.0 ('CIC_GPU')",
      "language": "python",
      "name": "python3"
    },
    "language_info": {
      "codemirror_mode": {
        "name": "ipython",
        "version": 3
      },
      "file_extension": ".py",
      "mimetype": "text/x-python",
      "name": "python",
      "nbconvert_exporter": "python",
      "pygments_lexer": "ipython3",
      "version": "3.9.0"
    },
    "vscode": {
      "interpreter": {
        "hash": "b4dee9c77bc81e8bc3192f031245e7af43a1d4d0287b5c55b4b36e62661d36f5"
      }
    },
    "colab": {
      "provenance": [],
      "collapsed_sections": []
    },
    "accelerator": "GPU"
  },
  "nbformat": 4,
  "nbformat_minor": 5
}