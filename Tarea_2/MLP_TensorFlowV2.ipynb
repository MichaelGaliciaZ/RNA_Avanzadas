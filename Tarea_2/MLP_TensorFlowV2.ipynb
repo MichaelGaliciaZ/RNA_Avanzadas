{
  "cells": [
    {
      "cell_type": "markdown",
      "id": "1e215834",
      "metadata": {
        "id": "1e215834"
      },
      "source": [
        "# Tarea 2: Red Neuronal Perceptrón Multicapa con TensorFlow V2"
      ]
    },
    {
      "cell_type": "markdown",
      "id": "63bc1cb0",
      "metadata": {
        "id": "63bc1cb0"
      },
      "source": [
        "## Cargamos las librerias"
      ]
    },
    {
      "cell_type": "code",
      "execution_count": null,
      "id": "5265182e",
      "metadata": {
        "id": "5265182e",
        "colab": {
          "base_uri": "https://localhost:8080/"
        },
        "outputId": "9421db7a-8e7b-46ff-f4b4-2ab5a928fbc4"
      },
      "outputs": [
        {
          "output_type": "stream",
          "name": "stdout",
          "text": [
            "['Solarize_Light2', '_classic_test_patch', 'bmh', 'classic', 'dark_background', 'fast', 'fivethirtyeight', 'ggplot', 'grayscale', 'seaborn', 'seaborn-bright', 'seaborn-colorblind', 'seaborn-dark', 'seaborn-dark-palette', 'seaborn-darkgrid', 'seaborn-deep', 'seaborn-muted', 'seaborn-notebook', 'seaborn-paper', 'seaborn-pastel', 'seaborn-poster', 'seaborn-talk', 'seaborn-ticks', 'seaborn-white', 'seaborn-whitegrid', 'tableau-colorblind10']\n"
          ]
        }
      ],
      "source": [
        "import tensorflow as tf\n",
        "import numpy as np\n",
        "import matplotlib.pyplot as plt\n",
        "from sklearn.preprocessing import LabelEncoder\n",
        "from sklearn.preprocessing import OneHotEncoder\n",
        "from sklearn.model_selection import train_test_split\n",
        "\n",
        "from google.colab import files\n",
        "print(plt.style.available)\n",
        "%matplotlib inline\n"
      ]
    },
    {
      "cell_type": "code",
      "source": [
        "plt.style.use('seaborn-paper')"
      ],
      "metadata": {
        "id": "yiFiOQQUThUe"
      },
      "id": "yiFiOQQUThUe",
      "execution_count": null,
      "outputs": []
    },
    {
      "cell_type": "code",
      "source": [
        "!nvidia-smi"
      ],
      "metadata": {
        "colab": {
          "base_uri": "https://localhost:8080/"
        },
        "id": "0frGcq3XBlOa",
        "outputId": "7f4d2e95-1aaa-4b08-ca10-018fa937f81a"
      },
      "id": "0frGcq3XBlOa",
      "execution_count": null,
      "outputs": [
        {
          "output_type": "stream",
          "name": "stdout",
          "text": [
            "Mon Sep 26 21:52:50 2022       \n",
            "+-----------------------------------------------------------------------------+\n",
            "| NVIDIA-SMI 460.32.03    Driver Version: 460.32.03    CUDA Version: 11.2     |\n",
            "|-------------------------------+----------------------+----------------------+\n",
            "| GPU  Name        Persistence-M| Bus-Id        Disp.A | Volatile Uncorr. ECC |\n",
            "| Fan  Temp  Perf  Pwr:Usage/Cap|         Memory-Usage | GPU-Util  Compute M. |\n",
            "|                               |                      |               MIG M. |\n",
            "|===============================+======================+======================|\n",
            "|   0  Tesla T4            Off  | 00000000:00:04.0 Off |                    0 |\n",
            "| N/A   59C    P0    27W /  70W |    734MiB / 15109MiB |      0%      Default |\n",
            "|                               |                      |                  N/A |\n",
            "+-------------------------------+----------------------+----------------------+\n",
            "                                                                               \n",
            "+-----------------------------------------------------------------------------+\n",
            "| Processes:                                                                  |\n",
            "|  GPU   GI   CI        PID   Type   Process name                  GPU Memory |\n",
            "|        ID   ID                                                   Usage      |\n",
            "|=============================================================================|\n",
            "+-----------------------------------------------------------------------------+\n"
          ]
        }
      ]
    },
    {
      "cell_type": "code",
      "execution_count": null,
      "id": "967b2a79",
      "metadata": {
        "id": "967b2a79"
      },
      "outputs": [],
      "source": [
        "from tensorflow.keras.datasets.fashion_mnist import load_data\n",
        "fashion_mnist = load_data()\n"
      ]
    },
    {
      "cell_type": "markdown",
      "id": "3055152f",
      "metadata": {
        "id": "3055152f"
      },
      "source": [
        "## Extraemos los datos"
      ]
    },
    {
      "cell_type": "code",
      "execution_count": null,
      "id": "4403262b",
      "metadata": {
        "id": "4403262b"
      },
      "outputs": [],
      "source": [
        "(x_train, y_train), (x_test, y_test) = fashion_mnist\n"
      ]
    },
    {
      "cell_type": "markdown",
      "id": "69bc1741",
      "metadata": {
        "id": "69bc1741"
      },
      "source": [
        "## Union de Datos\n",
        "\n",
        "El dataset Fashion_Mnist cuenta con 60,000 imagenes de entrenamiento y 10,000 imagenes de prueba; Para los fines de esta tarea, se hara una división del dataset con una relación 30-70, es decir, %30 del dataset será destinado a test y %70 a entrenamiento."
      ]
    },
    {
      "cell_type": "code",
      "execution_count": null,
      "id": "af0e5507",
      "metadata": {
        "id": "af0e5507"
      },
      "outputs": [],
      "source": [
        "X = np.concatenate((x_train, x_test))\n",
        "Y = np.concatenate((y_train, y_test))\n"
      ]
    },
    {
      "cell_type": "code",
      "execution_count": null,
      "id": "b596941e",
      "metadata": {
        "id": "b596941e"
      },
      "outputs": [],
      "source": [
        "X = X.reshape(len(X), 28*28).astype('float32')\n",
        "X=X/255.0\n"
      ]
    },
    {
      "cell_type": "markdown",
      "id": "51f0cd93",
      "metadata": {
        "id": "51f0cd93"
      },
      "source": [
        "## Codificación One Hot Encoding \n",
        "\n",
        "Las clases se representan con etiquetas numericas en el rango de $0,\\cdots,9$:\n",
        "\n",
        "<div align=\"center\">\n",
        "\n",
        "| Identificador \t| Clase \t|\n",
        "|---\t|---\t|\n",
        "| 0 \t| T-shirt/top \t|\n",
        "| 1 \t| Trouser \t|\n",
        "| 2 \t| Pullover \t|\n",
        "| 3 \t| Dress \t|\n",
        "| 4 \t| Coat \t|\n",
        "| 5 \t| Sandal \t|\n",
        "| 6 \t| Shirt \t|\n",
        "| 7 \t| Sneaker \t|\n",
        "| 8 \t| Bag \t|\n",
        "| 9 \t| Ankle Boot \t|\n",
        "\n",
        "</div>\n",
        "\n",
        "Debido al identificador puede (o no) realizarse una codificación del tipo One Hot. Esta codificación permite que el modelo neuronal interprete la distancia entre identificadores de la misma forma, es decir, en un mal aprendizaje puede asociar la clase \"Trouser\" con la clase \"Pullover\" por que los identificadores son cercanos entre si, de forma comtraria es posible que interprete una relación (erronea) entre los identificadores mas separadas, lo cual no es relevante.\n",
        "\n",
        "A fin de observar el efecto de la codificación se realizaran dos modelos: uno con codificación ONE HOT y otro sin ella.\n"
      ]
    },
    {
      "cell_type": "code",
      "execution_count": null,
      "id": "df244be9",
      "metadata": {
        "id": "df244be9"
      },
      "outputs": [],
      "source": [
        "ONE_HOT_ENC = OneHotEncoder(sparse=False)\n",
        "Y_OHE = Y.reshape(len(Y), 1)\n",
        "Y_OHE = ONE_HOT_ENC.fit_transform(Y_OHE)\n"
      ]
    },
    {
      "cell_type": "code",
      "execution_count": null,
      "id": "6ef40689",
      "metadata": {
        "colab": {
          "base_uri": "https://localhost:8080/"
        },
        "id": "6ef40689",
        "outputId": "067c7db9-004f-4704-ddc3-ce8e648b05b8"
      },
      "outputs": [
        {
          "output_type": "stream",
          "name": "stdout",
          "text": [
            "Las dimensiones del vector de etiquetas son (70000,)\n",
            "Los primeros 10 elementos son: \n",
            " [9 0 0 3 0 2 7 2 5 5]\n"
          ]
        }
      ],
      "source": [
        "print(\"Las dimensiones del vector de etiquetas son {}\".format(Y.shape))\n",
        "print(\"Los primeros 10 elementos son: \\n {}\".format(Y[0:10]))\n"
      ]
    },
    {
      "cell_type": "code",
      "execution_count": null,
      "id": "affde012",
      "metadata": {
        "colab": {
          "base_uri": "https://localhost:8080/"
        },
        "id": "affde012",
        "outputId": "e33b0498-36dc-4ff6-afbc-a7fa9e7f3b72"
      },
      "outputs": [
        {
          "output_type": "stream",
          "name": "stdout",
          "text": [
            "Los primeros 10 elementos codificados son: \n",
            " [[0. 0. 0. 0. 0. 0. 0. 0. 0. 1.]\n",
            " [1. 0. 0. 0. 0. 0. 0. 0. 0. 0.]\n",
            " [1. 0. 0. 0. 0. 0. 0. 0. 0. 0.]\n",
            " [0. 0. 0. 1. 0. 0. 0. 0. 0. 0.]\n",
            " [1. 0. 0. 0. 0. 0. 0. 0. 0. 0.]\n",
            " [0. 0. 1. 0. 0. 0. 0. 0. 0. 0.]\n",
            " [0. 0. 0. 0. 0. 0. 0. 1. 0. 0.]\n",
            " [0. 0. 1. 0. 0. 0. 0. 0. 0. 0.]\n",
            " [0. 0. 0. 0. 0. 1. 0. 0. 0. 0.]\n",
            " [0. 0. 0. 0. 0. 1. 0. 0. 0. 0.]]\n"
          ]
        }
      ],
      "source": [
        "print(\"Los primeros 10 elementos codificados son: \\n {}\".format(Y_OHE[0:10]))\n"
      ]
    },
    {
      "cell_type": "markdown",
      "id": "b556b83e",
      "metadata": {
        "id": "b556b83e"
      },
      "source": [
        "## Arquitectura de el modelo\n",
        "\n",
        "Se aprovecha el paradigma de la programación orientada a objetos de Python para desarrollar una instancia que permita la declaración de la arquitectura del modelo MLP."
      ]
    },
    {
      "cell_type": "code",
      "execution_count": null,
      "id": "dc969293",
      "metadata": {
        "id": "dc969293"
      },
      "outputs": [],
      "source": [
        "class DNN_Model(tf.Module):\n",
        "    def __init__(self, lenght_input, lenght_output):\n",
        "        super().__init__()\n",
        "        self.Layer_1_Weights = tf.Variable(np.random.rand(lenght_input, 784),\n",
        "                                           name=\"Layer_1_Weights\",\n",
        "                                           dtype=\"float32\")\n",
        "        self.Layer_1_Bias = tf.Variable(np.random.rand(784),\n",
        "                                        name=\"Layer_1_Bias\",\n",
        "                                        dtype=\"float\")\n",
        "        self.Layer_2_Weights = tf.Variable(np.random.rand(784, 650),\n",
        "                                           name=\"Layer_2_Weights\",\n",
        "                                           dtype=\"float32\")\n",
        "        self.Layer_2_Bias = tf.Variable(np.random.rand(650),\n",
        "                                        name=\"Layer_2_Bias\",\n",
        "                                        dtype=\"float\")\n",
        "        self.Layer_3_Weights = tf.Variable(np.random.rand(650, 500),\n",
        "                                           name=\"Layer_3_Weights\",\n",
        "                                           dtype=\"float32\")\n",
        "        self.Layer_3_Bias = tf.Variable(np.random.rand(500),\n",
        "                                        name=\"Layer_3_Bias\",\n",
        "                                        dtype=\"float\")\n",
        "        self.Output_Layer_Weights = tf.Variable(np.random.rand(500, lenght_output),\n",
        "                                                name=\"Output_Layer_Weights\",\n",
        "                                                dtype=\"float32\")\n",
        "        self.Output_Layer_Bias = tf.Variable(np.random.rand(lenght_output),\n",
        "                                             name=\"Output_Bias\",\n",
        "                                             dtype=\"float32\")\n",
        "        self.Trainable_Variables = [self.Layer_1_Weights,\n",
        "                                    self.Layer_1_Bias,\n",
        "                                    self.Layer_2_Weights,\n",
        "                                    self.Layer_2_Bias,\n",
        "                                    self.Layer_3_Weights,\n",
        "                                    self.Layer_3_Bias,\n",
        "                                    self.Output_Layer_Weights,\n",
        "                                    self.Output_Layer_Bias]\n",
        "\n",
        "    def __call__(self, x):\n",
        "        L1 = tf.add(tf.matmul(x, self.Layer_1_Weights), self.Layer_1_Bias)\n",
        "        L1 = tf.nn.relu(L1)\n",
        "        L2 = tf.add(tf.matmul(L1, self.Layer_2_Weights), self.Layer_2_Bias)\n",
        "        L2 = tf.nn.relu(L2)\n",
        "        L3 = tf.add(tf.matmul(L2, self.Layer_3_Weights), self.Layer_3_Bias)\n",
        "        L3 = tf.nn.relu(L3)\n",
        "\n",
        "        OutPut = tf.matmul(L3, self.Output_Layer_Weights) + \\\n",
        "            self.Output_Layer_Bias\n",
        "\n",
        "        return OutPut\n",
        "\n",
        "    def predict(self,x):\n",
        "        L1 = tf.add(tf.matmul(x, self.Layer_1_Weights), self.Layer_1_Bias)\n",
        "        L1 = tf.nn.relu(L1)\n",
        "        L2 = tf.add(tf.matmul(L1, self.Layer_2_Weights), self.Layer_2_Bias)\n",
        "        L2 = tf.nn.relu(L2)\n",
        "        L3 = tf.add(tf.matmul(L2, self.Layer_3_Weights), self.Layer_3_Bias)\n",
        "        L3 = tf.nn.relu(L3)\n",
        "\n",
        "        OutPut = tf.matmul(L3, self.Output_Layer_Weights) + \\\n",
        "            self.Output_Layer_Bias\n",
        "\n",
        "        OutPut=tf.nn.softmax(OutPut)\n",
        "\n",
        "        OutPut=np.argmax(OutPut,axis=1)\n",
        "\n",
        "        OutPut=OutPut.reshape(len(OutPut), 1)\n",
        "        OutPut=ONE_HOT_ENC.fit_transform(OutPut)\n",
        "        return OutPut\n"
      ]
    },
    {
      "cell_type": "code",
      "execution_count": null,
      "id": "a4b034d9",
      "metadata": {
        "id": "a4b034d9",
        "colab": {
          "base_uri": "https://localhost:8080/"
        },
        "outputId": "bceaf2a0-11c1-4fa3-db56-fe1d6914632b"
      },
      "outputs": [
        {
          "output_type": "stream",
          "name": "stderr",
          "text": [
            "/usr/local/lib/python3.7/dist-packages/keras/optimizer_v2/adam.py:105: UserWarning: The `lr` argument is deprecated, use `learning_rate` instead.\n",
            "  super(Adam, self).__init__(name, **kwargs)\n"
          ]
        }
      ],
      "source": [
        "optimizador = tf.keras.optimizers.Adam(lr=0.0001)\n",
        "\n",
        "train_loss = tf.keras.metrics.Mean(name='train_loss')\n",
        "\n",
        "train_accuracy = tf.keras.metrics.CategoricalAccuracy(name='train_accuracy')\n",
        "\n",
        "test_loss = tf.keras.metrics.Mean(name='test_loss')\n",
        "\n",
        "test_accuracy = tf.keras.metrics.CategoricalAccuracy(name='test_accuracy')\n"
      ]
    },
    {
      "cell_type": "markdown",
      "id": "628464d6",
      "metadata": {
        "id": "628464d6"
      },
      "source": [
        "## Configuración del gradiente"
      ]
    },
    {
      "cell_type": "code",
      "execution_count": null,
      "id": "671757d2",
      "metadata": {
        "id": "671757d2"
      },
      "outputs": [],
      "source": [
        "@tf.function\n",
        "def train_step(model, tdata, labels):\n",
        "    with tf.GradientTape() as tape:\n",
        "        predictions = model(tdata)\n",
        "        loss = tf.reduce_mean(tf.nn.softmax_cross_entropy_with_logits(labels, predictions))\n",
        "        \n",
        "    gradients = tape.gradient(loss, model.Trainable_Variables)\n",
        "    capped_grads_and_vars = [(grad, model.Trainable_Variables[index])\n",
        "                             for index, grad in enumerate(gradients)]\n",
        "    optimizador.apply_gradients(capped_grads_and_vars)\n",
        "\n",
        "    train_loss(loss)\n",
        "    train_accuracy(labels, predictions)\n"
      ]
    },
    {
      "cell_type": "code",
      "execution_count": null,
      "id": "335e6d85",
      "metadata": {
        "id": "335e6d85"
      },
      "outputs": [],
      "source": [
        "@tf.function\n",
        "def test_step(model, tdata, labels):\n",
        "    predictions = model(tdata)\n",
        "    t_loss = tf.reduce_mean(\n",
        "        tf.nn.softmax_cross_entropy_with_logits(labels, predictions))\n",
        "\n",
        "    test_loss(t_loss)\n",
        "    test_accuracy(labels, predictions)\n"
      ]
    },
    {
      "cell_type": "code",
      "execution_count": null,
      "id": "6184ad94",
      "metadata": {
        "id": "6184ad94"
      },
      "outputs": [],
      "source": [
        "def fitting(model, train_x, train_y, test_x, test_y, EPOCHS, N_batch, batch_size):\n",
        "    Train_L = []\n",
        "    Test_L = []\n",
        "    Train_A = []\n",
        "    Test_A = []\n",
        "\n",
        "    for epoch in range(EPOCHS):\n",
        "        i = 0\n",
        "        while i+batch_size < len(train_x) or i+batch_size < batch_size*N_batch:\n",
        "            start = i\n",
        "            end = i+batch_size\n",
        "            batch_x = train_x[start:end]\n",
        "            batch_y = train_y[start:end]\n",
        "            train_step(model, batch_x, batch_y)\n",
        "            i += batch_size\n",
        "        test_step(model, test_x, test_y)\n",
        "\n",
        "        template = 'Epoch {}, Perdida: {}, Exactitud: {}, Perdida de prueba: {}, Exactitud de prueba: {}'\n",
        "        print(template.format(epoch+1,\n",
        "                              train_loss.result(),\n",
        "                              train_accuracy.result()*100,\n",
        "                              test_loss.result(),\n",
        "                              test_accuracy.result()*100))\n",
        "        Train_L.append(train_loss.result())\n",
        "        Train_A.append(train_accuracy.result())\n",
        "        Test_L.append(test_loss.result())\n",
        "        Test_A.append(test_accuracy.result())\n",
        "\n",
        "        train_loss.reset_states()\n",
        "        train_accuracy.reset_states()\n",
        "        test_loss.reset_states()\n",
        "        test_accuracy.reset_states()\n",
        "\n",
        "    return (Train_A, Test_A), (Train_L, Test_L)\n"
      ]
    },
    {
      "cell_type": "markdown",
      "source": [
        "## Entrenamiento"
      ],
      "metadata": {
        "id": "_OIlvXDNaFNf"
      },
      "id": "_OIlvXDNaFNf"
    },
    {
      "cell_type": "code",
      "execution_count": null,
      "id": "89a3ffd6",
      "metadata": {
        "colab": {
          "base_uri": "https://localhost:8080/"
        },
        "id": "89a3ffd6",
        "outputId": "6a3e7306-657d-4bbd-8d21-521cb219f6bb"
      },
      "outputs": [
        {
          "output_type": "stream",
          "name": "stdout",
          "text": [
            "Tamaño del set de entrenamiento: 44100 elementos\n",
            "Tamaño del set de validación: 18900 elementos\n",
            "Tamaño del set de prueba: 7000 elementos\n"
          ]
        }
      ],
      "source": [
        "DNN = DNN_Model(lenght_input=28*28, lenght_output=10)\n",
        "x_train, x_test, y_train, y_test = train_test_split(X, Y_OHE, train_size=0.9, random_state=222)\n",
        "x_train,x_val,y_train,y_val=train_test_split(x_train, y_train, train_size=0.7, random_state=333)\n",
        "\n",
        "print(\"Tamaño del set de entrenamiento: {} elementos\".format(len(x_train)))\n",
        "print(\"Tamaño del set de validación: {} elementos\".format(len(x_val)))\n",
        "print(\"Tamaño del set de prueba: {} elementos\".format(len(x_test)))\n"
      ]
    },
    {
      "cell_type": "code",
      "execution_count": null,
      "id": "5548008d",
      "metadata": {
        "colab": {
          "base_uri": "https://localhost:8080/"
        },
        "id": "5548008d",
        "outputId": "25b1a2d7-8b1f-42fa-8f38-d6978fecb969"
      },
      "outputs": [
        {
          "output_type": "stream",
          "name": "stdout",
          "text": [
            "Epoch 1, Perdida: 37668896.0, Exactitud: 10.202779769897461, Perdida de prueba: 8531795.0, Exactitud de prueba: 9.947090148925781\n",
            "Epoch 2, Perdida: 1696143.625, Exactitud: 10.056961059570312, Perdida de prueba: 482744.09375, Exactitud de prueba: 10.148148536682129\n",
            "Epoch 3, Perdida: 443189.96875, Exactitud: 9.845067977905273, Perdida de prueba: 462886.25, Exactitud de prueba: 10.100529670715332\n",
            "Epoch 4, Perdida: 460809.375, Exactitud: 10.02734088897705, Perdida de prueba: 650507.875, Exactitud de prueba: 10.100529670715332\n",
            "Epoch 5, Perdida: 452559.34375, Exactitud: 9.854181289672852, Perdida de prueba: 608456.4375, Exactitud de prueba: 10.005290985107422\n",
            "Epoch 6, Perdida: 446165.96875, Exactitud: 9.945318222045898, Perdida de prueba: 413107.21875, Exactitud de prueba: 9.947090148925781\n",
            "Epoch 7, Perdida: 498857.34375, Exactitud: 9.717475891113281, Perdida de prueba: 445194.34375, Exactitud de prueba: 9.910053253173828\n",
            "Epoch 8, Perdida: 469338.34375, Exactitud: 10.159489631652832, Perdida de prueba: 730962.3125, Exactitud de prueba: 10.100529670715332\n",
            "Epoch 9, Perdida: 456393.84375, Exactitud: 9.97265911102295, Perdida de prueba: 336332.96875, Exactitud de prueba: 10.100529670715332\n",
            "Epoch 10, Perdida: 511752.625, Exactitud: 10.28024673461914, Perdida de prueba: 541992.375, Exactitud de prueba: 9.910053253173828\n",
            "Epoch 11, Perdida: 506297.25, Exactitud: 10.102529525756836, Perdida de prueba: 512030.5, Exactitud de prueba: 9.867724418640137\n",
            "Epoch 12, Perdida: 451469.28125, Exactitud: 10.170881271362305, Perdida de prueba: 533594.5, Exactitud de prueba: 9.910053253173828\n",
            "Epoch 13, Perdida: 442390.1875, Exactitud: 10.20733642578125, Perdida de prueba: 482858.8125, Exactitud de prueba: 10.089947700500488\n",
            "Epoch 14, Perdida: 417177.90625, Exactitud: 10.004556655883789, Perdida de prueba: 480387.0, Exactitud de prueba: 10.089947700500488\n",
            "Epoch 15, Perdida: 442822.1875, Exactitud: 10.350876808166504, Perdida de prueba: 468517.34375, Exactitud de prueba: 14.947089195251465\n",
            "Epoch 16, Perdida: 441125.34375, Exactitud: 10.407837867736816, Perdida de prueba: 251222.984375, Exactitud de prueba: 9.867724418640137\n",
            "Epoch 17, Perdida: 405861.0, Exactitud: 10.328093528747559, Perdida de prueba: 332779.84375, Exactitud de prueba: 9.947090148925781\n",
            "Epoch 18, Perdida: 438771.71875, Exactitud: 10.271132469177246, Perdida de prueba: 280518.21875, Exactitud de prueba: 10.015872955322266\n",
            "Epoch 19, Perdida: 454587.75, Exactitud: 10.059239387512207, Perdida de prueba: 361798.5, Exactitud de prueba: 10.005290985107422\n",
            "Epoch 20, Perdida: 435736.0625, Exactitud: 10.366826057434082, Perdida de prueba: 386269.4375, Exactitud de prueba: 10.005290985107422\n",
            "Epoch 21, Perdida: 446800.0625, Exactitud: 10.423787117004395, Perdida de prueba: 296566.03125, Exactitud de prueba: 9.867724418640137\n",
            "Epoch 22, Perdida: 359423.375, Exactitud: 10.858965873718262, Perdida de prueba: 438579.1875, Exactitud de prueba: 9.910053253173828\n",
            "Epoch 23, Perdida: 333909.09375, Exactitud: 11.089086532592773, Perdida de prueba: 276003.0625, Exactitud de prueba: 9.947090148925781\n",
            "Epoch 24, Perdida: 410050.84375, Exactitud: 10.612895965576172, Perdida de prueba: 240238.09375, Exactitud de prueba: 9.867724418640137\n",
            "Epoch 25, Perdida: 371234.1875, Exactitud: 11.130098342895508, Perdida de prueba: 257300.828125, Exactitud de prueba: 10.100529670715332\n",
            "Epoch 26, Perdida: 344698.5, Exactitud: 11.738436698913574, Perdida de prueba: 443859.8125, Exactitud de prueba: 9.915343284606934\n",
            "Epoch 27, Perdida: 293445.9375, Exactitud: 11.706539154052734, Perdida de prueba: 226514.734375, Exactitud de prueba: 11.486772537231445\n",
            "Epoch 28, Perdida: 303532.65625, Exactitud: 12.2601957321167, Perdida de prueba: 218634.203125, Exactitud de prueba: 19.322751998901367\n",
            "Epoch 29, Perdida: 353085.25, Exactitud: 11.143768310546875, Perdida de prueba: 522441.5625, Exactitud de prueba: 9.947090148925781\n",
            "Epoch 30, Perdida: 328301.90625, Exactitud: 11.69970417022705, Perdida de prueba: 183959.1875, Exactitud de prueba: 27.11111068725586\n",
            "Epoch 31, Perdida: 275706.6875, Exactitud: 12.451582908630371, Perdida de prueba: 253813.375, Exactitud de prueba: 10.0\n",
            "Epoch 32, Perdida: 290351.96875, Exactitud: 11.941216468811035, Perdida de prueba: 354990.40625, Exactitud de prueba: 21.58201026916504\n",
            "Epoch 33, Perdida: 258469.4375, Exactitud: 12.895875930786133, Perdida de prueba: 440273.03125, Exactitud de prueba: 10.005290985107422\n",
            "Epoch 34, Perdida: 255475.21875, Exactitud: 13.816359519958496, Perdida de prueba: 454577.5625, Exactitud de prueba: 19.666667938232422\n",
            "Epoch 35, Perdida: 258566.03125, Exactitud: 14.076098442077637, Perdida de prueba: 214079.25, Exactitud de prueba: 9.910053253173828\n",
            "Epoch 36, Perdida: 223498.984375, Exactitud: 14.399635314941406, Perdida de prueba: 246669.140625, Exactitud de prueba: 17.232803344726562\n",
            "Epoch 37, Perdida: 219708.78125, Exactitud: 14.839370727539062, Perdida de prueba: 243992.515625, Exactitud de prueba: 18.857141494750977\n",
            "Epoch 38, Perdida: 217951.75, Exactitud: 14.190021514892578, Perdida de prueba: 208897.3125, Exactitud de prueba: 19.772485733032227\n",
            "Epoch 39, Perdida: 189439.734375, Exactitud: 16.030986785888672, Perdida de prueba: 157134.78125, Exactitud de prueba: 10.015872955322266\n",
            "Epoch 40, Perdida: 175051.078125, Exactitud: 17.306903839111328, Perdida de prueba: 167030.515625, Exactitud de prueba: 12.85714340209961\n",
            "Epoch 41, Perdida: 176982.96875, Exactitud: 16.639324188232422, Perdida de prueba: 278914.875, Exactitud de prueba: 18.068782806396484\n",
            "Epoch 42, Perdida: 159261.8125, Exactitud: 19.601276397705078, Perdida de prueba: 111024.6875, Exactitud de prueba: 28.465608596801758\n",
            "Epoch 43, Perdida: 142406.734375, Exactitud: 20.936431884765625, Perdida de prueba: 153066.546875, Exactitud de prueba: 36.71428680419922\n",
            "Epoch 44, Perdida: 141035.015625, Exactitud: 20.307586669921875, Perdida de prueba: 82024.828125, Exactitud de prueba: 10.021163940429688\n",
            "Epoch 45, Perdida: 138399.6875, Exactitud: 21.12554168701172, Perdida de prueba: 132149.453125, Exactitud de prueba: 41.338626861572266\n",
            "Epoch 46, Perdida: 119032.03125, Exactitud: 24.110275268554688, Perdida de prueba: 78149.640625, Exactitud de prueba: 27.851852416992188\n",
            "Epoch 47, Perdida: 96622.28125, Exactitud: 26.646160125732422, Perdida de prueba: 85258.1015625, Exactitud de prueba: 23.41269874572754\n",
            "Epoch 48, Perdida: 122844.6015625, Exactitud: 23.830028533935547, Perdida de prueba: 56490.828125, Exactitud de prueba: 21.11111068725586\n",
            "Epoch 49, Perdida: 100845.234375, Exactitud: 24.9487361907959, Perdida de prueba: 119954.5, Exactitud de prueba: 14.063492774963379\n",
            "Epoch 50, Perdida: 73511.4609375, Exactitud: 31.53565788269043, Perdida de prueba: 59576.8671875, Exactitud de prueba: 24.174604415893555\n",
            "Epoch 51, Perdida: 89335.5390625, Exactitud: 26.45021629333496, Perdida de prueba: 115090.9375, Exactitud de prueba: 19.85714340209961\n",
            "Epoch 52, Perdida: 95898.0859375, Exactitud: 28.072452545166016, Perdida de prueba: 51763.1171875, Exactitud de prueba: 39.88359832763672\n",
            "Epoch 53, Perdida: 64636.5234375, Exactitud: 35.370243072509766, Perdida de prueba: 60499.3359375, Exactitud de prueba: 36.2751350402832\n",
            "Epoch 54, Perdida: 46720.41015625, Exactitud: 37.34107971191406, Perdida de prueba: 34833.07421875, Exactitud de prueba: 36.77248764038086\n",
            "Epoch 55, Perdida: 57260.2109375, Exactitud: 37.63043975830078, Perdida de prueba: 22559.01171875, Exactitud de prueba: 51.48147964477539\n",
            "Epoch 56, Perdida: 80044.1796875, Exactitud: 30.970609664916992, Perdida de prueba: 90358.296875, Exactitud de prueba: 33.99470901489258\n",
            "Epoch 57, Perdida: 86987.3671875, Exactitud: 32.65892028808594, Perdida de prueba: 57895.8984375, Exactitud de prueba: 42.873016357421875\n",
            "Epoch 58, Perdida: 57161.390625, Exactitud: 38.17270278930664, Perdida de prueba: 33125.22265625, Exactitud de prueba: 43.179893493652344\n",
            "Epoch 59, Perdida: 30032.5546875, Exactitud: 47.37981414794922, Perdida de prueba: 12728.2216796875, Exactitud de prueba: 60.19576644897461\n",
            "Epoch 60, Perdida: 43454.38671875, Exactitud: 43.40624237060547, Perdida de prueba: 9965.263671875, Exactitud de prueba: 55.38624572753906\n",
            "Epoch 61, Perdida: 60431.6875, Exactitud: 36.99020004272461, Perdida de prueba: 35521.1796875, Exactitud de prueba: 43.582008361816406\n",
            "Epoch 62, Perdida: 44894.37890625, Exactitud: 41.993621826171875, Perdida de prueba: 25813.8828125, Exactitud de prueba: 49.153438568115234\n",
            "Epoch 63, Perdida: 50555.21484375, Exactitud: 41.46730422973633, Perdida de prueba: 41686.328125, Exactitud de prueba: 49.83597946166992\n",
            "Epoch 64, Perdida: 34554.8515625, Exactitud: 45.591251373291016, Perdida de prueba: 34627.27734375, Exactitud de prueba: 37.2910041809082\n",
            "Epoch 65, Perdida: 54526.85546875, Exactitud: 40.49213790893555, Perdida de prueba: 37146.87109375, Exactitud de prueba: 38.71957778930664\n",
            "Epoch 66, Perdida: 48993.08984375, Exactitud: 41.73616027832031, Perdida de prueba: 76308.78125, Exactitud de prueba: 26.24867820739746\n",
            "Epoch 67, Perdida: 36060.3984375, Exactitud: 46.436546325683594, Perdida de prueba: 16432.35546875, Exactitud de prueba: 60.44444274902344\n",
            "Epoch 68, Perdida: 20310.619140625, Exactitud: 52.97334289550781, Perdida de prueba: 40498.85546875, Exactitud de prueba: 43.39682388305664\n",
            "Epoch 69, Perdida: 28294.576171875, Exactitud: 50.07063293457031, Perdida de prueba: 19948.40625, Exactitud de prueba: 63.264549255371094\n",
            "Epoch 70, Perdida: 26632.890625, Exactitud: 51.60857009887695, Perdida de prueba: 12167.6259765625, Exactitud de prueba: 59.687828063964844\n",
            "Epoch 71, Perdida: 39619.28125, Exactitud: 46.60059356689453, Perdida de prueba: 38580.05859375, Exactitud de prueba: 41.65608596801758\n",
            "Epoch 72, Perdida: 42316.19921875, Exactitud: 45.62998580932617, Perdida de prueba: 66829.703125, Exactitud de prueba: 39.93650817871094\n",
            "Epoch 73, Perdida: 56456.4765625, Exactitud: 41.3670539855957, Perdida de prueba: 8741.6884765625, Exactitud de prueba: 64.16401672363281\n",
            "Epoch 74, Perdida: 19154.814453125, Exactitud: 56.313507080078125, Perdida de prueba: 20047.72265625, Exactitud de prueba: 53.1693115234375\n",
            "Epoch 75, Perdida: 20171.51953125, Exactitud: 55.2813835144043, Perdida de prueba: 18023.978515625, Exactitud de prueba: 57.026458740234375\n",
            "Epoch 76, Perdida: 21365.009765625, Exactitud: 57.03349304199219, Perdida de prueba: 26195.5859375, Exactitud de prueba: 49.42327880859375\n",
            "Epoch 77, Perdida: 34103.41796875, Exactitud: 50.154930114746094, Perdida de prueba: 14202.142578125, Exactitud de prueba: 57.01057815551758\n",
            "Epoch 78, Perdida: 19521.44921875, Exactitud: 56.50489807128906, Perdida de prueba: 27450.435546875, Exactitud de prueba: 51.35979080200195\n",
            "Epoch 79, Perdida: 17537.306640625, Exactitud: 57.69651412963867, Perdida de prueba: 21956.015625, Exactitud de prueba: 54.58201217651367\n",
            "Epoch 80, Perdida: 29816.326171875, Exactitud: 51.831851959228516, Perdida de prueba: 15514.05078125, Exactitud de prueba: 63.92063522338867\n",
            "Epoch 81, Perdida: 19572.11328125, Exactitud: 57.846893310546875, Perdida de prueba: 26321.5703125, Exactitud de prueba: 50.026451110839844\n",
            "Epoch 82, Perdida: 32837.7734375, Exactitud: 52.706764221191406, Perdida de prueba: 64089.4921875, Exactitud de prueba: 29.216930389404297\n",
            "Epoch 83, Perdida: 22447.076171875, Exactitud: 57.41626739501953, Perdida de prueba: 13464.33984375, Exactitud de prueba: 60.08994674682617\n",
            "Epoch 84, Perdida: 22313.603515625, Exactitud: 54.86671447753906, Perdida de prueba: 25445.1953125, Exactitud de prueba: 60.333335876464844\n",
            "Epoch 85, Perdida: 18374.244140625, Exactitud: 58.0428352355957, Perdida de prueba: 25123.97265625, Exactitud de prueba: 55.1534423828125\n",
            "Epoch 86, Perdida: 16538.216796875, Exactitud: 59.21394348144531, Perdida de prueba: 14076.9970703125, Exactitud de prueba: 63.28571319580078\n",
            "Epoch 87, Perdida: 20026.099609375, Exactitud: 56.76691436767578, Perdida de prueba: 14646.0380859375, Exactitud de prueba: 57.5396842956543\n",
            "Epoch 88, Perdida: 17338.9765625, Exactitud: 60.09797286987305, Perdida de prueba: 12872.0087890625, Exactitud de prueba: 66.338623046875\n",
            "Epoch 89, Perdida: 16812.87109375, Exactitud: 60.186832427978516, Perdida de prueba: 16018.8681640625, Exactitud de prueba: 60.91005325317383\n",
            "Epoch 90, Perdida: 19998.56640625, Exactitud: 59.06128692626953, Perdida de prueba: 8294.2607421875, Exactitud de prueba: 65.62433624267578\n",
            "Epoch 91, Perdida: 15927.888671875, Exactitud: 61.31237030029297, Perdida de prueba: 21143.982421875, Exactitud de prueba: 54.42327880859375\n",
            "Epoch 92, Perdida: 16271.6611328125, Exactitud: 62.2032356262207, Perdida de prueba: 11494.197265625, Exactitud de prueba: 61.16402053833008\n",
            "Epoch 93, Perdida: 27727.998046875, Exactitud: 54.83481216430664, Perdida de prueba: 35520.140625, Exactitud de prueba: 47.19047546386719\n",
            "Epoch 94, Perdida: 13326.341796875, Exactitud: 63.00752258300781, Perdida de prueba: 9042.033203125, Exactitud de prueba: 65.56084442138672\n",
            "Epoch 95, Perdida: 17747.099609375, Exactitud: 61.223514556884766, Perdida de prueba: 19212.677734375, Exactitud de prueba: 56.99470520019531\n",
            "Epoch 96, Perdida: 12880.3515625, Exactitud: 64.00774383544922, Perdida de prueba: 14489.20703125, Exactitud de prueba: 62.8941764831543\n",
            "Epoch 97, Perdida: 19214.931640625, Exactitud: 58.87445831298828, Perdida de prueba: 12699.78515625, Exactitud de prueba: 67.19577026367188\n",
            "Epoch 98, Perdida: 14870.54296875, Exactitud: 63.13511276245117, Perdida de prueba: 9626.994140625, Exactitud de prueba: 64.95237731933594\n",
            "Epoch 99, Perdida: 14979.2236328125, Exactitud: 63.310550689697266, Perdida de prueba: 6383.767578125, Exactitud de prueba: 69.20635223388672\n",
            "Epoch 100, Perdida: 11421.669921875, Exactitud: 64.37457275390625, Perdida de prueba: 15795.1376953125, Exactitud de prueba: 55.43915557861328\n",
            "Epoch 101, Perdida: 12253.7939453125, Exactitud: 64.48849487304688, Perdida de prueba: 8858.7548828125, Exactitud de prueba: 66.23280334472656\n",
            "Epoch 102, Perdida: 14481.994140625, Exactitud: 62.3650016784668, Perdida de prueba: 11699.392578125, Exactitud de prueba: 64.57672119140625\n",
            "Epoch 103, Perdida: 12177.34375, Exactitud: 64.05104064941406, Perdida de prueba: 7739.70703125, Exactitud de prueba: 67.33333587646484\n",
            "Epoch 104, Perdida: 14431.2451171875, Exactitud: 62.948280334472656, Perdida de prueba: 6809.2958984375, Exactitud de prueba: 68.53439331054688\n",
            "Epoch 105, Perdida: 13122.71484375, Exactitud: 63.23308181762695, Perdida de prueba: 7249.45263671875, Exactitud de prueba: 72.37036895751953\n",
            "Epoch 106, Perdida: 10129.3349609375, Exactitud: 68.26156616210938, Perdida de prueba: 20150.142578125, Exactitud de prueba: 60.566139221191406\n",
            "Epoch 107, Perdida: 12212.07421875, Exactitud: 64.79608154296875, Perdida de prueba: 17396.611328125, Exactitud de prueba: 62.862430572509766\n",
            "Epoch 108, Perdida: 11063.46875, Exactitud: 66.15858459472656, Perdida de prueba: 5364.51025390625, Exactitud de prueba: 73.7354507446289\n",
            "Epoch 109, Perdida: 12556.2607421875, Exactitud: 66.25199127197266, Perdida de prueba: 22340.431640625, Exactitud de prueba: 61.75661087036133\n",
            "Epoch 110, Perdida: 13129.1669921875, Exactitud: 63.98268508911133, Perdida de prueba: 8174.95849609375, Exactitud de prueba: 66.76719665527344\n",
            "Epoch 111, Perdida: 9486.90234375, Exactitud: 68.42560577392578, Perdida de prueba: 7253.9853515625, Exactitud de prueba: 68.68783569335938\n",
            "Epoch 112, Perdida: 9920.2431640625, Exactitud: 68.17726135253906, Perdida de prueba: 6394.79638671875, Exactitud de prueba: 69.80422973632812\n",
            "Epoch 113, Perdida: 12451.4501953125, Exactitud: 63.832305908203125, Perdida de prueba: 33646.51953125, Exactitud de prueba: 45.74603271484375\n",
            "Epoch 114, Perdida: 11940.79296875, Exactitud: 64.97835540771484, Perdida de prueba: 19469.04296875, Exactitud de prueba: 61.54497146606445\n",
            "Epoch 115, Perdida: 10236.0283203125, Exactitud: 66.18363952636719, Perdida de prueba: 9563.61328125, Exactitud de prueba: 65.0952377319336\n",
            "Epoch 116, Perdida: 8559.71875, Exactitud: 68.80838012695312, Perdida de prueba: 13284.259765625, Exactitud de prueba: 67.06349182128906\n",
            "Epoch 117, Perdida: 8604.2607421875, Exactitud: 69.22533416748047, Perdida de prueba: 8035.02392578125, Exactitud de prueba: 65.04232788085938\n",
            "Epoch 118, Perdida: 10034.95703125, Exactitud: 67.76258850097656, Perdida de prueba: 9368.1435546875, Exactitud de prueba: 66.04762268066406\n",
            "Epoch 119, Perdida: 13378.05859375, Exactitud: 63.01435089111328, Perdida de prueba: 5805.90478515625, Exactitud de prueba: 74.12169647216797\n",
            "Epoch 120, Perdida: 7370.4462890625, Exactitud: 71.0344009399414, Perdida de prueba: 12281.1923828125, Exactitud de prueba: 66.20634460449219\n",
            "Epoch 121, Perdida: 7383.11181640625, Exactitud: 70.77693939208984, Perdida de prueba: 9466.4599609375, Exactitud de prueba: 65.14286041259766\n",
            "Epoch 122, Perdida: 9793.8642578125, Exactitud: 69.14559173583984, Perdida de prueba: 5967.419921875, Exactitud de prueba: 73.42857360839844\n",
            "Epoch 123, Perdida: 8613.259765625, Exactitud: 69.41216278076172, Perdida de prueba: 19531.083984375, Exactitud de prueba: 61.70899200439453\n",
            "Epoch 124, Perdida: 8818.548828125, Exactitud: 70.51948547363281, Perdida de prueba: 9805.6552734375, Exactitud de prueba: 69.79894256591797\n",
            "Epoch 125, Perdida: 7269.5107421875, Exactitud: 70.74276733398438, Perdida de prueba: 12625.3369140625, Exactitud de prueba: 72.2645492553711\n",
            "Epoch 126, Perdida: 8497.34765625, Exactitud: 68.79698944091797, Perdida de prueba: 7228.51904296875, Exactitud de prueba: 67.51852416992188\n",
            "Epoch 127, Perdida: 11774.626953125, Exactitud: 66.56641387939453, Perdida de prueba: 11806.626953125, Exactitud de prueba: 66.53968048095703\n",
            "Epoch 128, Perdida: 6900.3427734375, Exactitud: 71.47186279296875, Perdida de prueba: 6174.3466796875, Exactitud de prueba: 73.7195816040039\n",
            "Epoch 129, Perdida: 9092.4501953125, Exactitud: 67.96308898925781, Perdida de prueba: 11140.9951171875, Exactitud de prueba: 69.98941802978516\n",
            "Epoch 130, Perdida: 6420.34326171875, Exactitud: 72.44474792480469, Perdida de prueba: 5194.28759765625, Exactitud de prueba: 75.83597564697266\n",
            "Epoch 131, Perdida: 7456.36865234375, Exactitud: 70.97289276123047, Perdida de prueba: 7151.97705078125, Exactitud de prueba: 69.79365539550781\n",
            "Epoch 132, Perdida: 6078.8876953125, Exactitud: 72.98245239257812, Perdida de prueba: 8169.48046875, Exactitud de prueba: 71.06349182128906\n",
            "Epoch 133, Perdida: 8668.5322265625, Exactitud: 69.30280303955078, Perdida de prueba: 8757.5771484375, Exactitud de prueba: 67.2645492553711\n",
            "Epoch 134, Perdida: 6459.58203125, Exactitud: 71.8705825805664, Perdida de prueba: 11444.78515625, Exactitud de prueba: 65.30158233642578\n",
            "Epoch 135, Perdida: 6520.693359375, Exactitud: 71.61084747314453, Perdida de prueba: 6185.55517578125, Exactitud de prueba: 70.25396728515625\n",
            "Epoch 136, Perdida: 7227.97412109375, Exactitud: 70.20050048828125, Perdida de prueba: 22693.24609375, Exactitud de prueba: 53.439151763916016\n",
            "Epoch 137, Perdida: 7291.6826171875, Exactitud: 70.46935272216797, Perdida de prueba: 8345.345703125, Exactitud de prueba: 65.6455078125\n",
            "Epoch 138, Perdida: 5264.15234375, Exactitud: 73.72294616699219, Perdida de prueba: 10961.5048828125, Exactitud de prueba: 65.661376953125\n",
            "Epoch 139, Perdida: 5941.8095703125, Exactitud: 72.83891296386719, Perdida de prueba: 6814.14453125, Exactitud de prueba: 69.98941802978516\n",
            "Epoch 140, Perdida: 5128.6171875, Exactitud: 73.73661041259766, Perdida de prueba: 10666.0693359375, Exactitud de prueba: 65.27513122558594\n",
            "Epoch 141, Perdida: 5701.6494140625, Exactitud: 72.2693099975586, Perdida de prueba: 7889.1259765625, Exactitud de prueba: 70.34391784667969\n",
            "Epoch 142, Perdida: 6032.8466796875, Exactitud: 72.05058288574219, Perdida de prueba: 9726.193359375, Exactitud de prueba: 67.59788513183594\n",
            "Epoch 143, Perdida: 6958.55078125, Exactitud: 70.89997863769531, Perdida de prueba: 3916.68603515625, Exactitud de prueba: 75.93121337890625\n",
            "Epoch 144, Perdida: 4846.36376953125, Exactitud: 74.8279800415039, Perdida de prueba: 6041.27685546875, Exactitud de prueba: 72.57672119140625\n",
            "Epoch 145, Perdida: 5091.15966796875, Exactitud: 73.77079010009766, Perdida de prueba: 15300.4716796875, Exactitud de prueba: 61.37565994262695\n",
            "Epoch 146, Perdida: 7063.888671875, Exactitud: 71.12326049804688, Perdida de prueba: 7578.79345703125, Exactitud de prueba: 64.13756561279297\n",
            "Epoch 147, Perdida: 5812.7109375, Exactitud: 72.79335021972656, Perdida de prueba: 4447.25439453125, Exactitud de prueba: 74.11640167236328\n",
            "Epoch 148, Perdida: 4828.97265625, Exactitud: 74.4543228149414, Perdida de prueba: 9100.6904296875, Exactitud de prueba: 66.984130859375\n",
            "Epoch 149, Perdida: 4428.734375, Exactitud: 74.64570617675781, Perdida de prueba: 3720.99560546875, Exactitud de prueba: 76.48677062988281\n",
            "Epoch 150, Perdida: 4588.5908203125, Exactitud: 74.76646423339844, Perdida de prueba: 8740.0244140625, Exactitud de prueba: 72.53439331054688\n",
            "Epoch 151, Perdida: 4891.2021484375, Exactitud: 74.22875213623047, Perdida de prueba: 5755.2431640625, Exactitud de prueba: 71.23280334472656\n",
            "Epoch 152, Perdida: 4912.15185546875, Exactitud: 74.11483764648438, Perdida de prueba: 8617.9833984375, Exactitud de prueba: 70.12698364257812\n",
            "Epoch 153, Perdida: 4283.81005859375, Exactitud: 74.91455841064453, Perdida de prueba: 8689.7978515625, Exactitud de prueba: 72.86243438720703\n",
            "Epoch 154, Perdida: 4080.775146484375, Exactitud: 75.59808349609375, Perdida de prueba: 9753.6875, Exactitud de prueba: 61.88359832763672\n",
            "Epoch 155, Perdida: 8210.662109375, Exactitud: 69.5989990234375, Perdida de prueba: 5587.47998046875, Exactitud de prueba: 71.85185241699219\n",
            "Epoch 156, Perdida: 3727.2509765625, Exactitud: 76.07427978515625, Perdida de prueba: 3655.966552734375, Exactitud de prueba: 75.92063903808594\n",
            "Epoch 157, Perdida: 3966.19775390625, Exactitud: 75.94213104248047, Perdida de prueba: 9249.810546875, Exactitud de prueba: 72.71428680419922\n",
            "Epoch 158, Perdida: 3927.98388671875, Exactitud: 75.57530212402344, Perdida de prueba: 2748.69677734375, Exactitud de prueba: 79.61375427246094\n",
            "Epoch 159, Perdida: 3215.100830078125, Exactitud: 77.17931365966797, Perdida de prueba: 5472.990234375, Exactitud de prueba: 70.71427917480469\n",
            "Epoch 160, Perdida: 3914.252685546875, Exactitud: 75.62542724609375, Perdida de prueba: 5130.25927734375, Exactitud de prueba: 71.98412322998047\n",
            "Epoch 161, Perdida: 4061.468017578125, Exactitud: 74.97380065917969, Perdida de prueba: 6453.65087890625, Exactitud de prueba: 72.57672119140625\n",
            "Epoch 162, Perdida: 3667.325927734375, Exactitud: 75.1788558959961, Perdida de prueba: 2723.908203125, Exactitud de prueba: 79.20105743408203\n",
            "Epoch 163, Perdida: 3331.54931640625, Exactitud: 76.32034301757812, Perdida de prueba: 3973.384033203125, Exactitud de prueba: 76.02645874023438\n",
            "Epoch 164, Perdida: 4935.67529296875, Exactitud: 73.15789794921875, Perdida de prueba: 3518.1435546875, Exactitud de prueba: 75.78306579589844\n",
            "Epoch 165, Perdida: 3272.47314453125, Exactitud: 76.59147644042969, Perdida de prueba: 6498.23828125, Exactitud de prueba: 71.84127044677734\n",
            "Epoch 166, Perdida: 3026.117431640625, Exactitud: 77.2180404663086, Perdida de prueba: 6280.57373046875, Exactitud de prueba: 74.62963104248047\n",
            "Epoch 167, Perdida: 3310.839111328125, Exactitud: 76.06288146972656, Perdida de prueba: 5538.66650390625, Exactitud de prueba: 69.91534423828125\n",
            "Epoch 168, Perdida: 2926.647705078125, Exactitud: 77.07222747802734, Perdida de prueba: 3392.293212890625, Exactitud de prueba: 75.77249145507812\n",
            "Epoch 169, Perdida: 3016.794921875, Exactitud: 76.47300720214844, Perdida de prueba: 3811.156005859375, Exactitud de prueba: 74.7566146850586\n",
            "Epoch 170, Perdida: 2807.923095703125, Exactitud: 77.05400085449219, Perdida de prueba: 3345.862548828125, Exactitud de prueba: 74.53439331054688\n",
            "Epoch 171, Perdida: 2835.212890625, Exactitud: 77.30690002441406, Perdida de prueba: 6014.953125, Exactitud de prueba: 71.14814758300781\n",
            "Epoch 172, Perdida: 2761.80224609375, Exactitud: 76.94691467285156, Perdida de prueba: 2337.776611328125, Exactitud de prueba: 78.22222137451172\n",
            "Epoch 173, Perdida: 2508.20751953125, Exactitud: 77.94941711425781, Perdida de prueba: 4437.2041015625, Exactitud de prueba: 73.43914794921875\n",
            "Epoch 174, Perdida: 2979.411376953125, Exactitud: 75.73706817626953, Perdida de prueba: 3172.193115234375, Exactitud de prueba: 75.62434387207031\n",
            "Epoch 175, Perdida: 2358.56689453125, Exactitud: 77.96992492675781, Perdida de prueba: 2909.64697265625, Exactitud de prueba: 75.44973754882812\n",
            "Epoch 176, Perdida: 2551.791015625, Exactitud: 77.14286041259766, Perdida de prueba: 3824.748291015625, Exactitud de prueba: 74.5661392211914\n",
            "Epoch 177, Perdida: 2183.58154296875, Exactitud: 78.60332489013672, Perdida de prueba: 2955.2578125, Exactitud de prueba: 75.52381134033203\n",
            "Epoch 178, Perdida: 2156.174560546875, Exactitud: 78.54180908203125, Perdida de prueba: 2837.166259765625, Exactitud de prueba: 74.98941802978516\n",
            "Epoch 179, Perdida: 2199.1435546875, Exactitud: 78.06333923339844, Perdida de prueba: 2918.73583984375, Exactitud de prueba: 75.64021301269531\n",
            "Epoch 180, Perdida: 2256.688232421875, Exactitud: 77.63499450683594, Perdida de prueba: 2355.58935546875, Exactitud de prueba: 77.61904907226562\n",
            "Epoch 181, Perdida: 2132.27880859375, Exactitud: 78.22966766357422, Perdida de prueba: 4938.0556640625, Exactitud de prueba: 72.58729553222656\n",
            "Epoch 182, Perdida: 2690.316650390625, Exactitud: 75.84870910644531, Perdida de prueba: 2646.614013671875, Exactitud de prueba: 76.14286041259766\n",
            "Epoch 183, Perdida: 3590.85205078125, Exactitud: 74.22875213623047, Perdida de prueba: 2069.578369140625, Exactitud de prueba: 77.77777862548828\n",
            "Epoch 184, Perdida: 2099.3154296875, Exactitud: 77.83094024658203, Perdida de prueba: 2581.291748046875, Exactitud de prueba: 72.37036895751953\n",
            "Epoch 185, Perdida: 2216.794921875, Exactitud: 77.22032165527344, Perdida de prueba: 1551.3538818359375, Exactitud de prueba: 80.14814758300781\n",
            "Epoch 186, Perdida: 1777.7872314453125, Exactitud: 79.30280303955078, Perdida de prueba: 2409.640869140625, Exactitud de prueba: 76.25926208496094\n",
            "Epoch 187, Perdida: 1925.619140625, Exactitud: 78.51219177246094, Perdida de prueba: 1652.45166015625, Exactitud de prueba: 78.42857360839844\n",
            "Epoch 188, Perdida: 1993.0953369140625, Exactitud: 77.6600570678711, Perdida de prueba: 3628.684814453125, Exactitud de prueba: 73.80952453613281\n",
            "Epoch 189, Perdida: 1685.5751953125, Exactitud: 79.19571685791016, Perdida de prueba: 1982.60693359375, Exactitud de prueba: 77.3968276977539\n",
            "Epoch 190, Perdida: 1719.4248046875, Exactitud: 78.62838745117188, Perdida de prueba: 2405.531494140625, Exactitud de prueba: 75.30687713623047\n",
            "Epoch 191, Perdida: 1581.3914794921875, Exactitud: 79.20482635498047, Perdida de prueba: 1837.289794921875, Exactitud de prueba: 77.94709014892578\n",
            "Epoch 192, Perdida: 1456.109619140625, Exactitud: 79.8587417602539, Perdida de prueba: 1918.8673095703125, Exactitud de prueba: 76.4761962890625\n",
            "Epoch 193, Perdida: 1471.16552734375, Exactitud: 79.7539291381836, Perdida de prueba: 1996.8101806640625, Exactitud de prueba: 76.95237731933594\n",
            "Epoch 194, Perdida: 1351.83837890625, Exactitud: 80.26201629638672, Perdida de prueba: 1894.76904296875, Exactitud de prueba: 75.77777862548828\n",
            "Epoch 195, Perdida: 1394.508056640625, Exactitud: 79.46001434326172, Perdida de prueba: 1218.246337890625, Exactitud de prueba: 80.61375427246094\n",
            "Epoch 196, Perdida: 1486.8896484375, Exactitud: 78.40054321289062, Perdida de prueba: 1700.82666015625, Exactitud de prueba: 77.79365539550781\n",
            "Epoch 197, Perdida: 1219.8970947265625, Exactitud: 80.45796203613281, Perdida de prueba: 1516.82958984375, Exactitud de prueba: 76.93650817871094\n",
            "Epoch 198, Perdida: 1389.197509765625, Exactitud: 78.98382568359375, Perdida de prueba: 1620.385986328125, Exactitud de prueba: 77.4497299194336\n",
            "Epoch 199, Perdida: 1280.0390625, Exactitud: 79.68785858154297, Perdida de prueba: 1653.4080810546875, Exactitud de prueba: 77.88888549804688\n",
            "Epoch 200, Perdida: 1264.8143310546875, Exactitud: 79.63088989257812, Perdida de prueba: 1885.2120361328125, Exactitud de prueba: 76.14286041259766\n",
            "Epoch 201, Perdida: 1179.21630859375, Exactitud: 79.77899169921875, Perdida de prueba: 2099.02099609375, Exactitud de prueba: 74.82010650634766\n",
            "Epoch 202, Perdida: 1236.738037109375, Exactitud: 79.42811584472656, Perdida de prueba: 1990.669677734375, Exactitud de prueba: 75.5873031616211\n",
            "Epoch 203, Perdida: 1119.0859375, Exactitud: 80.14582061767578, Perdida de prueba: 1518.685791015625, Exactitud de prueba: 76.99471282958984\n",
            "Epoch 204, Perdida: 1256.2979736328125, Exactitud: 78.59193420410156, Perdida de prueba: 1237.528564453125, Exactitud de prueba: 78.05290985107422\n",
            "Epoch 205, Perdida: 1149.7978515625, Exactitud: 79.52836608886719, Perdida de prueba: 1700.5526123046875, Exactitud de prueba: 74.66666412353516\n",
            "Epoch 206, Perdida: 1256.788330078125, Exactitud: 78.65800476074219, Perdida de prueba: 1028.834716796875, Exactitud de prueba: 79.59788513183594\n",
            "Epoch 207, Perdida: 1386.474853515625, Exactitud: 77.63727569580078, Perdida de prueba: 835.0471801757812, Exactitud de prueba: 82.59788513183594\n",
            "Epoch 208, Perdida: 984.8297119140625, Exactitud: 80.4215087890625, Perdida de prueba: 837.9671630859375, Exactitud de prueba: 81.34920501708984\n",
            "Epoch 209, Perdida: 939.2195434570312, Exactitud: 80.37366485595703, Perdida de prueba: 994.9674072265625, Exactitud de prueba: 80.02645111083984\n",
            "Epoch 210, Perdida: 893.7314453125, Exactitud: 80.97972106933594, Perdida de prueba: 1120.717041015625, Exactitud de prueba: 76.0740737915039\n",
            "Epoch 211, Perdida: 901.4144287109375, Exactitud: 80.6197280883789, Perdida de prueba: 1887.76025390625, Exactitud de prueba: 74.21693420410156\n",
            "Epoch 212, Perdida: 879.710205078125, Exactitud: 80.56961059570312, Perdida de prueba: 905.311767578125, Exactitud de prueba: 79.53439331054688\n",
            "Epoch 213, Perdida: 877.3772583007812, Exactitud: 80.31214141845703, Perdida de prueba: 907.912353515625, Exactitud de prueba: 78.20634460449219\n",
            "Epoch 214, Perdida: 794.270263671875, Exactitud: 81.05035400390625, Perdida de prueba: 686.7861328125, Exactitud de prueba: 81.88359832763672\n",
            "Epoch 215, Perdida: 761.9547729492188, Exactitud: 81.12782287597656, Perdida de prueba: 1691.561279296875, Exactitud de prueba: 73.2486801147461\n",
            "Epoch 216, Perdida: 767.7693481445312, Exactitud: 81.1027603149414, Perdida de prueba: 1191.9405517578125, Exactitud de prueba: 73.86772918701172\n",
            "Epoch 217, Perdida: 796.5684204101562, Exactitud: 80.45112609863281, Perdida de prueba: 655.1768188476562, Exactitud de prueba: 82.25396728515625\n",
            "Epoch 218, Perdida: 630.3787841796875, Exactitud: 82.26020050048828, Perdida de prueba: 711.9660034179688, Exactitud de prueba: 81.21693420410156\n",
            "Epoch 219, Perdida: 642.0037841796875, Exactitud: 81.54021453857422, Perdida de prueba: 756.893310546875, Exactitud de prueba: 78.88888549804688\n",
            "Epoch 220, Perdida: 638.2997436523438, Exactitud: 81.59033966064453, Perdida de prueba: 715.6649780273438, Exactitud de prueba: 79.68782806396484\n",
            "Epoch 221, Perdida: 599.9445190429688, Exactitud: 81.52198791503906, Perdida de prueba: 645.0589599609375, Exactitud de prueba: 81.14285278320312\n",
            "Epoch 222, Perdida: 592.4487915039062, Exactitud: 81.67236328125, Perdida de prueba: 544.0921630859375, Exactitud de prueba: 82.21163940429688\n",
            "Epoch 223, Perdida: 621.226806640625, Exactitud: 80.4693603515625, Perdida de prueba: 867.9071655273438, Exactitud de prueba: 74.36508178710938\n",
            "Epoch 224, Perdida: 561.1425170898438, Exactitud: 81.62451171875, Perdida de prueba: 793.6705932617188, Exactitud de prueba: 76.01058197021484\n",
            "Epoch 225, Perdida: 548.8432006835938, Exactitud: 81.78173065185547, Perdida de prueba: 493.4211120605469, Exactitud de prueba: 82.57672119140625\n",
            "Epoch 226, Perdida: 543.2067260742188, Exactitud: 81.22123718261719, Perdida de prueba: 507.0935363769531, Exactitud de prueba: 81.80423736572266\n",
            "Epoch 227, Perdida: 471.2880859375, Exactitud: 82.2761459350586, Perdida de prueba: 452.62127685546875, Exactitud de prueba: 82.25396728515625\n",
            "Epoch 228, Perdida: 497.33331298828125, Exactitud: 81.2303466796875, Perdida de prueba: 445.1336364746094, Exactitud de prueba: 83.13756561279297\n",
            "Epoch 229, Perdida: 442.9697265625, Exactitud: 82.488037109375, Perdida de prueba: 654.742919921875, Exactitud de prueba: 75.50794219970703\n",
            "Epoch 230, Perdida: 458.3022155761719, Exactitud: 81.71109771728516, Perdida de prueba: 459.8376770019531, Exactitud de prueba: 81.35978698730469\n",
            "Epoch 231, Perdida: 431.86541748046875, Exactitud: 82.34449768066406, Perdida de prueba: 956.128662109375, Exactitud de prueba: 71.00528717041016\n",
            "Epoch 232, Perdida: 413.48138427734375, Exactitud: 82.44019317626953, Perdida de prueba: 424.2059326171875, Exactitud de prueba: 81.51322937011719\n",
            "Epoch 233, Perdida: 368.950439453125, Exactitud: 82.84346771240234, Perdida de prueba: 356.45111083984375, Exactitud de prueba: 83.10581970214844\n",
            "Epoch 234, Perdida: 358.70660400390625, Exactitud: 82.91410064697266, Perdida de prueba: 492.4731140136719, Exactitud de prueba: 78.40740966796875\n",
            "Epoch 235, Perdida: 387.30291748046875, Exactitud: 81.77944946289062, Perdida de prueba: 551.7894287109375, Exactitud de prueba: 75.4285659790039\n",
            "Epoch 236, Perdida: 375.5894470214844, Exactitud: 82.31488037109375, Perdida de prueba: 361.4999084472656, Exactitud de prueba: 81.80952453613281\n",
            "Epoch 237, Perdida: 377.53936767578125, Exactitud: 81.95033264160156, Perdida de prueba: 312.3733215332031, Exactitud de prueba: 84.13227844238281\n",
            "Epoch 238, Perdida: 314.6444091796875, Exactitud: 83.22624206542969, Perdida de prueba: 426.9643249511719, Exactitud de prueba: 79.8465576171875\n",
            "Epoch 239, Perdida: 303.0001220703125, Exactitud: 82.9710693359375, Perdida de prueba: 564.2555541992188, Exactitud de prueba: 77.49736022949219\n",
            "Epoch 240, Perdida: 306.51025390625, Exactitud: 82.80017852783203, Perdida de prueba: 317.9656066894531, Exactitud de prueba: 82.50264739990234\n",
            "Epoch 241, Perdida: 270.1193542480469, Exactitud: 83.50421905517578, Perdida de prueba: 377.4256591796875, Exactitud de prueba: 80.65079498291016\n",
            "Epoch 242, Perdida: 295.9326477050781, Exactitud: 82.52677154541016, Perdida de prueba: 375.58203125, Exactitud de prueba: 79.67195129394531\n",
            "Epoch 243, Perdida: 250.25570678710938, Exactitud: 83.74800872802734, Perdida de prueba: 311.7649841308594, Exactitud de prueba: 80.68783569335938\n",
            "Epoch 244, Perdida: 287.26971435546875, Exactitud: 82.42424011230469, Perdida de prueba: 361.3233947753906, Exactitud de prueba: 79.71428680419922\n",
            "Epoch 245, Perdida: 231.7882537841797, Exactitud: 83.86648559570312, Perdida de prueba: 378.80078125, Exactitud de prueba: 78.74073791503906\n",
            "Epoch 246, Perdida: 240.79129028320312, Exactitud: 83.19207000732422, Perdida de prueba: 290.37835693359375, Exactitud de prueba: 81.66666412353516\n",
            "Epoch 247, Perdida: 221.70785522460938, Exactitud: 83.70471954345703, Perdida de prueba: 272.1408386230469, Exactitud de prueba: 81.21163940429688\n",
            "Epoch 248, Perdida: 209.27236938476562, Exactitud: 83.88926696777344, Perdida de prueba: 204.03936767578125, Exactitud de prueba: 84.06877899169922\n",
            "Epoch 249, Perdida: 215.7100830078125, Exactitud: 83.58851623535156, Perdida de prueba: 233.9034423828125, Exactitud de prueba: 82.98941802978516\n",
            "Epoch 250, Perdida: 211.227294921875, Exactitud: 83.28776550292969, Perdida de prueba: 248.8988037109375, Exactitud de prueba: 83.17989349365234\n",
            "Epoch 251, Perdida: 191.77020263671875, Exactitud: 84.02825164794922, Perdida de prueba: 210.7282257080078, Exactitud de prueba: 84.03703308105469\n",
            "Epoch 252, Perdida: 170.23788452148438, Exactitud: 84.76874542236328, Perdida de prueba: 323.9170227050781, Exactitud de prueba: 78.1851806640625\n",
            "Epoch 253, Perdida: 191.73793029785156, Exactitud: 83.85509490966797, Perdida de prueba: 223.3319091796875, Exactitud de prueba: 81.9100570678711\n",
            "Epoch 254, Perdida: 195.14404296875, Exactitud: 83.62496948242188, Perdida de prueba: 212.14410400390625, Exactitud de prueba: 83.10581970214844\n",
            "Epoch 255, Perdida: 178.17079162597656, Exactitud: 84.16950988769531, Perdida de prueba: 178.24478149414062, Exactitud de prueba: 84.53968048095703\n",
            "Epoch 256, Perdida: 171.18760681152344, Exactitud: 84.21964263916016, Perdida de prueba: 258.46673583984375, Exactitud de prueba: 78.59788513183594\n",
            "Epoch 257, Perdida: 142.36802673339844, Exactitud: 85.1720199584961, Perdida de prueba: 179.93524169921875, Exactitud de prueba: 82.96295928955078\n",
            "Epoch 258, Perdida: 162.4465789794922, Exactitud: 83.9348373413086, Perdida de prueba: 184.20997619628906, Exactitud de prueba: 82.68254089355469\n",
            "Epoch 259, Perdida: 141.86627197265625, Exactitud: 84.7983627319336, Perdida de prueba: 175.3309783935547, Exactitud de prueba: 82.48147583007812\n",
            "Epoch 260, Perdida: 158.6712188720703, Exactitud: 84.126220703125, Perdida de prueba: 324.2934265136719, Exactitud de prueba: 72.52381134033203\n",
            "Epoch 261, Perdida: 166.72274780273438, Exactitud: 83.85053253173828, Perdida de prueba: 232.29127502441406, Exactitud de prueba: 79.60846710205078\n",
            "Epoch 262, Perdida: 126.9894790649414, Exactitud: 85.29049682617188, Perdida de prueba: 172.2025146484375, Exactitud de prueba: 82.49735260009766\n",
            "Epoch 263, Perdida: 115.90682983398438, Exactitud: 85.36569213867188, Perdida de prueba: 125.095703125, Exactitud de prueba: 85.60317993164062\n",
            "Epoch 264, Perdida: 112.37183380126953, Exactitud: 85.48188781738281, Perdida de prueba: 178.96139526367188, Exactitud de prueba: 81.37036895751953\n",
            "Epoch 265, Perdida: 125.81197357177734, Exactitud: 84.6092529296875, Perdida de prueba: 132.44808959960938, Exactitud de prueba: 85.03174591064453\n"
          ]
        }
      ],
      "source": [
        "params = {\"Epocas\": 265,#45\n",
        "          \"Numero Batches\": 210,\n",
        "          \"Tamaño de Batch\": 210}\n",
        "\n",
        "(Train_A, Test_A), (Train_L, Test_L) = fitting(DNN, x_train, y_train, x_val, y_val, *params.values())\n"
      ]
    },
    {
      "cell_type": "markdown",
      "source": [
        "### Curvas de aprendizaje"
      ],
      "metadata": {
        "id": "EtwStLhDaJ75"
      },
      "id": "EtwStLhDaJ75"
    },
    {
      "cell_type": "code",
      "execution_count": null,
      "id": "56c5a3b9",
      "metadata": {
        "colab": {
          "base_uri": "https://localhost:8080/",
          "height": 511
        },
        "id": "56c5a3b9",
        "outputId": "651f587d-5391-4176-eec5-80303cd1ced2"
      },
      "outputs": [
        {
          "output_type": "display_data",
          "data": {
            "text/plain": [
              "<Figure size 720x576 with 1 Axes>"
            ],
            "image/png": "[encoded data removed]"
          },
          "metadata": {
            "needs_background": "light"
          }
        }
      ],
      "source": [
        "plt.figure(figsize=(10,8))\n",
        "plt.plot(Train_A)\n",
        "plt.plot(Test_A)\n",
        "plt.title(\"Accuracy\")\n",
        "plt.xlabel(\"Epochs\")\n",
        "plt.legend([\"Train Acc\", \"Val Acc\"])\n",
        "plt.yticks(np.arange(0,1.1,0.1))\n",
        "plt.xticks(np.arange(0,params['Epocas']+20,20))\n",
        "plt.grid()\n",
        "plt.savefig(\"Accuracy_Plot.png\",dpi=300,bbox_inches='tight')\n",
        "plt.show()\n"
      ]
    },
    {
      "cell_type": "code",
      "execution_count": null,
      "id": "11529923",
      "metadata": {
        "colab": {
          "base_uri": "https://localhost:8080/",
          "height": 511
        },
        "id": "11529923",
        "outputId": "e5683e02-4181-43ac-8022-89012debd4b1"
      },
      "outputs": [
        {
          "output_type": "display_data",
          "data": {
            "text/plain": [
              "<Figure size 720x576 with 1 Axes>"
            ],
            "image/png": "[encoded data removed]"
          },
          "metadata": {
            "needs_background": "light"
          }
        }
      ],
      "source": [
        "plt.figure(figsize=(10,8))\n",
        "plt.plot(Train_L)\n",
        "plt.plot(Test_L)\n",
        "plt.title(\"Loss\")\n",
        "plt.xlabel(\"Epochs\")\n",
        "plt.legend([\"Train Loss\", \"Val Loss\"])\n",
        "\n",
        "plt.xticks(np.arange(0,params['Epocas']+20,20))\n",
        "plt.grid()\n",
        "plt.savefig(\"Loss_Plot.png\",dpi=300,bbox_inches='tight')\n",
        "plt.show()\n"
      ]
    },
    {
      "cell_type": "markdown",
      "source": [
        "Despues de el proceso de entrenamiento, los pesos del modelo podrán usarse para hacer inferencia:"
      ],
      "metadata": {
        "id": "-GFbsC4bUsau"
      },
      "id": "-GFbsC4bUsau"
    },
    {
      "cell_type": "code",
      "source": [
        "np.argmax(DNN(np.expand_dims(X[0],axis=0)))"
      ],
      "metadata": {
        "colab": {
          "base_uri": "https://localhost:8080/"
        },
        "id": "n1hPd8gSsA8H",
        "outputId": "a95ac6a5-982b-4f36-b8c7-fbedd6cee204"
      },
      "id": "n1hPd8gSsA8H",
      "execution_count": null,
      "outputs": [
        {
          "output_type": "execute_result",
          "data": {
            "text/plain": [
              "9"
            ]
          },
          "metadata": {},
          "execution_count": 464
        }
      ]
    },
    {
      "cell_type": "markdown",
      "source": [
        "El indice 9 representa a la clase 'Ankle Boot'"
      ],
      "metadata": {
        "id": "K2Zim_VFVMJC"
      },
      "id": "K2Zim_VFVMJC"
    },
    {
      "cell_type": "code",
      "source": [
        "img0=X[0].reshape((28,28))\n",
        "plt.imshow(img0)\n"
      ],
      "metadata": {
        "colab": {
          "base_uri": "https://localhost:8080/",
          "height": 306
        },
        "id": "St20FGr1tNWH",
        "outputId": "b855e418-3ba8-46d6-bc09-0ada419cb5ae"
      },
      "id": "St20FGr1tNWH",
      "execution_count": null,
      "outputs": [
        {
          "output_type": "execute_result",
          "data": {
            "text/plain": [
              "<matplotlib.image.AxesImage at 0x7fbf354d5390>"
            ]
          },
          "metadata": {},
          "execution_count": 465
        },
        {
          "output_type": "display_data",
          "data": {
            "text/plain": [
              "<Figure size 460.8x316.8 with 1 Axes>"
            ],
            "image/png": "[encoded data removed]"
          },
          "metadata": {
            "needs_background": "light"
          }
        }
      ]
    },
    {
      "cell_type": "markdown",
      "source": [
        "Para facilitar lo anterior, se puede hacer uso del metodo predict de la clase DNN"
      ],
      "metadata": {
        "id": "02WB-1ozz19T"
      },
      "id": "02WB-1ozz19T"
    },
    {
      "cell_type": "markdown",
      "source": [
        "## Medidas de Desempeño\n",
        "\n",
        "A partir del conjunto de datos de prueba medimos la precisión del modelo obtenido."
      ],
      "metadata": {
        "id": "dGkWqVCGpvGb"
      },
      "id": "dGkWqVCGpvGb"
    },
    {
      "cell_type": "code",
      "source": [
        "batch=x_test\n",
        "label=DNN.predict(batch)\n",
        "label.shape"
      ],
      "metadata": {
        "colab": {
          "base_uri": "https://localhost:8080/"
        },
        "id": "a6HwOI9vpuQS",
        "outputId": "54dc1a3e-3d07-4cf6-f148-a6f5eb16cb53"
      },
      "id": "a6HwOI9vpuQS",
      "execution_count": null,
      "outputs": [
        {
          "output_type": "execute_result",
          "data": {
            "text/plain": [
              "(7000, 10)"
            ]
          },
          "metadata": {},
          "execution_count": 467
        }
      ]
    },
    {
      "cell_type": "code",
      "source": [
        "y_test.shape"
      ],
      "metadata": {
        "colab": {
          "base_uri": "https://localhost:8080/"
        },
        "id": "crwU6imntLMh",
        "outputId": "08283ade-dd23-4d6c-9122-33e7e1b05db7"
      },
      "id": "crwU6imntLMh",
      "execution_count": null,
      "outputs": [
        {
          "output_type": "execute_result",
          "data": {
            "text/plain": [
              "(7000, 10)"
            ]
          },
          "metadata": {},
          "execution_count": 469
        }
      ]
    },
    {
      "cell_type": "code",
      "source": [
        "from sklearn.metrics import accuracy_score,confusion_matrix\n",
        "\n",
        "score=accuracy_score(y_test,label)\n",
        "\n",
        "print(\"Precision de:{}\".format(score))"
      ],
      "metadata": {
        "colab": {
          "base_uri": "https://localhost:8080/"
        },
        "id": "l6mXf7ZkuA2g",
        "outputId": "fb1d3d3e-9286-49b4-d328-aabd7c3d6095"
      },
      "id": "l6mXf7ZkuA2g",
      "execution_count": null,
      "outputs": [
        {
          "output_type": "stream",
          "name": "stdout",
          "text": [
            "Precision de:0.8572857142857143\n"
          ]
        }
      ]
    },
    {
      "cell_type": "code",
      "source": [
        "from sklearn.metrics import ConfusionMatrixDisplay\n",
        "figure,ax=plt.subplots(figsize=(10,10))\n",
        "ConfusionMatrixDisplay.from_predictions(np.argmax(y_test,axis=1), \n",
        "                                        np.argmax(label,axis=1),\n",
        "                                        display_labels=[\"T-Shirt\",\"Trouser\",\n",
        "                                                \"Pullover\",\"Dress\",\n",
        "                                                \"Coat\",\"Sandal\",\n",
        "                                                \"Shirt\",\"Senaker\",\n",
        "                                                \"Bag\",\"Ankle Boot\"],\n",
        "                                        xticks_rotation='vertical',\n",
        "                                        ax=ax)\n",
        "plt.savefig(\"CFMatrix_Plot.png\",dpi=300,bbox_inches='tight')\n",
        "plt.show()"
      ],
      "metadata": {
        "colab": {
          "base_uri": "https://localhost:8080/",
          "height": 592
        },
        "id": "GjWTWo71fGMi",
        "outputId": "ec461547-4e69-406b-f1d0-8de51656f578"
      },
      "id": "GjWTWo71fGMi",
      "execution_count": null,
      "outputs": [
        {
          "output_type": "display_data",
          "data": {
            "text/plain": [
              "<Figure size 720x720 with 2 Axes>"
            ],
            "image/png": "[encoded data removed]"
          },
          "metadata": {
            "needs_background": "light"
          }
        }
      ]
    },
    {
      "cell_type": "code",
      "source": [
        "#@title Guardar y Descargar Modelo\n",
        "import os\n",
        "model_name='DNN_Final' #@param {type:\"string\"}\n",
        "\n",
        "tf.saved_model.save(DNN,model_name)\n",
        "\n",
        "path='/content/'\n",
        "zip_file=path+model_name+str('.zip')\n",
        "dir_to_zip=path+model_name+\" \"+\"*.png\"\n",
        "\n",
        "os.system(\"zip -r {} {}\".format(zip_file,dir_to_zip))\n",
        "\n",
        "\n",
        "files.download(zip_file)"
      ],
      "metadata": {
        "colab": {
          "base_uri": "https://localhost:8080/",
          "height": 17
        },
        "id": "H62arWOGwBYm",
        "outputId": "ae220c48-c602-4a7f-a87e-870f49fc8fb9"
      },
      "id": "H62arWOGwBYm",
      "execution_count": null,
      "outputs": [
        {
          "output_type": "display_data",
          "data": {
            "text/plain": [
              "<IPython.core.display.Javascript object>"
            ],
            "application/javascript": [
              "\n",
              "    async function download(id, filename, size) {\n",
              "      if (!google.colab.kernel.accessAllowed) {\n",
              "        return;\n",
              "      }\n",
              "      const div = document.createElement('div');\n",
              "      const label = document.createElement('label');\n",
              "      label.textContent = `Downloading \"${filename}\": `;\n",
              "      div.appendChild(label);\n",
              "      const progress = document.createElement('progress');\n",
              "      progress.max = size;\n",
              "      div.appendChild(progress);\n",
              "      document.body.appendChild(div);\n",
              "\n",
              "      const buffers = [];\n",
              "      let downloaded = 0;\n",
              "\n",
              "      const channel = await google.colab.kernel.comms.open(id);\n",
              "      // Send a message to notify the kernel that we're ready.\n",
              "      channel.send({})\n",
              "\n",
              "      for await (const message of channel.messages) {\n",
              "        // Send a message to notify the kernel that we're ready.\n",
              "        channel.send({})\n",
              "        if (message.buffers) {\n",
              "          for (const buffer of message.buffers) {\n",
              "            buffers.push(buffer);\n",
              "            downloaded += buffer.byteLength;\n",
              "            progress.value = downloaded;\n",
              "          }\n",
              "        }\n",
              "      }\n",
              "      const blob = new Blob(buffers, {type: 'application/binary'});\n",
              "      const a = document.createElement('a');\n",
              "      a.href = window.URL.createObjectURL(blob);\n",
              "      a.download = filename;\n",
              "      div.appendChild(a);\n",
              "      a.click();\n",
              "      div.remove();\n",
              "    }\n",
              "  "
            ]
          },
          "metadata": {}
        },
        {
          "output_type": "display_data",
          "data": {
            "text/plain": [
              "<IPython.core.display.Javascript object>"
            ],
            "application/javascript": [
              "download(\"download_609dee22-a867-4779-beea-16c13261a0e1\", \"DNN_Final.zip\", 5807099)"
            ]
          },
          "metadata": {}
        }
      ]
    },
    {
      "cell_type": "code",
      "source": [
        "# resored=tf.saved_model.load('NN_FullTF')"
      ],
      "metadata": {
        "id": "4_t7SHVy2lpP"
      },
      "id": "4_t7SHVy2lpP",
      "execution_count": null,
      "outputs": []
    },
    {
      "cell_type": "code",
      "source": [
        "!sudo apt-get install texlive-xetex texlive-fonts-recommended texlive-plain-generic"
      ],
      "metadata": {
        "id": "iYkvZV0e1cdh"
      },
      "id": "iYkvZV0e1cdh",
      "execution_count": null,
      "outputs": []
    },
    {
      "cell_type": "code",
      "source": [
        "!jupyter nbconvert --to pdf /content/MLP_TensorFlowV2.ipynb"
      ],
      "metadata": {
        "id": "glTzm3hx1xeB"
      },
      "id": "glTzm3hx1xeB",
      "execution_count": null,
      "outputs": []
    }
  ],
  "metadata": {
    "kernelspec": {
      "display_name": "Python 3.9.0 ('CIC_GPU')",
      "language": "python",
      "name": "python3"
    },
    "language_info": {
      "codemirror_mode": {
        "name": "ipython",
        "version": 3
      },
      "file_extension": ".py",
      "mimetype": "text/x-python",
      "name": "python",
      "nbconvert_exporter": "python",
      "pygments_lexer": "ipython3",
      "version": "3.9.0"
    },
    "vscode": {
      "interpreter": {
        "hash": "b4dee9c77bc81e8bc3192f031245e7af43a1d4d0287b5c55b4b36e62661d36f5"
      }
    },
    "colab": {
      "provenance": [],
      "collapsed_sections": []
    },
    "accelerator": "GPU"
  },
  "nbformat": 4,
  "nbformat_minor": 5
}