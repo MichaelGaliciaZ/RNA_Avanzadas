{
 "cells": [
  {
   "cell_type": "markdown",
   "id": "1e215834",
   "metadata": {},
   "source": [
    "# Tarea 2: Red Neuronal Perceptrón Multicapa con TensorFlow V2"
   ]
  },
  {
   "cell_type": "markdown",
   "id": "63bc1cb0",
   "metadata": {},
   "source": [
    "## Cargamos las librerias"
   ]
  },
  {
   "cell_type": "code",
   "execution_count": 1,
   "id": "5265182e",
   "metadata": {},
   "outputs": [],
   "source": [
    "import tensorflow as tf\n",
    "import numpy as np\n",
    "import matplotlib.pyplot as plt\n",
    "from sklearn.preprocessing import LabelEncoder\n",
    "from sklearn.preprocessing import OneHotEncoder\n",
    "%matplotlib inline"
   ]
  },
  {
   "cell_type": "code",
   "execution_count": 2,
   "id": "967b2a79",
   "metadata": {},
   "outputs": [],
   "source": [
    "from tensorflow.keras.datasets.fashion_mnist import load_data\n",
    "fashion_mnist = load_data()"
   ]
  },
  {
   "cell_type": "markdown",
   "id": "3055152f",
   "metadata": {},
   "source": [
    "## Extraemos los datos"
   ]
  },
  {
   "cell_type": "code",
   "execution_count": 3,
   "id": "4403262b",
   "metadata": {},
   "outputs": [],
   "source": [
    "(x_train, y_train), (x_test, y_test)=fashion_mnist"
   ]
  },
  {
   "cell_type": "markdown",
   "id": "69bc1741",
   "metadata": {},
   "source": [
    "## Union de Datos\n",
    "\n",
    "El dataset Fashion_Mnist cuenta con 60,000 imagenes de entrenamiento y 10,000 imagenes de prueba; Para los fines de esta tarea, se hara una división del dataset con una relación 30-70, es decir, %30 del dataset será destinado a test y %70 a entrenamiento."
   ]
  },
  {
   "cell_type": "code",
   "execution_count": 4,
   "id": "af0e5507",
   "metadata": {},
   "outputs": [],
   "source": [
    "X=np.concatenate((x_train,x_test))\n",
    "Y=np.concatenate((y_train,y_test))"
   ]
  },
  {
   "cell_type": "code",
   "execution_count": 5,
   "id": "b596941e",
   "metadata": {},
   "outputs": [],
   "source": [
    "X=X.reshape(len(X),28*28).astype('float32')"
   ]
  },
  {
   "cell_type": "markdown",
   "id": "51f0cd93",
   "metadata": {},
   "source": [
    "## Codificación One Hot Encoding \n",
    "\n",
    "Las clases se representan con etiquetas numericas en el rango de $0,\\cdots,9$:\n",
    "\n",
    "<div align=\"center\">\n",
    "\n",
    "| Identificador \t| Clase \t|\n",
    "|---\t|---\t|\n",
    "| 0 \t| T-shirt/top \t|\n",
    "| 1 \t| Trouser \t|\n",
    "| 2 \t| Pullover \t|\n",
    "| 3 \t| Dress \t|\n",
    "| 4 \t| Coat \t|\n",
    "| 5 \t| Sandal \t|\n",
    "| 6 \t| Shirt \t|\n",
    "| 7 \t| Sneaker \t|\n",
    "| 8 \t| Bag \t|\n",
    "| 9 \t| Ankle Boot \t|\n",
    "\n",
    "</div>\n",
    "\n",
    "Debido al identificador puede (o no) realizarse una codificación del tipo One Hot. Esta codificación permite que el modelo neuronal interprete la distancia entre identificadores de la misma forma, es decir, en un mal aprendizaje puede asociar la clase \"Trouser\" con la clase \"Pullover\" por que los identificadores son cercanos entre si, de forma comtraria es posible que interprete una relación (erronea) entre los identificadores mas separadas, lo cual no es relevante.\n",
    "\n",
    "A fin de observar el efecto de la codificación se realizaran dos modelos: uno con codificación ONE HOT y otro sin ella.\n"
   ]
  },
  {
   "cell_type": "code",
   "execution_count": 6,
   "id": "df244be9",
   "metadata": {},
   "outputs": [],
   "source": [
    "ONE_HOT_ENC = OneHotEncoder(sparse=False)\n",
    "Y_OHE = Y.reshape(len(Y), 1)\n",
    "Y_OHE = ONE_HOT_ENC.fit_transform(Y_OHE)"
   ]
  },
  {
   "cell_type": "code",
   "execution_count": 7,
   "id": "6ef40689",
   "metadata": {},
   "outputs": [
    {
     "name": "stdout",
     "output_type": "stream",
     "text": [
      "Las dimensiones del vector de etiquetas son (70000,)\n",
      "Los primeros 10 elementos son: \n",
      " [9 0 0 3 0 2 7 2 5 5]\n"
     ]
    }
   ],
   "source": [
    "print(\"Las dimensiones del vector de etiquetas son {}\".format(Y.shape))\n",
    "print(\"Los primeros 10 elementos son: \\n {}\".format(Y[0:10]))"
   ]
  },
  {
   "cell_type": "code",
   "execution_count": 8,
   "id": "affde012",
   "metadata": {},
   "outputs": [
    {
     "name": "stdout",
     "output_type": "stream",
     "text": [
      "Los primeros 10 elementos codificados son: \n",
      " [[0. 0. 0. 0. 0. 0. 0. 0. 0. 1.]\n",
      " [1. 0. 0. 0. 0. 0. 0. 0. 0. 0.]\n",
      " [1. 0. 0. 0. 0. 0. 0. 0. 0. 0.]\n",
      " [0. 0. 0. 1. 0. 0. 0. 0. 0. 0.]\n",
      " [1. 0. 0. 0. 0. 0. 0. 0. 0. 0.]\n",
      " [0. 0. 1. 0. 0. 0. 0. 0. 0. 0.]\n",
      " [0. 0. 0. 0. 0. 0. 0. 1. 0. 0.]\n",
      " [0. 0. 1. 0. 0. 0. 0. 0. 0. 0.]\n",
      " [0. 0. 0. 0. 0. 1. 0. 0. 0. 0.]\n",
      " [0. 0. 0. 0. 0. 1. 0. 0. 0. 0.]]\n"
     ]
    }
   ],
   "source": [
    "print(\"Los primeros 10 elementos codificados son: \\n {}\".format(Y_OHE[0:10]))"
   ]
  },
  {
   "cell_type": "markdown",
   "id": "b556b83e",
   "metadata": {},
   "source": [
    "## Arquitectura de el modelo\n",
    "\n",
    "Se aprovecha el paradigma de la programación orientada a objetos de Python para desarrollar una instancia que permita la declaración de la arquitectura del modelo MLP."
   ]
  },
  {
   "cell_type": "code",
   "execution_count": 9,
   "id": "dc969293",
   "metadata": {},
   "outputs": [],
   "source": [
    "class DNN_Model():\n",
    "    def __init__(self,lenght_input,lenght_output):\n",
    "        self.Layer_1_Weights=tf.Variable(np.random.rand(lenght_input,800),\n",
    "                                         name=\"Layer_1_Weights\",\n",
    "                                         dtype=\"float32\")\n",
    "        self.Layer_1_Bias=tf.Variable(np.random.rand(800),\n",
    "                                      name=\"Layer_1_Bias\",\n",
    "                                      dtype=\"float\")\n",
    "        self.Layer_2_Weights=tf.Variable(np.random.rand(800,950),\n",
    "                                         name=\"Layer_2_Weights\",\n",
    "                                         dtype=\"float32\")\n",
    "        self.Layer_2_Bias=tf.Variable(np.random.rand(950),\n",
    "                                      name=\"Layer_2_Bias\",\n",
    "                                      dtype=\"float\")\n",
    "        self.Layer_3_Weights=tf.Variable(np.random.rand(950,600),\n",
    "                                         name=\"Layer_3_Weights\",\n",
    "                                         dtype=\"float32\")\n",
    "        self.Layer_3_Bias=tf.Variable(np.random.rand(600),\n",
    "                                      name=\"Layer_3_Bias\",\n",
    "                                      dtype=\"float\")\n",
    "        self.Output_Layer_Weights=tf.Variable(np.random.rand(600,lenght_output),\n",
    "                                              name=\"Output_Layer_Weights\",\n",
    "                                              dtype=\"float32\")\n",
    "        self.Output_Layer_Bias=tf.Variable(np.random.rand(lenght_output),\n",
    "                                           name=\"Output_Bias\",\n",
    "                                           dtype=\"float32\")\n",
    "        self.Trainable_Variables=[self.Layer_1_Weights,\n",
    "                                  self.Layer_1_Bias,\n",
    "                                  self.Layer_2_Weights,\n",
    "                                  self.Layer_2_Bias,\n",
    "                                  self.Layer_3_Weights,\n",
    "                                  self.Layer_3_Bias,\n",
    "                                  self.Output_Layer_Weights,\n",
    "                                  self.Output_Layer_Bias]\n",
    "    def __call__(self,x):\n",
    "        L1=tf.add(tf.matmul(x,self.Layer_1_Weights),self.Layer_1_Bias)\n",
    "        L1=tf.nn.relu(L1)\n",
    "        L2=tf.add(tf.matmul(L1,self.Layer_2_Weights),self.Layer_2_Bias)\n",
    "        L2=tf.nn.relu(L2)\n",
    "        L3=tf.add(tf.matmul(L2,self.Layer_3_Weights),self.Layer_3_Bias)\n",
    "        L3=tf.nn.relu(L3)\n",
    "\n",
    "        OutPut=tf.matmul(L3,self.Output_Layer_Weights)+self.Output_Layer_Bias\n",
    "\n",
    "        return OutPut\n",
    "\n"
   ]
  },
  {
   "cell_type": "code",
   "execution_count": 10,
   "id": "a4b034d9",
   "metadata": {},
   "outputs": [],
   "source": [
    "optimizador=tf.compat.v1.train.AdamOptimizer(learning_rate=0.001)\n",
    "train_loss=tf.keras.metrics.Mean(name='train_loss')\n",
    "train_accuracy = tf.keras.metrics.CategoricalAccuracy(name='train_accuracy')\n",
    "\n",
    "test_loss = tf.keras.metrics.Mean(name='test_loss')\n",
    "test_accuracy = tf.keras.metrics.CategoricalAccuracy(name='test_accuracy')"
   ]
  },
  {
   "cell_type": "markdown",
   "id": "628464d6",
   "metadata": {},
   "source": [
    "## Configuración del gradiente"
   ]
  },
  {
   "cell_type": "code",
   "execution_count": 11,
   "id": "671757d2",
   "metadata": {},
   "outputs": [],
   "source": [
    "@tf.function\n",
    "def train_step(model,tdata,labels):\n",
    "    with tf.GradientTape() as tape:\n",
    "        predictions=model(tdata)\n",
    "        loss=tf.reduce_mean(tf.nn.softmax_cross_entropy_with_logits(labels,predictions))\n",
    "    gradients=tape.gradient(loss,model.Trainable_Variables)\n",
    "    capped_grads_and_vars=[(grad,model.Trainable_Variables[index]) for index, grad in enumerate(gradients)]\n",
    "    optimizador.apply_gradients(capped_grads_and_vars)\n",
    "\n",
    "    train_loss(loss)\n",
    "    train_accuracy(labels,predictions)\n"
   ]
  },
  {
   "cell_type": "code",
   "execution_count": 12,
   "id": "335e6d85",
   "metadata": {},
   "outputs": [],
   "source": [
    "@tf.function \n",
    "def test_step(model,tdata, labels):\n",
    "  predictions = model(tdata)\n",
    "  t_loss =  tf.reduce_mean(tf.nn.softmax_cross_entropy_with_logits(labels, predictions))\n",
    "\n",
    "  test_loss(t_loss)\n",
    "  test_accuracy(labels, predictions)"
   ]
  },
  {
   "cell_type": "code",
   "execution_count": 13,
   "id": "6184ad94",
   "metadata": {},
   "outputs": [],
   "source": [
    "def fitting(model,train_x,train_y,test_x,test_y,EPOCHS,N_batch,batch_size):\n",
    "  Train_L=[]\n",
    "  Test_L=[]\n",
    "  Train_A=[]\n",
    "  Test_A=[]\n",
    "\n",
    "  for epoch in range(EPOCHS):\n",
    "    i=0\n",
    "    while i+batch_size < len(train_x) or i+batch_size<batch_size*N_batch:\n",
    "      start = i\n",
    "      end = i+batch_size\n",
    "      batch_x = train_x[start:end]\n",
    "      batch_y = train_y[start:end]\n",
    "      train_step(model,batch_x,batch_y)\n",
    "      i+=batch_size\n",
    "    test_step(model,test_x,test_y)\n",
    "\n",
    "\n",
    "    \n",
    "    template = 'Epoch {}, Perdida: {}, Exactitud: {}, Perdida de prueba: {}, Exactitud de prueba: {}'\n",
    "    print(template.format(epoch+1,\n",
    "                         train_loss.result(),\n",
    "                        train_accuracy.result()*100,\n",
    "                        test_loss.result(),\n",
    "                        test_accuracy.result()*100))\n",
    "    Train_L.append(train_loss.result())\n",
    "    Train_A.append(train_accuracy.result())\n",
    "    Test_L.append(test_loss.result())\n",
    "    Test_A.append(test_accuracy.result())\n",
    "    \n",
    "    train_loss.reset_states()\n",
    "    train_accuracy.reset_states()\n",
    "    test_loss.reset_states()\n",
    "    test_accuracy.reset_states()\n",
    "\n",
    "  return (Train_A,Test_A),(Train_L,Test_L)\n",
    "    "
   ]
  },
  {
   "cell_type": "code",
   "execution_count": 14,
   "id": "89a3ffd6",
   "metadata": {},
   "outputs": [
    {
     "name": "stdout",
     "output_type": "stream",
     "text": [
      "Epoch 1, Perdida: 6308946944.0, Exactitud: 10.161616325378418, Perdida de prueba: 1888437248.0, Exactitud de prueba: 10.40000057220459\n",
      "Epoch 2, Perdida: 1859757056.0, Exactitud: 9.575757026672363, Perdida de prueba: 2264949760.0, Exactitud de prueba: 10.100000381469727\n",
      "Epoch 3, Perdida: 2052447360.0, Exactitud: 10.606060981750488, Perdida de prueba: 1740179456.0, Exactitud de prueba: 10.300000190734863\n",
      "Epoch 4, Perdida: 1352295552.0, Exactitud: 9.313131332397461, Perdida de prueba: 1406859776.0, Exactitud de prueba: 10.300000190734863\n",
      "Epoch 5, Perdida: 969372096.0, Exactitud: 9.797980308532715, Perdida de prueba: 931395648.0, Exactitud de prueba: 9.600000381469727\n",
      "Epoch 6, Perdida: 981862336.0, Exactitud: 10.525252342224121, Perdida de prueba: 769032896.0, Exactitud de prueba: 10.300000190734863\n",
      "Epoch 7, Perdida: 699546304.0, Exactitud: 10.44444465637207, Perdida de prueba: 750302976.0, Exactitud de prueba: 9.600000381469727\n",
      "Epoch 8, Perdida: 594092544.0, Exactitud: 9.616162300109863, Perdida de prueba: 520792768.0, Exactitud de prueba: 10.0\n",
      "Epoch 9, Perdida: 418750368.0, Exactitud: 10.565656661987305, Perdida de prueba: 395924736.0, Exactitud de prueba: 11.100000381469727\n",
      "Epoch 10, Perdida: 341710880.0, Exactitud: 9.878787994384766, Perdida de prueba: 293431552.0, Exactitud de prueba: 9.600000381469727\n",
      "Epoch 11, Perdida: 296321600.0, Exactitud: 10.020201683044434, Perdida de prueba: 209031488.0, Exactitud de prueba: 10.0\n",
      "Epoch 12, Perdida: 176581472.0, Exactitud: 10.262626647949219, Perdida de prueba: 143779632.0, Exactitud de prueba: 9.600000381469727\n",
      "Epoch 13, Perdida: 93110936.0, Exactitud: 11.373737335205078, Perdida de prueba: 52436340.0, Exactitud de prueba: 10.40000057220459\n",
      "Epoch 14, Perdida: 51422476.0, Exactitud: 14.282828330993652, Perdida de prueba: 22728932.0, Exactitud de prueba: 26.0\n",
      "Epoch 15, Perdida: 22473358.0, Exactitud: 20.989898681640625, Perdida de prueba: 21503754.0, Exactitud de prueba: 33.79999923706055\n",
      "Epoch 16, Perdida: 13629013.0, Exactitud: 26.02020263671875, Perdida de prueba: 3721005.0, Exactitud de prueba: 32.5\n",
      "Epoch 17, Perdida: 4465661.5, Exactitud: 40.84848403930664, Perdida de prueba: 5761747.0, Exactitud de prueba: 34.400001525878906\n",
      "Epoch 18, Perdida: 4576371.5, Exactitud: 40.808082580566406, Perdida de prueba: 2943957.0, Exactitud de prueba: 61.599998474121094\n",
      "Epoch 19, Perdida: 4619141.5, Exactitud: 44.38383865356445, Perdida de prueba: 2235779.0, Exactitud de prueba: 55.599998474121094\n",
      "Epoch 20, Perdida: 2054884.625, Exactitud: 52.50505065917969, Perdida de prueba: 1287480.375, Exactitud de prueba: 53.10000228881836\n",
      "Epoch 21, Perdida: 1896282.625, Exactitud: 53.65656661987305, Perdida de prueba: 808758.25, Exactitud de prueba: 65.5\n",
      "Epoch 22, Perdida: 1674838.5, Exactitud: 53.7575798034668, Perdida de prueba: 2695566.25, Exactitud de prueba: 39.70000076293945\n",
      "Epoch 23, Perdida: 1780866.125, Exactitud: 56.10101318359375, Perdida de prueba: 1401690.125, Exactitud de prueba: 52.999996185302734\n",
      "Epoch 24, Perdida: 1225351.5, Exactitud: 58.88888931274414, Perdida de prueba: 1068890.125, Exactitud de prueba: 60.29999923706055\n",
      "Epoch 25, Perdida: 1372792.875, Exactitud: 59.939395904541016, Perdida de prueba: 982508.5625, Exactitud de prueba: 64.80000305175781\n",
      "Epoch 26, Perdida: 1269342.25, Exactitud: 58.62626266479492, Perdida de prueba: 1652573.125, Exactitud de prueba: 57.0\n",
      "Epoch 27, Perdida: 1103794.0, Exactitud: 62.3232307434082, Perdida de prueba: 836113.4375, Exactitud de prueba: 67.0999984741211\n",
      "Epoch 28, Perdida: 878124.6875, Exactitud: 62.969696044921875, Perdida de prueba: 497135.625, Exactitud de prueba: 69.30000305175781\n",
      "Epoch 29, Perdida: 935430.3125, Exactitud: 62.98989486694336, Perdida de prueba: 438880.25, Exactitud de prueba: 72.5999984741211\n",
      "Epoch 30, Perdida: 930162.125, Exactitud: 63.51515197753906, Perdida de prueba: 562924.5625, Exactitud de prueba: 64.5\n",
      "Epoch 31, Perdida: 662045.1875, Exactitud: 67.53535461425781, Perdida de prueba: 536899.5625, Exactitud de prueba: 65.80000305175781\n",
      "Epoch 32, Perdida: 530476.625, Exactitud: 68.7272720336914, Perdida de prueba: 430052.34375, Exactitud de prueba: 72.5\n",
      "Epoch 33, Perdida: 546903.5625, Exactitud: 67.9595947265625, Perdida de prueba: 587937.8125, Exactitud de prueba: 62.19999694824219\n",
      "Epoch 34, Perdida: 574707.625, Exactitud: 69.49494934082031, Perdida de prueba: 495496.1875, Exactitud de prueba: 69.70000457763672\n",
      "Epoch 35, Perdida: 446667.96875, Exactitud: 70.46464538574219, Perdida de prueba: 384115.71875, Exactitud de prueba: 70.0999984741211\n",
      "Epoch 36, Perdida: 367181.96875, Exactitud: 72.36363983154297, Perdida de prueba: 464711.15625, Exactitud de prueba: 63.70000076293945\n",
      "Epoch 37, Perdida: 474889.40625, Exactitud: 69.03030395507812, Perdida de prueba: 656364.5625, Exactitud de prueba: 58.60000228881836\n",
      "Epoch 38, Perdida: 458055.75, Exactitud: 69.07070922851562, Perdida de prueba: 308342.28125, Exactitud de prueba: 74.80000305175781\n",
      "Epoch 39, Perdida: 328396.1875, Exactitud: 72.16161346435547, Perdida de prueba: 375753.71875, Exactitud de prueba: 68.9000015258789\n",
      "Epoch 40, Perdida: 290404.15625, Exactitud: 72.8484878540039, Perdida de prueba: 379229.9375, Exactitud de prueba: 66.5\n",
      "Epoch 41, Perdida: 320217.59375, Exactitud: 71.63636016845703, Perdida de prueba: 265957.625, Exactitud de prueba: 71.69999694824219\n",
      "Epoch 42, Perdida: 229522.1875, Exactitud: 74.16162109375, Perdida de prueba: 301591.03125, Exactitud de prueba: 67.5999984741211\n",
      "Epoch 43, Perdida: 199407.5625, Exactitud: 75.9595947265625, Perdida de prueba: 196208.390625, Exactitud de prueba: 74.5\n",
      "Epoch 44, Perdida: 160463.609375, Exactitud: 76.86869049072266, Perdida de prueba: 210534.40625, Exactitud de prueba: 72.29999542236328\n",
      "Epoch 45, Perdida: 158037.15625, Exactitud: 77.55555725097656, Perdida de prueba: 158034.9375, Exactitud de prueba: 75.4000015258789\n",
      "Epoch 46, Perdida: 169090.671875, Exactitud: 76.18181610107422, Perdida de prueba: 162177.65625, Exactitud de prueba: 71.80000305175781\n",
      "Epoch 47, Perdida: 120309.78125, Exactitud: 78.8080825805664, Perdida de prueba: 102645.1171875, Exactitud de prueba: 78.79999542236328\n",
      "Epoch 48, Perdida: 88018.4609375, Exactitud: 80.48484802246094, Perdida de prueba: 130607.234375, Exactitud de prueba: 71.30000305175781\n",
      "Epoch 49, Perdida: 90508.40625, Exactitud: 80.46464538574219, Perdida de prueba: 103110.65625, Exactitud de prueba: 75.0999984741211\n",
      "Epoch 50, Perdida: 90474.890625, Exactitud: 78.6868667602539, Perdida de prueba: 90615.8046875, Exactitud de prueba: 77.10000610351562\n"
     ]
    }
   ],
   "source": [
    "DNN=DNN_Model(lenght_input=28*28,lenght_output=10)\n",
    "(Train_A,Test_A),(Train_L,Test_L)=fitting(DNN,X[0:5000],Y_OHE[0:5000],X[5000:6000],Y_OHE[5000:6000],50,100,50)"
   ]
  },
  {
   "cell_type": "code",
   "execution_count": 15,
   "id": "a9723528",
   "metadata": {},
   "outputs": [
    {
     "data": {
      "image/png": "[encoded data removed]",
      "text/plain": [
       "<Figure size 432x288 with 1 Axes>"
      ]
     },
     "metadata": {
      "needs_background": "light"
     },
     "output_type": "display_data"
    }
   ],
   "source": [
    "plt.plot(Train_A)\n",
    "plt.plot(Test_A)\n",
    "plt.title(\"Accuracy\")\n",
    "plt.show()\n"
   ]
  },
  {
   "cell_type": "code",
   "execution_count": 16,
   "id": "11529923",
   "metadata": {},
   "outputs": [
    {
     "data": {
      "image/png": "[encoded data removed]",
      "text/plain": [
       "<Figure size 432x288 with 1 Axes>"
      ]
     },
     "metadata": {
      "needs_background": "light"
     },
     "output_type": "display_data"
    }
   ],
   "source": [
    "plt.plot(Train_L)\n",
    "plt.plot(Test_L)\n",
    "plt.title(\"Loss\")\n",
    "plt.show()"
   ]
  }
 ],
 "metadata": {
  "kernelspec": {
   "display_name": "Python 3.9.0 ('CIC_GPU')",
   "language": "python",
   "name": "python3"
  },
  "language_info": {
   "codemirror_mode": {
    "name": "ipython",
    "version": 3
   },
   "file_extension": ".py",
   "mimetype": "text/x-python",
   "name": "python",
   "nbconvert_exporter": "python",
   "pygments_lexer": "ipython3",
   "version": "3.9.0"
  },
  "vscode": {
   "interpreter": {
    "hash": "b4dee9c77bc81e8bc3192f031245e7af43a1d4d0287b5c55b4b36e62661d36f5"
   }
  }
 },
 "nbformat": 4,
 "nbformat_minor": 5
}
