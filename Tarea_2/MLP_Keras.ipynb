{
 "cells": [
  {
   "cell_type": "markdown",
   "id": "1e215834",
   "metadata": {},
   "source": [
    "# Tarea 2: Red Neuronal Perceptrón Multicapa con TensorFlow V2"
   ]
  },
  {
   "cell_type": "markdown",
   "id": "63bc1cb0",
   "metadata": {},
   "source": [
    "## Cargamos las librerias"
   ]
  },
  {
   "cell_type": "code",
   "execution_count": 1,
   "id": "5265182e",
   "metadata": {},
   "outputs": [
    {
     "data": {
      "text/plain": [
       "'2.6.0'"
      ]
     },
     "execution_count": 1,
     "metadata": {},
     "output_type": "execute_result"
    }
   ],
   "source": [
    "import tensorflow as tf\n",
    "import numpy as np\n",
    "import matplotlib.pyplot as plt\n",
    "from keras import models\n",
    "from keras.layers import Dense\n",
    "from sklearn.preprocessing import OneHotEncoder\n",
    "from sklearn.model_selection import train_test_split\n",
    "%matplotlib inline\n",
    "tf.__version__\n"
   ]
  },
  {
   "cell_type": "code",
   "execution_count": 2,
   "id": "967b2a79",
   "metadata": {},
   "outputs": [],
   "source": [
    "from tensorflow.keras.datasets.fashion_mnist import load_data\n",
    "fashion_mnist = load_data()\n"
   ]
  },
  {
   "cell_type": "markdown",
   "id": "3055152f",
   "metadata": {},
   "source": [
    "## Extraemos los datos"
   ]
  },
  {
   "cell_type": "code",
   "execution_count": 3,
   "id": "4403262b",
   "metadata": {},
   "outputs": [],
   "source": [
    "(x_train, y_train), (x_test, y_test) = fashion_mnist\n"
   ]
  },
  {
   "cell_type": "markdown",
   "id": "69bc1741",
   "metadata": {},
   "source": [
    "## Union de Datos\n",
    "\n",
    "El dataset Fashion_Mnist cuenta con 60,000 imagenes de entrenamiento y 10,000 imagenes de prueba; Para los fines de esta tarea, se hara una división del dataset con una relación 30-70, es decir, %30 del dataset será destinado a test y %70 a entrenamiento."
   ]
  },
  {
   "cell_type": "code",
   "execution_count": 4,
   "id": "af0e5507",
   "metadata": {},
   "outputs": [],
   "source": [
    "X = np.concatenate((x_train, x_test))\n",
    "Y = np.concatenate((y_train, y_test))\n"
   ]
  },
  {
   "cell_type": "code",
   "execution_count": 5,
   "id": "b596941e",
   "metadata": {},
   "outputs": [],
   "source": [
    "X = X.reshape(len(X), 28*28).astype('float32')\n"
   ]
  },
  {
   "cell_type": "markdown",
   "id": "51f0cd93",
   "metadata": {},
   "source": [
    "## Codificación One Hot Encoding \n",
    "\n",
    "Las clases se representan con etiquetas numericas en el rango de $0,\\cdots,9$:\n",
    "\n",
    "<div align=\"center\">\n",
    "\n",
    "| Identificador \t| Clase \t|\n",
    "|---\t|---\t|\n",
    "| 0 \t| T-shirt/top \t|\n",
    "| 1 \t| Trouser \t|\n",
    "| 2 \t| Pullover \t|\n",
    "| 3 \t| Dress \t|\n",
    "| 4 \t| Coat \t|\n",
    "| 5 \t| Sandal \t|\n",
    "| 6 \t| Shirt \t|\n",
    "| 7 \t| Sneaker \t|\n",
    "| 8 \t| Bag \t|\n",
    "| 9 \t| Ankle Boot \t|\n",
    "\n",
    "</div>\n",
    "\n",
    "Debido al identificador puede (o no) realizarse una codificación del tipo One Hot. Esta codificación permite que el modelo neuronal interprete la distancia entre identificadores de la misma forma, es decir, en un mal aprendizaje puede asociar la clase \"Trouser\" con la clase \"Pullover\" por que los identificadores son cercanos entre si, de forma comtraria es posible que interprete una relación (erronea) entre los identificadores mas separadas, lo cual no es relevante.\n",
    "\n",
    "A fin de observar el efecto de la codificación se realizaran dos modelos: uno con codificación ONE HOT y otro sin ella.\n"
   ]
  },
  {
   "cell_type": "code",
   "execution_count": 6,
   "id": "df244be9",
   "metadata": {},
   "outputs": [],
   "source": [
    "ONE_HOT_ENC = OneHotEncoder(sparse=False)\n",
    "Y_OHE = Y.reshape(len(Y), 1)\n",
    "Y_OHE = ONE_HOT_ENC.fit_transform(Y_OHE)\n"
   ]
  },
  {
   "cell_type": "code",
   "execution_count": 7,
   "id": "6ef40689",
   "metadata": {},
   "outputs": [
    {
     "name": "stdout",
     "output_type": "stream",
     "text": [
      "Las dimensiones del vector de etiquetas son (70000,)\n",
      "Los primeros 10 elementos son: \n",
      " [9 0 0 3 0 2 7 2 5 5]\n"
     ]
    }
   ],
   "source": [
    "print(\"Las dimensiones del vector de etiquetas son {}\".format(Y.shape))\n",
    "print(\"Los primeros 10 elementos son: \\n {}\".format(Y[0:10]))\n"
   ]
  },
  {
   "cell_type": "code",
   "execution_count": 8,
   "id": "affde012",
   "metadata": {},
   "outputs": [
    {
     "name": "stdout",
     "output_type": "stream",
     "text": [
      "Los primeros 10 elementos codificados son: \n",
      " [[0. 0. 0. 0. 0. 0. 0. 0. 0. 1.]\n",
      " [1. 0. 0. 0. 0. 0. 0. 0. 0. 0.]\n",
      " [1. 0. 0. 0. 0. 0. 0. 0. 0. 0.]\n",
      " [0. 0. 0. 1. 0. 0. 0. 0. 0. 0.]\n",
      " [1. 0. 0. 0. 0. 0. 0. 0. 0. 0.]\n",
      " [0. 0. 1. 0. 0. 0. 0. 0. 0. 0.]\n",
      " [0. 0. 0. 0. 0. 0. 0. 1. 0. 0.]\n",
      " [0. 0. 1. 0. 0. 0. 0. 0. 0. 0.]\n",
      " [0. 0. 0. 0. 0. 1. 0. 0. 0. 0.]\n",
      " [0. 0. 0. 0. 0. 1. 0. 0. 0. 0.]]\n"
     ]
    }
   ],
   "source": [
    "print(\"Los primeros 10 elementos codificados son: \\n {}\".format(Y_OHE[0:10]))\n"
   ]
  },
  {
   "cell_type": "markdown",
   "id": "b556b83e",
   "metadata": {},
   "source": [
    "## Arquitectura de el modelo\n",
    "\n",
    "Se aprovecha el paradigma de la programación orientada a objetos de Python para desarrollar una instancia que permita la declaración de la arquitectura del modelo MLP."
   ]
  },
  {
   "cell_type": "code",
   "execution_count": 9,
   "id": "dcaefc10",
   "metadata": {},
   "outputs": [
    {
     "name": "stdout",
     "output_type": "stream",
     "text": [
      "Tamaño del set de entrenamiento: 52500 elementos\n",
      "Tamaño del set de prueba: 17500 elementos\n"
     ]
    }
   ],
   "source": [
    "x_train, x_test, y_train, y_test = train_test_split(\n",
    "    X, Y_OHE, train_size=0.75, random_state=1998)\n",
    "\n",
    "print(\"Tamaño del set de entrenamiento: {} elementos\".format(len(x_train)))\n",
    "print(\"Tamaño del set de prueba: {} elementos\".format(len(x_test)))\n"
   ]
  },
  {
   "cell_type": "code",
   "execution_count": 10,
   "id": "d1afbe56",
   "metadata": {},
   "outputs": [
    {
     "name": "stdout",
     "output_type": "stream",
     "text": [
      "Model: \"sequential\"\n",
      "_________________________________________________________________\n",
      "Layer (type)                 Output Shape              Param #   \n",
      "=================================================================\n",
      "dense (Dense)                (None, 784)               615440    \n",
      "_________________________________________________________________\n",
      "dense_1 (Dense)              (None, 512)               401920    \n",
      "_________________________________________________________________\n",
      "dense_2 (Dense)              (None, 256)               131328    \n",
      "_________________________________________________________________\n",
      "dense_3 (Dense)              (None, 128)               32896     \n",
      "_________________________________________________________________\n",
      "dense_4 (Dense)              (None, 10)                1290      \n",
      "=================================================================\n",
      "Total params: 1,182,874\n",
      "Trainable params: 1,182,874\n",
      "Non-trainable params: 0\n",
      "_________________________________________________________________\n"
     ]
    }
   ],
   "source": [
    "MLP_1 = tf.keras.Sequential()\n",
    "\n",
    "MLP_1.add(Dense(784, activation='relu', input_shape=(784,)))\n",
    "MLP_1.add(Dense(512, activation='relu'))\n",
    "MLP_1.add(Dense(256, activation='relu'))\n",
    "MLP_1.add(Dense(128, activation='relu'))\n",
    "MLP_1.add(Dense(10))\n",
    "\n",
    "MLP_1.summary()\n"
   ]
  },
  {
   "cell_type": "code",
   "execution_count": 11,
   "id": "0e40d1e9",
   "metadata": {},
   "outputs": [
    {
     "name": "stdout",
     "output_type": "stream",
     "text": [
      "Epoch 1/35\n",
      "329/329 [==============================] - 2s 4ms/step - loss: 59.0005 - accuracy: 0.1587 - val_loss: 2.2044 - val_accuracy: 0.1925\n",
      "Epoch 2/35\n",
      "329/329 [==============================] - 1s 4ms/step - loss: 1.3209 - accuracy: 0.2336 - val_loss: 1.8603 - val_accuracy: 0.2036\n",
      "Epoch 3/35\n",
      "329/329 [==============================] - 1s 4ms/step - loss: 0.7872 - accuracy: 0.2972 - val_loss: 0.7302 - val_accuracy: 0.2818\n",
      "Epoch 4/35\n",
      "329/329 [==============================] - 1s 4ms/step - loss: 0.5336 - accuracy: 0.3589 - val_loss: 0.5486 - val_accuracy: 0.2873\n",
      "Epoch 5/35\n",
      "329/329 [==============================] - 1s 4ms/step - loss: 0.4259 - accuracy: 0.4117 - val_loss: 0.4546 - val_accuracy: 0.3780\n",
      "Epoch 6/35\n",
      "329/329 [==============================] - 1s 4ms/step - loss: 0.3007 - accuracy: 0.4707 - val_loss: 0.3831 - val_accuracy: 0.3959\n",
      "Epoch 7/35\n",
      "329/329 [==============================] - 1s 4ms/step - loss: 0.2369 - accuracy: 0.5234 - val_loss: 0.2058 - val_accuracy: 0.5629\n",
      "Epoch 8/35\n",
      "329/329 [==============================] - 1s 4ms/step - loss: 0.2073 - accuracy: 0.5480 - val_loss: 0.2964 - val_accuracy: 0.5389\n",
      "Epoch 9/35\n",
      "329/329 [==============================] - 1s 4ms/step - loss: 0.1570 - accuracy: 0.6117 - val_loss: 0.1383 - val_accuracy: 0.6353\n",
      "Epoch 10/35\n",
      "329/329 [==============================] - 1s 4ms/step - loss: 0.1442 - accuracy: 0.6355 - val_loss: 0.1087 - val_accuracy: 0.7141\n",
      "Epoch 11/35\n",
      "329/329 [==============================] - 1s 4ms/step - loss: 0.1335 - accuracy: 0.6676 - val_loss: 0.1482 - val_accuracy: 0.5917\n",
      "Epoch 12/35\n",
      "329/329 [==============================] - 1s 4ms/step - loss: 0.0947 - accuracy: 0.7194 - val_loss: 0.1109 - val_accuracy: 0.6458\n",
      "Epoch 13/35\n",
      "329/329 [==============================] - 1s 4ms/step - loss: 0.0905 - accuracy: 0.7289 - val_loss: 0.0987 - val_accuracy: 0.7392\n",
      "Epoch 14/35\n",
      "329/329 [==============================] - 1s 4ms/step - loss: 0.0825 - accuracy: 0.7510 - val_loss: 0.1105 - val_accuracy: 0.6729\n",
      "Epoch 15/35\n",
      "329/329 [==============================] - 1s 4ms/step - loss: 0.0763 - accuracy: 0.7669 - val_loss: 0.0970 - val_accuracy: 0.7158\n",
      "Epoch 16/35\n",
      "329/329 [==============================] - 1s 4ms/step - loss: 0.0653 - accuracy: 0.7876 - val_loss: 0.1072 - val_accuracy: 0.6330\n",
      "Epoch 17/35\n",
      "329/329 [==============================] - 1s 4ms/step - loss: 0.0595 - accuracy: 0.8029 - val_loss: 0.0568 - val_accuracy: 0.8046\n",
      "Epoch 18/35\n",
      "329/329 [==============================] - 1s 4ms/step - loss: 0.0565 - accuracy: 0.8103 - val_loss: 0.0519 - val_accuracy: 0.8193\n",
      "Epoch 19/35\n",
      "329/329 [==============================] - 1s 4ms/step - loss: 0.0522 - accuracy: 0.8219 - val_loss: 0.0653 - val_accuracy: 0.7931\n",
      "Epoch 20/35\n",
      "329/329 [==============================] - 1s 4ms/step - loss: 0.0460 - accuracy: 0.8332 - val_loss: 0.0654 - val_accuracy: 0.7741\n",
      "Epoch 21/35\n",
      "329/329 [==============================] - 1s 4ms/step - loss: 0.0437 - accuracy: 0.8389 - val_loss: 0.0649 - val_accuracy: 0.8026\n",
      "Epoch 22/35\n",
      "329/329 [==============================] - 1s 4ms/step - loss: 0.0405 - accuracy: 0.8475 - val_loss: 0.0344 - val_accuracy: 0.8491\n",
      "Epoch 23/35\n",
      "329/329 [==============================] - 1s 4ms/step - loss: 0.0384 - accuracy: 0.8535 - val_loss: 0.0485 - val_accuracy: 0.8349\n",
      "Epoch 24/35\n",
      "329/329 [==============================] - 1s 4ms/step - loss: 0.0365 - accuracy: 0.8556 - val_loss: 0.0431 - val_accuracy: 0.8405\n",
      "Epoch 25/35\n",
      "329/329 [==============================] - 1s 4ms/step - loss: 0.0351 - accuracy: 0.8597 - val_loss: 0.0424 - val_accuracy: 0.8423\n",
      "Epoch 26/35\n",
      "329/329 [==============================] - 1s 3ms/step - loss: 0.0331 - accuracy: 0.8639 - val_loss: 0.0487 - val_accuracy: 0.8363\n",
      "Epoch 27/35\n",
      "329/329 [==============================] - 1s 3ms/step - loss: 0.0317 - accuracy: 0.8683 - val_loss: 0.0347 - val_accuracy: 0.8534\n",
      "Epoch 28/35\n",
      "329/329 [==============================] - 1s 3ms/step - loss: 0.0301 - accuracy: 0.8709 - val_loss: 0.0378 - val_accuracy: 0.8485\n",
      "Epoch 29/35\n",
      "329/329 [==============================] - 1s 3ms/step - loss: 0.0295 - accuracy: 0.8744 - val_loss: 0.0359 - val_accuracy: 0.8585\n",
      "Epoch 30/35\n",
      "329/329 [==============================] - 1s 3ms/step - loss: 0.0279 - accuracy: 0.8784 - val_loss: 0.0289 - val_accuracy: 0.8659\n",
      "Epoch 31/35\n",
      "329/329 [==============================] - 1s 4ms/step - loss: 0.0269 - accuracy: 0.8800 - val_loss: 0.0372 - val_accuracy: 0.8573\n",
      "Epoch 32/35\n",
      "329/329 [==============================] - 1s 4ms/step - loss: 0.0259 - accuracy: 0.8827 - val_loss: 0.0295 - val_accuracy: 0.8533\n",
      "Epoch 33/35\n",
      "329/329 [==============================] - 1s 4ms/step - loss: 0.0254 - accuracy: 0.8854 - val_loss: 0.0301 - val_accuracy: 0.8594\n",
      "Epoch 34/35\n",
      "329/329 [==============================] - 1s 4ms/step - loss: 0.0242 - accuracy: 0.8891 - val_loss: 0.0280 - val_accuracy: 0.8714\n",
      "Epoch 35/35\n",
      "329/329 [==============================] - 1s 4ms/step - loss: 0.0239 - accuracy: 0.8900 - val_loss: 0.0254 - val_accuracy: 0.8713\n"
     ]
    }
   ],
   "source": [
    "MLP_1.compile(optimizer='adam',\n",
    "              loss='mse',\n",
    "              metrics=['accuracy'])\n",
    "\n",
    "HIST = MLP_1.fit(x_train, y_train,\n",
    "                 batch_size=160,\n",
    "                 epochs=35,\n",
    "                 verbose=1,\n",
    "                 validation_data=(x_test, y_test))\n"
   ]
  },
  {
   "cell_type": "code",
   "execution_count": 12,
   "id": "b8aedf79",
   "metadata": {},
   "outputs": [
    {
     "name": "stdout",
     "output_type": "stream",
     "text": [
      "dict_keys(['loss', 'accuracy', 'val_loss', 'val_accuracy'])\n"
     ]
    }
   ],
   "source": [
    "print(HIST.history.keys())\n"
   ]
  },
  {
   "cell_type": "code",
   "execution_count": 13,
   "id": "f751be02",
   "metadata": {},
   "outputs": [
    {
     "data": {
      "image/png": "[encoded data removed]",
      "text/plain": [
       "<Figure size 864x576 with 1 Axes>"
      ]
     },
     "metadata": {
      "needs_background": "light"
     },
     "output_type": "display_data"
    }
   ],
   "source": [
    "plt.figure(figsize=(12, 8))\n",
    "plt.plot(HIST.history['accuracy'])\n",
    "plt.plot(HIST.history['val_accuracy'])\n",
    "plt.title(\"Accuracy\")\n",
    "plt.xlabel(\"Epochs\")\n",
    "plt.legend([\"Train Acc\", \"Val Acc\"])\n",
    "plt.show()\n"
   ]
  },
  {
   "cell_type": "code",
   "execution_count": 14,
   "id": "c488b906",
   "metadata": {},
   "outputs": [
    {
     "data": {
      "image/png": "[encoded data removed]",
      "text/plain": [
       "<Figure size 432x288 with 1 Axes>"
      ]
     },
     "metadata": {
      "needs_background": "light"
     },
     "output_type": "display_data"
    }
   ],
   "source": [
    "plt.plot(HIST.history['loss'])\n",
    "plt.plot(HIST.history['val_loss'])\n",
    "plt.title(\"Loss\")\n",
    "plt.xlabel(\"Epochs\")\n",
    "plt.legend([\"Train loss\", \"Val loss\"])\n",
    "plt.show()"
   ]
  },
  {
   "cell_type": "code",
   "execution_count": 15,
   "id": "093e9188",
   "metadata": {},
   "outputs": [],
   "source": [
    "MLP_1.save(\"models_keras/MAGZ_V4.h5\")"
   ]
  }
 ],
 "metadata": {
  "kernelspec": {
   "display_name": "Python 3 (ipykernel)",
   "language": "python",
   "name": "python3"
  },
  "language_info": {
   "codemirror_mode": {
    "name": "ipython",
    "version": 3
   },
   "file_extension": ".py",
   "mimetype": "text/x-python",
   "name": "python",
   "nbconvert_exporter": "python",
   "pygments_lexer": "ipython3",
   "version": "3.9.0"
  },
  "vscode": {
   "interpreter": {
    "hash": "b4dee9c77bc81e8bc3192f031245e7af43a1d4d0287b5c55b4b36e62661d36f5"
   }
  }
 },
 "nbformat": 4,
 "nbformat_minor": 5
}
