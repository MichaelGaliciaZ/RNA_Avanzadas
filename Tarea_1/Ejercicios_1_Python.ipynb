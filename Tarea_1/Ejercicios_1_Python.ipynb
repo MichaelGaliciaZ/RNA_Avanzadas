{
  "cells": [
    {
      "cell_type": "markdown",
      "metadata": {
        "id": "6ht5OgLdV0VD"
      },
      "source": [
        "# Python Crash Course Exercises \n",
        "\n"
      ]
    },
    {
      "cell_type": "markdown",
      "metadata": {
        "id": "yevaqoY0V0VH"
      },
      "source": [
        "## Ejercicios 01 - DeepDaemon - Agosto 2022\n",
        "\n",
        "Contesta las siguientes preguntas o completa las tareas marcadas en negritas que se presentan a continuación, utiliza el método especificado cuando se indique. Cada ejercicio tiene un valor de 1/11 sobre la evaluación de este cuadernillo.\n"
      ]
    },
    {
      "cell_type": "markdown",
      "metadata": {
        "id": "cm6HEmtRV0VI"
      },
      "source": [
        "**1.- ¿Cuánto es 8 elevado a la 5?** "
      ]
    },
    {
      "cell_type": "code",
      "execution_count": 1,
      "metadata": {
        "id": "JNYMHCwLV0VI",
        "outputId": "488d4534-e4a4-4387-d942-1cac4616248e"
      },
      "outputs": [
        {
          "data": {
            "text/plain": [
              "32768"
            ]
          },
          "execution_count": 1,
          "metadata": {},
          "output_type": "execute_result"
        }
      ],
      "source": [
        "8**5"
      ]
    },
    {
      "cell_type": "markdown",
      "metadata": {
        "id": "wgqCovMDV0VJ"
      },
      "source": [
        "**2.- Separa la siguiente cadena:**\n",
        "\n",
        "    s = \"¡Estoy en el curso de Ford!\"\n",
        "    \n",
        "**en una lista. **"
      ]
    },
    {
      "cell_type": "code",
      "execution_count": 4,
      "metadata": {
        "collapsed": true,
        "id": "3TVcY-eiV0VK"
      },
      "outputs": [],
      "source": [
        "s=\"!Estoy en el curso de Ford!\"\n",
        "\n",
        "lista=s.split(\" \")"
      ]
    },
    {
      "cell_type": "code",
      "execution_count": 5,
      "metadata": {
        "id": "QwfJ8lblV0VK",
        "outputId": "c800d7a5-9432-48b4-a869-f20e42bdd4af"
      },
      "outputs": [
        {
          "name": "stdout",
          "output_type": "stream",
          "text": [
            "['!Estoy', 'en', 'el', 'curso', 'de', 'Ford!']\n"
          ]
        }
      ],
      "source": [
        "print(lista)"
      ]
    },
    {
      "cell_type": "markdown",
      "metadata": {
        "id": "IiL7WSazV0VK"
      },
      "source": [
        "**3.- Dadas las siguientes variables:**\n",
        "\n",
        "    planeta = \"Tierra\"\n",
        "    diametro = 12742\n",
        "\n",
        "**Use .format() para imprimir el la siguiente cadena:**\n",
        "\n",
        "    El diámetro de la Tierra es 12742 kilometros."
      ]
    },
    {
      "cell_type": "code",
      "execution_count": 6,
      "metadata": {
        "collapsed": true,
        "id": "iEZCEpx_V0VK"
      },
      "outputs": [],
      "source": [
        "planeta = \"Tierra\"\n",
        "diametro = \"12742\""
      ]
    },
    {
      "cell_type": "code",
      "execution_count": 11,
      "metadata": {
        "id": "4Yer5tzQV0VL",
        "outputId": "35ec41be-0605-43bd-db33-70397441e5ce"
      },
      "outputs": [
        {
          "name": "stdout",
          "output_type": "stream",
          "text": [
            "El diametro de la Tierra es 12742 kilometros\n"
          ]
        }
      ],
      "source": [
        "print(\"El diametro de la {} es {} kilometros\".format(planeta,diametro))"
      ]
    },
    {
      "cell_type": "markdown",
      "metadata": {
        "id": "T6A7o2PeV0VL"
      },
      "source": [
        "**4.- Dada la siguiente lista anidada, utilice el indexado para extraer la palabra \"hola\"**"
      ]
    },
    {
      "cell_type": "code",
      "execution_count": 13,
      "metadata": {
        "collapsed": true,
        "id": "VEYkvJJUV0VL"
      },
      "outputs": [],
      "source": [
        "lst = [1,2,[3,4],[5,[100,200,['hola']],23,11],1,7]"
      ]
    },
    {
      "cell_type": "code",
      "execution_count": 15,
      "metadata": {
        "id": "tf8E0qwnV0VL",
        "outputId": "fc3d6629-7691-4386-8ed7-7f72575c3db7"
      },
      "outputs": [
        {
          "data": {
            "text/plain": [
              "['hola']"
            ]
          },
          "execution_count": 15,
          "metadata": {},
          "output_type": "execute_result"
        }
      ],
      "source": [
        "lst[3][1][2]"
      ]
    },
    {
      "cell_type": "markdown",
      "metadata": {
        "id": "VKXFKfAEV0VM"
      },
      "source": [
        "**5.- Dado el siguiente diccionario aninado obtenga la palabra \"hola\". Este preparado, este ejecicio será molesto/difícil**"
      ]
    },
    {
      "cell_type": "code",
      "execution_count": 17,
      "metadata": {
        "collapsed": true,
        "id": "5okR-WvGV0VM"
      },
      "outputs": [],
      "source": [
        "d = {'k1':[1,2,3,{'dificíl':['oh','hombre','principio',{'objetivo':[1,2,3,'hola']}]}]}"
      ]
    },
    {
      "cell_type": "code",
      "execution_count": 25,
      "metadata": {
        "id": "lxXkYdgYV0VM",
        "outputId": "7ac91e4b-6a27-490d-8d8b-f7d67da550c7"
      },
      "outputs": [
        {
          "data": {
            "text/plain": [
              "'hola'"
            ]
          },
          "execution_count": 25,
          "metadata": {},
          "output_type": "execute_result"
        }
      ],
      "source": [
        "d['k1'][3]['dificíl'][3]['objetivo'][3]"
      ]
    },
    {
      "cell_type": "markdown",
      "metadata": {
        "id": "qN1zsfamV0VM"
      },
      "source": [
        "**6.- Escriba una porción de código que ejemplifique la diferencia principal entre tuplas y listas**"
      ]
    },
    {
      "cell_type": "code",
      "execution_count": 32,
      "metadata": {
        "collapsed": true,
        "id": "zavXTF8YV0VM"
      },
      "outputs": [
        {
          "name": "stdout",
          "output_type": "stream",
          "text": [
            "'tuple' object does not support item assignment\n",
            "Esta es una lista: [1, 10, 3] y esta es una tupla: (1, 2, 3)\n"
          ]
        }
      ],
      "source": [
        "Tupla=(1,2,3)\n",
        "Lista=[1,2,3]\n",
        "Lista[1]=10\n",
        "try:\n",
        "    Tupla[1]=10\n",
        "except Exception as e:\n",
        "    print(e)\n",
        "print(\"Esta es una lista: {} y esta es una tupla: {}\".format(Lista,Tupla))"
      ]
    },
    {
      "cell_type": "markdown",
      "metadata": {
        "id": "8n2zDB4BV0VN"
      },
      "source": [
        "**7.- Escriba una función que capture el dominio del sitio web del correo electrónico a partir de una cadena con el siguiente formato:**\n",
        "\n",
        "    usuario@dominio.com\n",
        "    \n",
        "**Como ejemplo, del correo \"usuario@dominio.com\" deberá regresar: dominio.com**"
      ]
    },
    {
      "cell_type": "code",
      "execution_count": 37,
      "metadata": {
        "collapsed": true,
        "id": "DKhKibMlV0VN"
      },
      "outputs": [],
      "source": [
        "def domainGet(text):\n",
        "    return text.split('@')[-1]"
      ]
    },
    {
      "cell_type": "code",
      "execution_count": 38,
      "metadata": {
        "id": "IBDlsB3FV0VN",
        "outputId": "f8ccae82-07a4-4a63-8bc0-e5e08b44f99e"
      },
      "outputs": [
        {
          "data": {
            "text/plain": [
              "'domino.com'"
            ]
          },
          "execution_count": 38,
          "metadata": {},
          "output_type": "execute_result"
        }
      ],
      "source": [
        "domainGet('usuario@domino.com')"
      ]
    },
    {
      "cell_type": "markdown",
      "metadata": {
        "id": "TyK9M8FsV0VN"
      },
      "source": [
        "**8.- Cree una función básica que devuelva Verdadero si la palabra 'perro' está contenida en la cadena de entrada, la palabra debe identificarse sin importar el uso de mayúsculas en cualquier caracter de la cadena. No se preocupe por los casos donde al final se adjunta alguna puntuación a la palabra perro.**"
      ]
    },
    {
      "cell_type": "code",
      "execution_count": 68,
      "metadata": {
        "collapsed": true,
        "id": "iU8JwdAoV0VN"
      },
      "outputs": [],
      "source": [
        "def findDog(w):\n",
        "    words=w.split(' ')\n",
        "    if \"perro\"in words:\n",
        "        return True\n",
        "    return False"
      ]
    },
    {
      "cell_type": "code",
      "execution_count": 102,
      "metadata": {},
      "outputs": [],
      "source": [
        "import re\n",
        "\n",
        "def findDog(w,text):\n",
        "    Ob=re.compile(r'\\b({0})\\b'.format(w), flags=re.IGNORECASE).search(text)\n",
        "    if Ob is not None:\n",
        "        return True\n",
        "    return False"
      ]
    },
    {
      "cell_type": "code",
      "execution_count": 106,
      "metadata": {},
      "outputs": [
        {
          "data": {
            "text/plain": [
              "True"
            ]
          },
          "execution_count": 106,
          "metadata": {},
          "output_type": "execute_result"
        }
      ],
      "source": [
        "findDog('perro','Hay un perro aqui?')"
      ]
    },
    {
      "cell_type": "markdown",
      "metadata": {
        "id": "D6vXL54nV0VO"
      },
      "source": [
        "**9.- Crea una función que cuente la cantidad de veces que aparece la palabra \"perro\" en una cadena, la palabra debe identificarse sin importar el uso de mayúsculas en cualquier caracter de la cadena. Nuevamente ignore los casos donde al final se adjunta alguna puntuación.**"
      ]
    },
    {
      "cell_type": "code",
      "execution_count": 110,
      "metadata": {
        "collapsed": true,
        "id": "X8ujH_a_V0VO"
      },
      "outputs": [],
      "source": [
        "def countDog(text):\n",
        "    count = sum(1 for match in re.finditer(r\"\\bperro\\b\", text,flags=re.IGNORECASE))\n",
        "    return count\n",
        "    "
      ]
    },
    {
      "cell_type": "code",
      "execution_count": 112,
      "metadata": {
        "id": "a8K4ea_zV0VO",
        "outputId": "f4b780ea-da46-4982-ef2e-70b68920d7c3"
      },
      "outputs": [
        {
          "data": {
            "text/plain": [
              "2"
            ]
          },
          "execution_count": 112,
          "metadata": {},
          "output_type": "execute_result"
        }
      ],
      "source": [
        "countDog('Este perro corre más rápido que el otro perro amigo!')"
      ]
    },
    {
      "cell_type": "markdown",
      "metadata": {
        "id": "rJMz0pLzV0VO"
      },
      "source": [
        "**10.- Use expresiones lambda y la funcón filter() para filtrar de una lista aquellas palabras que no comiencen con la letra 's'. Por ejemplo:**\n",
        "\n",
        "    seq = ['sopa','perro','sierra','gato','estupendo']\n",
        "\n",
        "**deberia filtrarse de la siguiente manera:**\n",
        "\n",
        "    ['sopa','sierra']"
      ]
    },
    {
      "cell_type": "code",
      "execution_count": 113,
      "metadata": {
        "collapsed": true,
        "id": "OSTFua5pV0VO"
      },
      "outputs": [],
      "source": [
        "seq = ['sopa','perro','sierra','gato','estupendo']"
      ]
    },
    {
      "cell_type": "code",
      "execution_count": 121,
      "metadata": {
        "id": "Qn6VQgdMV0VP",
        "outputId": "14482710-5adc-42ef-8f3d-6180719e9d8f"
      },
      "outputs": [
        {
          "name": "stdout",
          "output_type": "stream",
          "text": [
            "['sopa', 'sierra']\n"
          ]
        }
      ],
      "source": [
        "a=list(filter(lambda x: x[0].lower() in 's',seq))\n",
        "print(a)"
      ]
    },
    {
      "cell_type": "markdown",
      "metadata": {
        "id": "qseZfeNEV0VP"
      },
      "source": [
        "### Problema final\n",
        "**11.- Estás manejado y un policia te detiene. Escribe una función que regrese uno de los siguientes tres valores: \"Sin multa\", \"Multa pequeña\" o \"Multa grande\". Si tú velocidad es de 50 km o menor, el resultado será \"Sin multa\". Si tú velocidad está entre 51 km y 80 km, el resultado será \"Multa pequeña\". Si tú velocidad es de 81 km o mayor, el resultado será \"Multa grande\". Esto se cumplirá al menos que sea el día de tú cumpleaños (que será codificado como un valor booleano en los parámetros de la función) -- en tu cumpleaños tienes permitido que tú velocidad sea 5 km mayor en todos los casos. Muestra casos en los que la función marca cada tipo de multa, añadiendo si considera o no el día de cumpleaños**"
      ]
    },
    {
      "cell_type": "code",
      "execution_count": 124,
      "metadata": {
        "collapsed": true,
        "id": "Yx-fx-GuV0VP"
      },
      "outputs": [],
      "source": [
        "def caught_speeding(velocidad, es_mi_cumpleaños):\n",
        "    if es_mi_cumpleaños==False:\n",
        "        if velocidad<50:\n",
        "            return \"Sin multa\"\n",
        "        elif 50<velocidad<80:\n",
        "            return \"Multa pequeña\"\n",
        "        elif velocidad>80:\n",
        "            return \"Multa grande\"\n",
        "    else:\n",
        "        if velocidad<55:\n",
        "            return \"Sin multa\"\n",
        "        elif 55<velocidad<85:\n",
        "            return \"Multa pequeña\"\n",
        "        elif velocidad>85:\n",
        "            return \"Multa grande\""
      ]
    },
    {
      "cell_type": "code",
      "execution_count": 125,
      "metadata": {
        "id": "aQqwEWvgV0VP",
        "outputId": "e12834df-0bb4-4db9-ffdc-7c3aae136a49"
      },
      "outputs": [
        {
          "data": {
            "text/plain": [
              "'Multa pequeña'"
            ]
          },
          "execution_count": 125,
          "metadata": {},
          "output_type": "execute_result"
        }
      ],
      "source": [
        "caught_speeding(81,True)"
      ]
    },
    {
      "cell_type": "code",
      "execution_count": 126,
      "metadata": {
        "id": "KRTh36qfV0VP",
        "outputId": "147be3c6-ac2b-452f-9739-2a561abbdadb"
      },
      "outputs": [
        {
          "data": {
            "text/plain": [
              "'Multa grande'"
            ]
          },
          "execution_count": 126,
          "metadata": {},
          "output_type": "execute_result"
        }
      ],
      "source": [
        "caught_speeding(81,False)"
      ]
    },
    {
      "cell_type": "markdown",
      "metadata": {
        "id": "hd1ULLulV0VQ"
      },
      "source": [
        "# ¡Excelente trabajo!"
      ]
    },
    {
      "cell_type": "code",
      "execution_count": null,
      "metadata": {
        "collapsed": true,
        "id": "qGg-YHbgV0VQ"
      },
      "outputs": [],
      "source": []
    }
  ],
  "metadata": {
    "colab": {
      "name": "Ejercicios_1_Python.ipynb",
      "provenance": []
    },
    "kernelspec": {
      "display_name": "Python 3.9.0 ('CIC_GPU')",
      "language": "python",
      "name": "python3"
    },
    "language_info": {
      "codemirror_mode": {
        "name": "ipython",
        "version": 3
      },
      "file_extension": ".py",
      "mimetype": "text/x-python",
      "name": "python",
      "nbconvert_exporter": "python",
      "pygments_lexer": "ipython3",
      "version": "3.9.0"
    },
    "vscode": {
      "interpreter": {
        "hash": "b4dee9c77bc81e8bc3192f031245e7af43a1d4d0287b5c55b4b36e62661d36f5"
      }
    }
  },
  "nbformat": 4,
  "nbformat_minor": 0
}
