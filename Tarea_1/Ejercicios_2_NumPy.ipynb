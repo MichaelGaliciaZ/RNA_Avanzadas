{
  "cells": [
    {
      "cell_type": "markdown",
      "metadata": {
        "id": "2bhr0s_6RKm-"
      },
      "source": [
        "# Ejercicios NumPy - DeepDaemon - Agosto 2022\n",
        "\n",
        "\n",
        "Esta serie de ejercicios tienen como objetivo que comprueben los conocimientos adquiridos. Inicia con ejercicios simples y se complican gradualmente. Aprovechen las funciones predefindas en NumPy para solucionar los ejercicios en pocas líneas de código. Cada ejercicio tiene un valor de 1/19 sobre la evaluación de este cuadernillo."
      ]
    },
    {
      "cell_type": "markdown",
      "metadata": {
        "id": "thyvlKp1RKnB"
      },
      "source": [
        "#### Importación de NumPy "
      ]
    },
    {
      "cell_type": "code",
      "execution_count": 1,
      "metadata": {
        "id": "RoOskwDcZBz6"
      },
      "outputs": [],
      "source": [
        "import numpy as np"
      ]
    },
    {
      "cell_type": "markdown",
      "metadata": {
        "id": "jkOJuZOrRKnE"
      },
      "source": [
        "####1.- Crear un arreglo de 5 ceros  "
      ]
    },
    {
      "cell_type": "code",
      "execution_count": 3,
      "metadata": {
        "id": "Kb3rK-X1RKnF",
        "outputId": "2a77ff73-894c-4859-ea6c-f9909a74053e"
      },
      "outputs": [
        {
          "data": {
            "text/plain": [
              "array([0., 0., 0., 0., 0.])"
            ]
          },
          "execution_count": 3,
          "metadata": {},
          "output_type": "execute_result"
        }
      ],
      "source": [
        "np.zeros((5,))"
      ]
    },
    {
      "cell_type": "markdown",
      "metadata": {
        "id": "qonAtmrORKnG"
      },
      "source": [
        "####2.- Crear un arreglo de 10 unos"
      ]
    },
    {
      "cell_type": "code",
      "execution_count": 4,
      "metadata": {
        "id": "OTRGBkj1RKnG",
        "outputId": "a8b192d4-4b7e-4d57-c269-f0902d1483e1"
      },
      "outputs": [
        {
          "data": {
            "text/plain": [
              "array([1., 1., 1., 1., 1., 1., 1., 1., 1., 1.])"
            ]
          },
          "execution_count": 4,
          "metadata": {},
          "output_type": "execute_result"
        }
      ],
      "source": [
        "np.ones(10)"
      ]
    },
    {
      "cell_type": "markdown",
      "metadata": {
        "id": "MAb7lB_URKnG"
      },
      "source": [
        "####3.- Crear un arreglo de 5  cincos "
      ]
    },
    {
      "cell_type": "code",
      "execution_count": 5,
      "metadata": {
        "id": "0s3E4qmFRKnI",
        "outputId": "59c3813d-baf0-47d1-ac3a-d6cffcdfaf06"
      },
      "outputs": [
        {
          "data": {
            "text/plain": [
              "array([5., 5., 5., 5., 5.])"
            ]
          },
          "execution_count": 5,
          "metadata": {},
          "output_type": "execute_result"
        }
      ],
      "source": [
        "np.ones(5)*5"
      ]
    },
    {
      "cell_type": "markdown",
      "metadata": {
        "id": "JdmCFcCpRKnJ"
      },
      "source": [
        "####4.- Crear un arreglo de números consecutivos empezando en 10 terminando en 30  "
      ]
    },
    {
      "cell_type": "code",
      "execution_count": 6,
      "metadata": {
        "id": "DHMK1Cm-RKnK",
        "outputId": "601f5fe7-2da1-46c0-b88c-b4e44a583eb1"
      },
      "outputs": [
        {
          "data": {
            "text/plain": [
              "array([10, 11, 12, 13, 14, 15, 16, 17, 18, 19, 20, 21, 22, 23, 24, 25, 26,\n",
              "       27, 28, 29, 30])"
            ]
          },
          "execution_count": 6,
          "metadata": {},
          "output_type": "execute_result"
        }
      ],
      "source": [
        "np.arange(10,31,1)"
      ]
    },
    {
      "cell_type": "markdown",
      "metadata": {
        "id": "eC2iDBMnRKnL"
      },
      "source": [
        "####5.- Crear un arreglo de todos los números pares empezando en 10 terminando en 30  "
      ]
    },
    {
      "cell_type": "code",
      "execution_count": 7,
      "metadata": {
        "id": "TW6t-Sm-RKnM",
        "outputId": "b8af334a-c392-4e7b-dbeb-7b3ce3b0322c"
      },
      "outputs": [
        {
          "data": {
            "text/plain": [
              "array([10, 12, 14, 16, 18, 20, 22, 24, 26, 28, 30])"
            ]
          },
          "execution_count": 7,
          "metadata": {},
          "output_type": "execute_result"
        }
      ],
      "source": [
        "np.arange(10,32,2)"
      ]
    },
    {
      "cell_type": "markdown",
      "metadata": {
        "id": "VB3YyjCGRKnN"
      },
      "source": [
        "####6.- Crear  un matriz  de 3x3  formada por números consecutivos del 0 al 8 "
      ]
    },
    {
      "cell_type": "code",
      "execution_count": 8,
      "metadata": {
        "id": "txQktZgCRKnN",
        "outputId": "6d95bff5-8d94-47a6-fc7b-bfbbf3651bfd"
      },
      "outputs": [
        {
          "data": {
            "text/plain": [
              "array([[0, 1, 2],\n",
              "       [3, 4, 5],\n",
              "       [6, 7, 8]])"
            ]
          },
          "execution_count": 8,
          "metadata": {},
          "output_type": "execute_result"
        }
      ],
      "source": [
        "np.arange(0,9,1).reshape((3,3))"
      ]
    },
    {
      "cell_type": "markdown",
      "metadata": {
        "id": "fHN-pz1cRKnO"
      },
      "source": [
        "####7.- Crear una matriz identidad  de 5x5"
      ]
    },
    {
      "cell_type": "code",
      "execution_count": 9,
      "metadata": {
        "id": "Qyl6q-xORKnO",
        "outputId": "03b6e8e7-4e32-4469-b11d-bbcb5ed9fd10"
      },
      "outputs": [
        {
          "data": {
            "text/plain": [
              "array([[1., 0., 0., 0., 0.],\n",
              "       [0., 1., 0., 0., 0.],\n",
              "       [0., 0., 1., 0., 0.],\n",
              "       [0., 0., 0., 1., 0.],\n",
              "       [0., 0., 0., 0., 1.]])"
            ]
          },
          "execution_count": 9,
          "metadata": {},
          "output_type": "execute_result"
        }
      ],
      "source": [
        "np.identity(5)"
      ]
    },
    {
      "cell_type": "markdown",
      "metadata": {
        "id": "90eZ17pfRKnO"
      },
      "source": [
        "####8.- Crear un número aleatorio entre 0 y 10"
      ]
    },
    {
      "cell_type": "code",
      "execution_count": 12,
      "metadata": {
        "id": "ut6hpB5jRKnP",
        "outputId": "17f28f83-d2ba-48ac-8f27-5c4296a21309"
      },
      "outputs": [
        {
          "data": {
            "text/plain": [
              "5.284672898146826"
            ]
          },
          "execution_count": 12,
          "metadata": {},
          "output_type": "execute_result"
        }
      ],
      "source": [
        "np.random.random()*10"
      ]
    },
    {
      "cell_type": "markdown",
      "metadata": {
        "id": "R3AUYBt9RKnP"
      },
      "source": [
        "####9.- Generen un arreglo de 20 elementos aleatorios  usando una distribución normal estándar "
      ]
    },
    {
      "cell_type": "code",
      "execution_count": 13,
      "metadata": {
        "id": "5mHOUNLpRKnP",
        "outputId": "13254d88-4464-4589-a330-fd28b1d592cf"
      },
      "outputs": [
        {
          "data": {
            "text/plain": [
              "array([ 0.75136332, -0.26346554, -0.31568491, -0.50116215, -2.29583174,\n",
              "       -0.31987798,  0.7449854 ,  1.41770807,  0.50502996,  1.45690021,\n",
              "       -0.12550726, -1.21746501,  0.63695017, -0.16482506, -0.67778815,\n",
              "        3.26485313,  0.53053058,  0.51538788,  0.19600201,  1.26945432])"
            ]
          },
          "execution_count": 13,
          "metadata": {},
          "output_type": "execute_result"
        }
      ],
      "source": [
        "np.random.normal(size=20)"
      ]
    },
    {
      "cell_type": "markdown",
      "metadata": {
        "id": "TppPZYZtRKnQ"
      },
      "source": [
        "####10.- Crear la siguiente matriz \n",
        "\n",
        "\n",
        "      array( [[ 0.01,  0.02,  0.03,  0.04,  0.05,  0.06,  0.07,  0.08,  0.09,  0.1 ],\n",
        "              [ 0.11,  0.12,  0.13,  0.14,  0.15,  0.16,  0.17,  0.18,  0.19,  0.2 ],\n",
        "              [ 0.21,  0.22,  0.23,  0.24,  0.25,  0.26,  0.27,  0.28,  0.29,  0.3 ],\n",
        "              [ 0.31,  0.32,  0.33,  0.34,  0.35,  0.36,  0.37,  0.38,  0.39,  0.4 ],\n",
        "              [ 0.41,  0.42,  0.43,  0.44,  0.45,  0.46,  0.47,  0.48,  0.49,  0.5 ],\n",
        "              [ 0.51,  0.52,  0.53,  0.54,  0.55,  0.56,  0.57,  0.58,  0.59,  0.6 ],\n",
        "              [ 0.61,  0.62,  0.63,  0.64,  0.65,  0.66,  0.67,  0.68,  0.69,  0.7 ],\n",
        "              [ 0.71,  0.72,  0.73,  0.74,  0.75,  0.76,  0.77,  0.78,  0.79,  0.8 ],\n",
        "              [ 0.81,  0.82,  0.83,  0.84,  0.85,  0.86,  0.87,  0.88,  0.89,  0.9 ],\n",
        "              [ 0.91,  0.92,  0.93,  0.94,  0.95,  0.96,  0.97,  0.98,  0.99,  1.  ]])"
      ]
    },
    {
      "cell_type": "code",
      "execution_count": 17,
      "metadata": {
        "id": "K2_4zdvbRKnQ",
        "outputId": "18500052-599d-43c1-bc6c-604063041eb8"
      },
      "outputs": [
        {
          "data": {
            "text/plain": [
              "array([0.  , 0.01, 0.02, 0.03, 0.04, 0.05, 0.06, 0.07, 0.08, 0.09, 0.1 ,\n",
              "       0.11, 0.12, 0.13, 0.14, 0.15, 0.16, 0.17, 0.18, 0.19, 0.2 , 0.21,\n",
              "       0.22, 0.23, 0.24, 0.25, 0.26, 0.27, 0.28, 0.29, 0.3 , 0.31, 0.32,\n",
              "       0.33, 0.34, 0.35, 0.36, 0.37, 0.38, 0.39, 0.4 , 0.41, 0.42, 0.43,\n",
              "       0.44, 0.45, 0.46, 0.47, 0.48, 0.49, 0.5 , 0.51, 0.52, 0.53, 0.54,\n",
              "       0.55, 0.56, 0.57, 0.58, 0.59, 0.6 , 0.61, 0.62, 0.63, 0.64, 0.65,\n",
              "       0.66, 0.67, 0.68, 0.69, 0.7 , 0.71, 0.72, 0.73, 0.74, 0.75, 0.76,\n",
              "       0.77, 0.78, 0.79, 0.8 , 0.81, 0.82, 0.83, 0.84, 0.85, 0.86, 0.87,\n",
              "       0.88, 0.89, 0.9 , 0.91, 0.92, 0.93, 0.94, 0.95, 0.96, 0.97, 0.98,\n",
              "       0.99, 1.  ])"
            ]
          },
          "execution_count": 17,
          "metadata": {},
          "output_type": "execute_result"
        }
      ],
      "source": [
        "np.arange(0,1.01,0.01)"
      ]
    },
    {
      "cell_type": "markdown",
      "metadata": {
        "id": "BUtsWZd0RKnR"
      },
      "source": [
        "####11.- Crear un arreglo de 20 elementos equidistantes entre los valores de 0 a 1 "
      ]
    },
    {
      "cell_type": "code",
      "execution_count": 18,
      "metadata": {
        "id": "bx8X8ZCxRKnS",
        "outputId": "034a37e2-a89e-4047-c790-e763a5f7f771"
      },
      "outputs": [
        {
          "data": {
            "text/plain": [
              "array([0.        , 0.05263158, 0.10526316, 0.15789474, 0.21052632,\n",
              "       0.26315789, 0.31578947, 0.36842105, 0.42105263, 0.47368421,\n",
              "       0.52631579, 0.57894737, 0.63157895, 0.68421053, 0.73684211,\n",
              "       0.78947368, 0.84210526, 0.89473684, 0.94736842, 1.        ])"
            ]
          },
          "execution_count": 18,
          "metadata": {},
          "output_type": "execute_result"
        }
      ],
      "source": [
        "np.linspace(0,1,20)"
      ]
    },
    {
      "cell_type": "markdown",
      "metadata": {
        "id": "Ekf74AOoRKnS"
      },
      "source": [
        "## Indexación en arreglos numpy \n",
        "\n",
        "En esta sección se evaluará su conocimiento para obtener porciones de la matriz presentada en la ejecución de la siguiente celda. Para replicar las salidas mostradas, tienen que usar exclusivamente indexación "
      ]
    },
    {
      "cell_type": "code",
      "execution_count": 28,
      "metadata": {
        "id": "RY_Q7qDoRKnT",
        "outputId": "9b6d8a84-d4cf-4771-b3f8-6d94dd946177"
      },
      "outputs": [
        {
          "data": {
            "text/plain": [
              "array([[ 1,  2,  3,  4,  5],\n",
              "       [ 6,  7,  8,  9, 10],\n",
              "       [11, 12, 13, 14, 15],\n",
              "       [16, 17, 18, 19, 20],\n",
              "       [21, 22, 23, 24, 25]])"
            ]
          },
          "execution_count": 28,
          "metadata": {},
          "output_type": "execute_result"
        }
      ],
      "source": [
        "A=np.arange(1,26).reshape(5,5)\n",
        "A"
      ]
    },
    {
      "cell_type": "markdown",
      "metadata": {
        "collapsed": true,
        "id": "H1RrOVN8RKnT"
      },
      "source": [
        "12.- Extraer la siguiente matriz: \n",
        "array([[12, 13, 14, 15],\n",
        "       [17, 18, 19, 20],\n",
        "       [22, 23, 24, 25]])"
      ]
    },
    {
      "cell_type": "code",
      "execution_count": 29,
      "metadata": {
        "id": "eIUbx3U7RKnU",
        "outputId": "c3e02d56-72f7-45a2-f0c8-c4a2950fcf7b"
      },
      "outputs": [
        {
          "data": {
            "text/plain": [
              "array([[12, 13, 14, 15],\n",
              "       [17, 18, 19, 20],\n",
              "       [22, 23, 24, 25]])"
            ]
          },
          "execution_count": 29,
          "metadata": {},
          "output_type": "execute_result"
        }
      ],
      "source": [
        "A[2::,1::]"
      ]
    },
    {
      "cell_type": "markdown",
      "metadata": {
        "collapsed": true,
        "id": "_JuwgfESRKnU"
      },
      "source": [
        "13.- Extraer la siguiente celda:  15"
      ]
    },
    {
      "cell_type": "code",
      "execution_count": 30,
      "metadata": {
        "id": "C0susDucRKnU",
        "outputId": "fcffd6de-be74-41b7-a8ef-752e116d0ba7"
      },
      "outputs": [
        {
          "data": {
            "text/plain": [
              "15"
            ]
          },
          "execution_count": 30,
          "metadata": {},
          "output_type": "execute_result"
        }
      ],
      "source": [
        "A[2,4]"
      ]
    },
    {
      "cell_type": "markdown",
      "metadata": {
        "collapsed": true,
        "id": "BM-urp9eRKnV"
      },
      "source": [
        "14.- Extraer la siguiente matriz: \n",
        " \n",
        "```\n",
        "   array([[ 2],\n",
        "          [ 7],\n",
        "          [12])\n",
        "```\n",
        "\n"
      ]
    },
    {
      "cell_type": "code",
      "execution_count": 35,
      "metadata": {
        "id": "aSH0z6HHRKnV",
        "outputId": "90876894-be26-4685-b65f-94ce9d69cb5f"
      },
      "outputs": [
        {
          "data": {
            "text/plain": [
              "array([ 2,  7, 12])"
            ]
          },
          "execution_count": 35,
          "metadata": {},
          "output_type": "execute_result"
        }
      ],
      "source": [
        "A[:3,1]"
      ]
    },
    {
      "cell_type": "markdown",
      "metadata": {
        "collapsed": true,
        "id": "CuQQ873pRKnV"
      },
      "source": [
        "15.- Extraer la siguiente matriz:  `array([21, 22, 23, 24, 25])`"
      ]
    },
    {
      "cell_type": "code",
      "execution_count": 36,
      "metadata": {
        "id": "2yPFZVN2RKnV",
        "outputId": "9d5e5864-a6e4-46f2-cf23-a8a163b72012"
      },
      "outputs": [
        {
          "data": {
            "text/plain": [
              "array([21, 22, 23, 24, 25])"
            ]
          },
          "execution_count": 36,
          "metadata": {},
          "output_type": "execute_result"
        }
      ],
      "source": [
        "A[-1]"
      ]
    },
    {
      "cell_type": "markdown",
      "metadata": {
        "collapsed": true,
        "id": "AA2qqeloRKnW"
      },
      "source": [
        "16.- Extraer la siguiente matriz:     \n",
        "```\n",
        "array([[16, 17, 18, 19, 20],\n",
        "       [21, 22, 23, 24, 25]])\n",
        "\n",
        "```\n",
        "\n"
      ]
    },
    {
      "cell_type": "code",
      "execution_count": 37,
      "metadata": {
        "id": "cysJXP18RKnW",
        "outputId": "0637be6c-6aba-4285-c26e-68fbc38d46fe"
      },
      "outputs": [
        {
          "data": {
            "text/plain": [
              "array([[16, 17, 18, 19, 20],\n",
              "       [21, 22, 23, 24, 25]])"
            ]
          },
          "execution_count": 37,
          "metadata": {},
          "output_type": "execute_result"
        }
      ],
      "source": [
        "A[-2:]"
      ]
    },
    {
      "cell_type": "markdown",
      "metadata": {
        "id": "AVmljVNCRKnW"
      },
      "source": [
        "### Operaciones adiciones \n",
        "\n",
        "No todo puede ser cubierto por el curso sin embargo existen funciones para hacerlo [funciones universales](http://docs.scipy.org/doc/numpy/reference/ufuncs.html)\n"
      ]
    },
    {
      "cell_type": "markdown",
      "metadata": {
        "id": "gOvEULeeRKnW"
      },
      "source": [
        "17.- Obtener la suma de todos los valores en la matriz **mat**"
      ]
    },
    {
      "cell_type": "code",
      "execution_count": 39,
      "metadata": {
        "id": "HvK2H395RKnW",
        "outputId": "7f1984e7-7f30-4907-918a-766b62ec5e1f"
      },
      "outputs": [
        {
          "data": {
            "text/plain": [
              "325"
            ]
          },
          "execution_count": 39,
          "metadata": {},
          "output_type": "execute_result"
        }
      ],
      "source": [
        "A.sum()"
      ]
    },
    {
      "cell_type": "markdown",
      "metadata": {
        "id": "VLFFR8C1RKnX"
      },
      "source": [
        "18.- Obtener la desviación estándar de la matriz **mat**"
      ]
    },
    {
      "cell_type": "code",
      "execution_count": 40,
      "metadata": {
        "id": "JFeKK4gcRKnX",
        "outputId": "2fe1934d-75b9-496d-b2fa-2ed8b6ffdb76"
      },
      "outputs": [
        {
          "data": {
            "text/plain": [
              "7.211102550927978"
            ]
          },
          "execution_count": 40,
          "metadata": {},
          "output_type": "execute_result"
        }
      ],
      "source": [
        "A.std()"
      ]
    },
    {
      "cell_type": "markdown",
      "metadata": {
        "id": "CxHlFl2FRKnX"
      },
      "source": [
        "19.- Obtener la suma de cada una de las columnas en  la matriz **mat**"
      ]
    },
    {
      "cell_type": "code",
      "execution_count": 42,
      "metadata": {
        "id": "QwH0ephpRKnX",
        "outputId": "1898bb1e-95f5-4b1d-f651-b4c77cce81b4"
      },
      "outputs": [
        {
          "data": {
            "text/plain": [
              "array([55, 60, 65, 70, 75])"
            ]
          },
          "execution_count": 42,
          "metadata": {},
          "output_type": "execute_result"
        }
      ],
      "source": [
        "A.sum(axis=0)"
      ]
    },
    {
      "cell_type": "markdown",
      "metadata": {
        "collapsed": true,
        "id": "p9FCJKLLRKnY"
      },
      "source": [
        "# Buen trabajo "
      ]
    }
  ],
  "metadata": {
    "colab": {
      "name": "Ejercicios_2_NumPy.ipynb",
      "provenance": []
    },
    "kernelspec": {
      "display_name": "Python 3.9.0 ('CIC_GPU')",
      "language": "python",
      "name": "python3"
    },
    "language_info": {
      "codemirror_mode": {
        "name": "ipython",
        "version": 3
      },
      "file_extension": ".py",
      "mimetype": "text/x-python",
      "name": "python",
      "nbconvert_exporter": "python",
      "pygments_lexer": "ipython3",
      "version": "3.9.0"
    },
    "vscode": {
      "interpreter": {
        "hash": "b4dee9c77bc81e8bc3192f031245e7af43a1d4d0287b5c55b4b36e62661d36f5"
      }
    }
  },
  "nbformat": 4,
  "nbformat_minor": 0
}
